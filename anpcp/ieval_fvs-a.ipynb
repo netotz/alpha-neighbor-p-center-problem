{
 "cells": [
  {
   "cell_type": "markdown",
   "metadata": {},
   "source": [
    "# Step-by-step evaluation of FVS-A"
   ]
  },
  {
   "cell_type": "markdown",
   "metadata": {},
   "source": [
    "After evaluating the fast vertex substitution (FVS) algorithm for the ANPCP, it was detected that the auxiliary data structures were not enough to accurately solve the ANPCP because the algorithm was originally designed for the PCP.\n",
    "Then the same step-by-step evaluation was made for the PCP and it was proved that in that case, FVS works as expected.\n",
    "This last exercise also helped to better understand the functionality of FVS, making it easier to adapt it for the ANPCP.\n",
    "Both evaluations can be found as Jupyter notebooks in the current directory.\n",
    "\n",
    "The following hypothesis was stated when the FVS was evaluated for ANPCP:\n",
    "\n",
    "> It seems like the group of users that are attracted to $f_i$ needs to be split in 2 groups (and data structures):\n",
    "> \n",
    "> 1. Those that $f_\\alpha \\leftarrow f_i$\n",
    "> 2. And those that $f_\\alpha \\leftarrow f_{\\alpha - 1}$\n",
    "> \n",
    "> Also it seems that because the open facilities closer than $f_\\alpha$ determine it, more data structures are needed to store their distances too (currently, for $z$ only $d_\\alpha$ and $d_{\\alpha + 1}$ are considerated).\n",
    "\n",
    "As a result, a modified algorithm is going to be evaluated now, called FVS-A, with two changes:\n",
    "- A new variable is introduced for the objective function of case 2, represented as $\\bar{x'}$.\n",
    "- Data structure $z$ has the same size $p$, but now all the $\\alpha$-neighbors of every user are going to be updated, not only its center: $f_1, ..., f_\\alpha$."
   ]
  },
  {
   "cell_type": "markdown",
   "metadata": {},
   "source": [
    "## Initial fixed data"
   ]
  },
  {
   "cell_type": "code",
   "execution_count": null,
   "metadata": {},
   "outputs": [],
   "source": [
    "from models.instance import Instance\n",
    "from models.solver import Solver\n",
    "from models.vertex import Vertex"
   ]
  },
  {
   "cell_type": "code",
   "execution_count": null,
   "metadata": {},
   "outputs": [],
   "source": [
    "users = [\n",
    "    Vertex(0, 5, 80),\n",
    "    Vertex(1, 43, 34),\n",
    "    Vertex(2, 22, 70),\n",
    "    Vertex(3, 80, 10),\n",
    "    Vertex(4, 9, 11),\n",
    "    Vertex(5, 60, 75)\n",
    "]\n",
    "\n",
    "facilities = [\n",
    "    Vertex(0, 30, 50),\n",
    "    Vertex(1, 81, 61),\n",
    "    Vertex(2, 11, 21),\n",
    "    Vertex(3, 55, 25)\n",
    "]\n",
    "\n",
    "instance = Instance(users, facilities)"
   ]
  },
  {
   "cell_type": "markdown",
   "metadata": {},
   "source": [
    "- $n = 6$\n",
    "- $m = 4$\n",
    "- $p = 3$\n",
    "- $\\alpha = 2$"
   ]
  },
  {
   "cell_type": "code",
   "execution_count": null,
   "metadata": {},
   "outputs": [],
   "source": [
    "solver = Solver(instance, 3, 2)\n",
    "\n",
    "solver.solution.open_facilities = {0, 2, 3}\n",
    "solver.solution.closed_facilities = {1}\n",
    "solver.allocate_all()\n",
    "solver.update_obj_func()\n",
    "\n",
    "solver.plot()"
   ]
  },
  {
   "cell_type": "markdown",
   "metadata": {},
   "source": [
    "The objective function value, $x$, is:"
   ]
  },
  {
   "cell_type": "code",
   "execution_count": null,
   "metadata": {},
   "outputs": [],
   "source": [
    "solver.solution.get_objective_function()"
   ]
  },
  {
   "cell_type": "markdown",
   "metadata": {},
   "source": [
    "The critical allocation determines $x$:"
   ]
  },
  {
   "cell_type": "code",
   "execution_count": null,
   "metadata": {},
   "outputs": [],
   "source": [
    "solver.solution.critical_allocation"
   ]
  },
  {
   "cell_type": "markdown",
   "metadata": {},
   "source": [
    "The critical facility $f_*$ is $0$ and the critical user $u_*$ is $3$, and their distance is $x = 64$."
   ]
  },
  {
   "cell_type": "markdown",
   "metadata": {},
   "source": [
    "## The algorithm"
   ]
  },
  {
   "cell_type": "markdown",
   "metadata": {},
   "source": [
    "### Iteration 1"
   ]
  },
  {
   "cell_type": "code",
   "execution_count": null,
   "metadata": {},
   "outputs": [],
   "source": [
    "import sys\n",
    "\n",
    "best_obj_func = sys.maxsize\n",
    "best_in = -1\n",
    "best_out = -1"
   ]
  },
  {
   "cell_type": "markdown",
   "metadata": {},
   "source": [
    "#### Loop closed facilities"
   ]
  },
  {
   "cell_type": "code",
   "execution_count": null,
   "metadata": {},
   "outputs": [],
   "source": [
    "solver.solution.closed_facilities"
   ]
  },
  {
   "cell_type": "markdown",
   "metadata": {},
   "source": [
    "If facility $1$ is inserted, $f_i = 1$, its distance to $u_*$ would be"
   ]
  },
  {
   "cell_type": "code",
   "execution_count": null,
   "metadata": {},
   "outputs": [],
   "source": [
    "fi_distance = solver.instance.get_distance(3, 1)\n",
    "fi_distance"
   ]
  },
  {
   "cell_type": "markdown",
   "metadata": {},
   "source": [
    "which is less than $x$, $51 < 64$. This means the $x$ can be broken and find a better value, so $f_i$ remains as $1$.\n",
    "\n",
    "Now let's evaluate `move()`.\n",
    "\n",
    "##### Find a facility to close or remove from the solution, $f_r$, when $f_i = 1$."
   ]
  },
  {
   "cell_type": "code",
   "execution_count": null,
   "metadata": {},
   "outputs": [],
   "source": [
    "current_of = 0\n",
    "r = {0:0, 2:0, 3:0}\n",
    "z = {0:0, 2:0, 3:0}"
   ]
  },
  {
   "cell_type": "markdown",
   "metadata": {},
   "source": [
    "###### Loop users"
   ]
  },
  {
   "cell_type": "code",
   "execution_count": null,
   "metadata": {},
   "outputs": [],
   "source": [
    "solver.instance.users_indexes"
   ]
  },
  {
   "cell_type": "markdown",
   "metadata": {},
   "source": [
    "$u = 0$"
   ]
  },
  {
   "cell_type": "code",
   "execution_count": null,
   "metadata": {},
   "outputs": [],
   "source": [
    "u_fi_dist = solver.instance.get_distance(0, 1)\n",
    "u_fi_dist"
   ]
  },
  {
   "cell_type": "code",
   "execution_count": null,
   "metadata": {},
   "outputs": [],
   "source": [
    "closests = solver.get_alpha_range_closests(0)\n",
    "closests"
   ]
  },
  {
   "cell_type": "markdown",
   "metadata": {},
   "source": [
    "The $\\alpha$-th (in this case second, $\\alpha = 2$) closest facility of $u$ is index $2$, $f_\\alpha(u) = 2$.\n",
    "\n",
    "$f_i$ is not closer to $u$ than $f_\\alpha$:\n",
    "\n",
    "$d_i > d_\\alpha \\rightarrow 78 > 59$\n",
    "\n",
    "So data structures $r$ and $z$ need to be updated by \"deleting\" $f_\\alpha = 2$.\n",
    "\n",
    "- $r(f_\\alpha) \\leftarrow \\max\\{ r(f_\\alpha), d_\\alpha \\}$\n",
    "- $r(2) \\leftarrow \\max\\{ r(2), d_2 \\}$"
   ]
  },
  {
   "cell_type": "code",
   "execution_count": null,
   "metadata": {},
   "outputs": [],
   "source": [
    "r[2]"
   ]
  },
  {
   "cell_type": "code",
   "execution_count": null,
   "metadata": {},
   "outputs": [],
   "source": [
    "closests[2].distance"
   ]
  },
  {
   "cell_type": "markdown",
   "metadata": {},
   "source": [
    "- $r(2) \\leftarrow \\max\\{ 0, 59 \\}$"
   ]
  },
  {
   "cell_type": "code",
   "execution_count": null,
   "metadata": {},
   "outputs": [],
   "source": [
    "r[2] = 59"
   ]
  },
  {
   "cell_type": "markdown",
   "metadata": {},
   "source": [
    "- $z(f_\\alpha) \\leftarrow \\max\\{ z(f_\\alpha), \\min\\{ d_i, d_{\\alpha + 1} \\} \\}$\n",
    "- $z(2) \\leftarrow \\max\\{ z(2), \\min\\{ d_i, d_{3} \\} \\}$"
   ]
  },
  {
   "cell_type": "code",
   "execution_count": null,
   "metadata": {},
   "outputs": [],
   "source": [
    "z[2]"
   ]
  },
  {
   "cell_type": "code",
   "execution_count": null,
   "metadata": {},
   "outputs": [],
   "source": [
    "u_fi_dist"
   ]
  },
  {
   "cell_type": "code",
   "execution_count": null,
   "metadata": {},
   "outputs": [],
   "source": [
    "closests[3].distance"
   ]
  },
  {
   "cell_type": "markdown",
   "metadata": {},
   "source": [
    "- $z(2) \\leftarrow \\max\\{ 0, \\min\\{ 78, 74 \\} \\}$"
   ]
  },
  {
   "cell_type": "code",
   "execution_count": null,
   "metadata": {},
   "outputs": [],
   "source": [
    "min(78, 74)"
   ]
  },
  {
   "cell_type": "markdown",
   "metadata": {},
   "source": [
    "- $z(2) \\leftarrow \\max\\{ 0, 74 \\}$"
   ]
  },
  {
   "cell_type": "code",
   "execution_count": null,
   "metadata": {},
   "outputs": [],
   "source": [
    "z[2] = 74"
   ]
  },
  {
   "cell_type": "markdown",
   "metadata": {},
   "source": [
    "Next user $u = 1$"
   ]
  },
  {
   "cell_type": "code",
   "execution_count": null,
   "metadata": {},
   "outputs": [],
   "source": [
    "u_fi_dist = solver.instance.get_distance(1, 1)\n",
    "u_fi_dist"
   ]
  },
  {
   "cell_type": "code",
   "execution_count": null,
   "metadata": {},
   "outputs": [],
   "source": [
    "closests = solver.get_alpha_range_closests(1)\n",
    "closests"
   ]
  },
  {
   "cell_type": "code",
   "execution_count": null,
   "metadata": {},
   "outputs": [],
   "source": [
    "closests[2]"
   ]
  },
  {
   "cell_type": "markdown",
   "metadata": {},
   "source": [
    "$f_\\alpha = 0$, $d_\\alpha = 21$"
   ]
  },
  {
   "cell_type": "markdown",
   "metadata": {},
   "source": [
    "$d_i > d_\\alpha$ so update $r$ and $z$."
   ]
  },
  {
   "cell_type": "code",
   "execution_count": null,
   "metadata": {},
   "outputs": [],
   "source": [
    "r[0]"
   ]
  },
  {
   "cell_type": "code",
   "execution_count": null,
   "metadata": {},
   "outputs": [],
   "source": [
    "r[0] = 21"
   ]
  },
  {
   "cell_type": "code",
   "execution_count": null,
   "metadata": {},
   "outputs": [],
   "source": [
    "z[0]"
   ]
  },
  {
   "cell_type": "code",
   "execution_count": null,
   "metadata": {},
   "outputs": [],
   "source": [
    "min(47, 35)"
   ]
  },
  {
   "cell_type": "code",
   "execution_count": null,
   "metadata": {},
   "outputs": [],
   "source": [
    "z[0] = 35"
   ]
  },
  {
   "cell_type": "markdown",
   "metadata": {},
   "source": [
    "Next user $u = 2$."
   ]
  },
  {
   "cell_type": "code",
   "execution_count": null,
   "metadata": {},
   "outputs": [],
   "source": [
    "u_fi_dist = solver.instance.get_distance(2, 1)\n",
    "u_fi_dist"
   ]
  },
  {
   "cell_type": "code",
   "execution_count": null,
   "metadata": {},
   "outputs": [],
   "source": [
    "closests = solver.get_alpha_range_closests(2)\n",
    "closests"
   ]
  },
  {
   "cell_type": "markdown",
   "metadata": {},
   "source": [
    "$60 > 50$ so update $r$ and $z$."
   ]
  },
  {
   "cell_type": "code",
   "execution_count": null,
   "metadata": {},
   "outputs": [],
   "source": [
    "r[2]"
   ]
  },
  {
   "cell_type": "code",
   "execution_count": null,
   "metadata": {},
   "outputs": [],
   "source": [
    "max(59, 50)"
   ]
  },
  {
   "cell_type": "markdown",
   "metadata": {},
   "source": [
    "$r(2)$ doesn't change."
   ]
  },
  {
   "cell_type": "code",
   "execution_count": null,
   "metadata": {},
   "outputs": [],
   "source": [
    "z[2]"
   ]
  },
  {
   "cell_type": "code",
   "execution_count": null,
   "metadata": {},
   "outputs": [],
   "source": [
    "min(60, 56)"
   ]
  },
  {
   "cell_type": "code",
   "execution_count": null,
   "metadata": {},
   "outputs": [],
   "source": [
    "max(74, 56)"
   ]
  },
  {
   "cell_type": "markdown",
   "metadata": {},
   "source": [
    "$z(2)$ doesn't change either.\n",
    "\n",
    "Next user $u = 3$"
   ]
  },
  {
   "cell_type": "code",
   "execution_count": null,
   "metadata": {},
   "outputs": [],
   "source": [
    "u_fi_dist = solver.instance.get_distance(3, 1)\n",
    "u_fi_dist"
   ]
  },
  {
   "cell_type": "code",
   "execution_count": null,
   "metadata": {},
   "outputs": [],
   "source": [
    "closests = solver.get_alpha_range_closests(3)\n",
    "closests"
   ]
  },
  {
   "cell_type": "markdown",
   "metadata": {},
   "source": [
    "This $u$ is $u_*$. This is the case that breaks $x$, the reason to enter this current loop, because $d_\\alpha(u) = 64$ is $x$, and $d_i = 51$ is less than that."
   ]
  },
  {
   "cell_type": "code",
   "execution_count": null,
   "metadata": {},
   "outputs": [],
   "source": [
    "solver.plot()"
   ]
  },
  {
   "cell_type": "markdown",
   "metadata": {},
   "source": [
    "So update the current objective function $x'$:\n",
    "\n",
    "- $x' \\leftarrow \\max\\{ x', \\max\\{ d_i, d_{\\alpha - 1} \\} \\}$"
   ]
  },
  {
   "cell_type": "code",
   "execution_count": null,
   "metadata": {},
   "outputs": [],
   "source": [
    "current_of"
   ]
  },
  {
   "cell_type": "markdown",
   "metadata": {},
   "source": [
    "- $x' \\leftarrow \\max\\{ 0, \\max\\{ 51, 29 \\} \\}$"
   ]
  },
  {
   "cell_type": "code",
   "execution_count": null,
   "metadata": {},
   "outputs": [],
   "source": [
    "max(51, 29)"
   ]
  },
  {
   "cell_type": "markdown",
   "metadata": {},
   "source": [
    "- $x' \\leftarrow \\max\\{ 0, 51 \\}$"
   ]
  },
  {
   "cell_type": "code",
   "execution_count": null,
   "metadata": {},
   "outputs": [],
   "source": [
    "current_of = 51"
   ]
  },
  {
   "cell_type": "markdown",
   "metadata": {},
   "source": [
    "Due to $d_i < d_\\alpha$, data structures $r$ and $z$ don't get updated.\n",
    "\n",
    "Next user $u = 4$"
   ]
  },
  {
   "cell_type": "code",
   "execution_count": null,
   "metadata": {},
   "outputs": [],
   "source": [
    "u_fi_dist = solver.instance.get_distance(4, 1)\n",
    "u_fi_dist"
   ]
  },
  {
   "cell_type": "code",
   "execution_count": null,
   "metadata": {},
   "outputs": [],
   "source": [
    "closests = solver.get_alpha_range_closests(4)\n",
    "closests"
   ]
  },
  {
   "cell_type": "markdown",
   "metadata": {},
   "source": [
    "$88 > 44$ so update $r$ and $z$."
   ]
  },
  {
   "cell_type": "code",
   "execution_count": null,
   "metadata": {},
   "outputs": [],
   "source": [
    "r[0]"
   ]
  },
  {
   "cell_type": "code",
   "execution_count": null,
   "metadata": {},
   "outputs": [],
   "source": [
    "max(21, 44)"
   ]
  },
  {
   "cell_type": "code",
   "execution_count": null,
   "metadata": {},
   "outputs": [],
   "source": [
    "r[0] = 44"
   ]
  },
  {
   "cell_type": "code",
   "execution_count": null,
   "metadata": {},
   "outputs": [],
   "source": [
    "z[0]"
   ]
  },
  {
   "cell_type": "code",
   "execution_count": null,
   "metadata": {},
   "outputs": [],
   "source": [
    "min(88, 48)"
   ]
  },
  {
   "cell_type": "code",
   "execution_count": null,
   "metadata": {},
   "outputs": [],
   "source": [
    "max(35, 48)"
   ]
  },
  {
   "cell_type": "code",
   "execution_count": null,
   "metadata": {},
   "outputs": [],
   "source": [
    "z[0] = 48"
   ]
  },
  {
   "cell_type": "markdown",
   "metadata": {},
   "source": [
    "Next user $u = 5$"
   ]
  },
  {
   "cell_type": "code",
   "execution_count": null,
   "metadata": {},
   "outputs": [],
   "source": [
    "u_fi_dist = solver.instance.get_distance(5, 1)\n",
    "u_fi_dist"
   ]
  },
  {
   "cell_type": "code",
   "execution_count": null,
   "metadata": {},
   "outputs": [],
   "source": [
    "closests = solver.get_alpha_range_closests(5)\n",
    "closests"
   ]
  },
  {
   "cell_type": "markdown",
   "metadata": {},
   "source": [
    "$25 < 50$ so update $x'$"
   ]
  },
  {
   "cell_type": "code",
   "execution_count": null,
   "metadata": {},
   "outputs": [],
   "source": [
    "current_of"
   ]
  },
  {
   "cell_type": "code",
   "execution_count": null,
   "metadata": {},
   "outputs": [],
   "source": [
    "max(25, 39)"
   ]
  },
  {
   "cell_type": "code",
   "execution_count": null,
   "metadata": {},
   "outputs": [],
   "source": [
    "max(51, 39)"
   ]
  },
  {
   "cell_type": "markdown",
   "metadata": {},
   "source": [
    "$x'$ doesn't change."
   ]
  },
  {
   "cell_type": "markdown",
   "metadata": {},
   "source": [
    "###### Find best deletion\n",
    "\n",
    "All users were compared, let's check the data structures:"
   ]
  },
  {
   "cell_type": "code",
   "execution_count": null,
   "metadata": {},
   "outputs": [],
   "source": [
    "current_of"
   ]
  },
  {
   "cell_type": "code",
   "execution_count": null,
   "metadata": {},
   "outputs": [],
   "source": [
    "r"
   ]
  },
  {
   "cell_type": "code",
   "execution_count": null,
   "metadata": {},
   "outputs": [],
   "source": [
    "z"
   ]
  },
  {
   "cell_type": "markdown",
   "metadata": {},
   "source": [
    "The largest distance, $g_1$, and the second largest distance, $g_2$, from $r$ are:"
   ]
  },
  {
   "cell_type": "code",
   "execution_count": null,
   "metadata": {},
   "outputs": [],
   "source": [
    "from models.moved_facility import MovedFacility\n",
    "\n",
    "g1 = MovedFacility(2, 59)\n",
    "g2 = MovedFacility(0, 44)"
   ]
  },
  {
   "cell_type": "markdown",
   "metadata": {},
   "source": [
    "Let $j_*$ be the corresponding index of $g_1$: $j_* = 2$."
   ]
  },
  {
   "cell_type": "markdown",
   "metadata": {},
   "source": [
    "Find $f_r$:\n",
    "\n",
    "$$f_r = \\min_{j \\in S}\\{ \\max\\{ x', z(j), \\max_{l \\neq j}{r(l)} \\} \\}$$"
   ]
  },
  {
   "cell_type": "markdown",
   "metadata": {},
   "source": [
    "Loop open facilities in the solution, $S$, which are also the indexes or keys of $z$ and $r$:"
   ]
  },
  {
   "cell_type": "code",
   "execution_count": null,
   "metadata": {},
   "outputs": [],
   "source": [
    "solver.solution.open_facilities"
   ]
  },
  {
   "cell_type": "markdown",
   "metadata": {},
   "source": [
    "For $j = 0$, $l \\in \\{ 2, 3 \\}$:"
   ]
  },
  {
   "cell_type": "code",
   "execution_count": null,
   "metadata": {},
   "outputs": [],
   "source": [
    "max(59, 0)"
   ]
  },
  {
   "cell_type": "markdown",
   "metadata": {},
   "source": [
    "$r(l) = 59$:"
   ]
  },
  {
   "cell_type": "code",
   "execution_count": null,
   "metadata": {},
   "outputs": [],
   "source": [
    "max(51, 48, 59)"
   ]
  },
  {
   "cell_type": "markdown",
   "metadata": {},
   "source": [
    "Now there's a better $f_r = j = 0$ with $x_* = 59$."
   ]
  },
  {
   "cell_type": "code",
   "execution_count": null,
   "metadata": {},
   "outputs": [],
   "source": [
    "fr = MovedFacility(0, 59)"
   ]
  },
  {
   "cell_type": "markdown",
   "metadata": {},
   "source": [
    "For $j = 2$, $l \\in \\{0, 3\\} $"
   ]
  },
  {
   "cell_type": "code",
   "execution_count": null,
   "metadata": {},
   "outputs": [],
   "source": [
    "max(44, 0)"
   ]
  },
  {
   "cell_type": "code",
   "execution_count": null,
   "metadata": {},
   "outputs": [],
   "source": [
    "max(51, 74, 44)"
   ]
  },
  {
   "cell_type": "markdown",
   "metadata": {},
   "source": [
    "$74 > 59$ so $x_*$ didn't improved and $f_r = 0$ is maintained."
   ]
  },
  {
   "cell_type": "markdown",
   "metadata": {},
   "source": [
    "For $j = 3$, $l \\in \\{0, 2\\}$"
   ]
  },
  {
   "cell_type": "code",
   "execution_count": null,
   "metadata": {},
   "outputs": [],
   "source": [
    "max(44, 59)"
   ]
  },
  {
   "cell_type": "code",
   "execution_count": null,
   "metadata": {},
   "outputs": [],
   "source": [
    "max(51, 0, 59)"
   ]
  },
  {
   "cell_type": "code",
   "execution_count": null,
   "metadata": {},
   "outputs": [],
   "source": [
    "solver.plot()"
   ]
  },
  {
   "cell_type": "code",
   "execution_count": null,
   "metadata": {},
   "outputs": [],
   "source": [
    "solver.swap(1, 0)\n",
    "solver.plot()\n",
    "solver.solution"
   ]
  },
  {
   "cell_type": "code",
   "execution_count": null,
   "metadata": {},
   "outputs": [],
   "source": [
    "solver.instance.distances"
   ]
  },
  {
   "cell_type": "code",
   "execution_count": null,
   "metadata": {},
   "outputs": [],
   "source": [
    "solver.instance.sorted_distances"
   ]
  },
  {
   "cell_type": "markdown",
   "metadata": {},
   "source": [
    "The result of inserting $1$ and removing $0$ is totally different of that we should get from data structures $x'$, $r$, and $z$.\n",
    "\n",
    "It seems like the group of users that are attracted to $f_i$ needs to be split in 2 groups (and data structures):\n",
    "\n",
    "- Those that $f_\\alpha \\leftarrow f_i$\n",
    "- And those that $f_\\alpha \\leftarrow f_{\\alpha - 1}$\n",
    "\n",
    "Also it seems that because the open facilities closer than $f_\\alpha$ determine it, more data structures are needed to store their distances too (currently, for $z$ only $d_\\alpha$ and $d_{\\alpha + 1}$ are considerated)."
   ]
  }
 ],
 "metadata": {
  "interpreter": {
   "hash": "6dd0c61e9b4d2af67229cba9d917edb9acbbabe70b8892ae1ceb3372db58071a"
  },
  "kernelspec": {
   "display_name": "Python 3.9.10 ('venv': venv)",
   "language": "python",
   "name": "python3"
  },
  "language_info": {
   "codemirror_mode": {
    "name": "ipython",
    "version": 3
   },
   "file_extension": ".py",
   "mimetype": "text/x-python",
   "name": "python",
   "nbconvert_exporter": "python",
   "pygments_lexer": "ipython3",
   "version": "3.9.10"
  },
  "orig_nbformat": 4
 },
 "nbformat": 4,
 "nbformat_minor": 2
}
