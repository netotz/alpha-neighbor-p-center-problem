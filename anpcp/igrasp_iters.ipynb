{
 "cells": [
  {
   "cell_type": "markdown",
   "metadata": {},
   "source": [
    "# Calibrating the number of iterations ($i_{\\max}$) to run GRASP"
   ]
  },
  {
   "cell_type": "code",
   "execution_count": 76,
   "metadata": {},
   "outputs": [
    {
     "data": {
      "text/html": [
       "<div>\n",
       "<style scoped>\n",
       "    .dataframe tbody tr th:only-of-type {\n",
       "        vertical-align: middle;\n",
       "    }\n",
       "\n",
       "    .dataframe tbody tr th {\n",
       "        vertical-align: top;\n",
       "    }\n",
       "\n",
       "    .dataframe thead th {\n",
       "        text-align: right;\n",
       "    }\n",
       "</style>\n",
       "<table border=\"1\" class=\"dataframe\">\n",
       "  <thead>\n",
       "    <tr style=\"text-align: right;\">\n",
       "      <th></th>\n",
       "      <th>iter</th>\n",
       "      <th>beta</th>\n",
       "      <th>RGD_OF</th>\n",
       "      <th>AFVS_OF</th>\n",
       "      <th>time</th>\n",
       "      <th>is_new_best</th>\n",
       "    </tr>\n",
       "  </thead>\n",
       "  <tbody>\n",
       "    <tr>\n",
       "      <th>0</th>\n",
       "      <td>0</td>\n",
       "      <td>0.795654</td>\n",
       "      <td>8025</td>\n",
       "      <td>4239</td>\n",
       "      <td>5.961818</td>\n",
       "      <td>True</td>\n",
       "    </tr>\n",
       "    <tr>\n",
       "      <th>1</th>\n",
       "      <td>1</td>\n",
       "      <td>0.867107</td>\n",
       "      <td>6803</td>\n",
       "      <td>4338</td>\n",
       "      <td>10.882905</td>\n",
       "      <td>False</td>\n",
       "    </tr>\n",
       "    <tr>\n",
       "      <th>2</th>\n",
       "      <td>2</td>\n",
       "      <td>0.800370</td>\n",
       "      <td>6163</td>\n",
       "      <td>4185</td>\n",
       "      <td>16.610197</td>\n",
       "      <td>True</td>\n",
       "    </tr>\n",
       "    <tr>\n",
       "      <th>3</th>\n",
       "      <td>3</td>\n",
       "      <td>0.188034</td>\n",
       "      <td>5413</td>\n",
       "      <td>4871</td>\n",
       "      <td>17.967098</td>\n",
       "      <td>False</td>\n",
       "    </tr>\n",
       "    <tr>\n",
       "      <th>4</th>\n",
       "      <td>4</td>\n",
       "      <td>0.866803</td>\n",
       "      <td>8129</td>\n",
       "      <td>4318</td>\n",
       "      <td>23.320361</td>\n",
       "      <td>False</td>\n",
       "    </tr>\n",
       "    <tr>\n",
       "      <th>...</th>\n",
       "      <td>...</td>\n",
       "      <td>...</td>\n",
       "      <td>...</td>\n",
       "      <td>...</td>\n",
       "      <td>...</td>\n",
       "      <td>...</td>\n",
       "    </tr>\n",
       "    <tr>\n",
       "      <th>4995</th>\n",
       "      <td>4995</td>\n",
       "      <td>0.855868</td>\n",
       "      <td>6959</td>\n",
       "      <td>4209</td>\n",
       "      <td>22258.566378</td>\n",
       "      <td>False</td>\n",
       "    </tr>\n",
       "    <tr>\n",
       "      <th>4996</th>\n",
       "      <td>4996</td>\n",
       "      <td>0.764274</td>\n",
       "      <td>6872</td>\n",
       "      <td>4388</td>\n",
       "      <td>22260.629341</td>\n",
       "      <td>False</td>\n",
       "    </tr>\n",
       "    <tr>\n",
       "      <th>4997</th>\n",
       "      <td>4997</td>\n",
       "      <td>0.529342</td>\n",
       "      <td>7116</td>\n",
       "      <td>4128</td>\n",
       "      <td>22266.790669</td>\n",
       "      <td>False</td>\n",
       "    </tr>\n",
       "    <tr>\n",
       "      <th>4998</th>\n",
       "      <td>4998</td>\n",
       "      <td>0.587886</td>\n",
       "      <td>6894</td>\n",
       "      <td>4176</td>\n",
       "      <td>22272.009903</td>\n",
       "      <td>False</td>\n",
       "    </tr>\n",
       "    <tr>\n",
       "      <th>4999</th>\n",
       "      <td>4999</td>\n",
       "      <td>0.799134</td>\n",
       "      <td>5793</td>\n",
       "      <td>3991</td>\n",
       "      <td>22278.605766</td>\n",
       "      <td>False</td>\n",
       "    </tr>\n",
       "  </tbody>\n",
       "</table>\n",
       "<p>5000 rows × 6 columns</p>\n",
       "</div>"
      ],
      "text/plain": [
       "      iter      beta  RGD_OF  AFVS_OF          time  is_new_best\n",
       "0        0  0.795654    8025     4239      5.961818         True\n",
       "1        1  0.867107    6803     4338     10.882905        False\n",
       "2        2  0.800370    6163     4185     16.610197         True\n",
       "3        3  0.188034    5413     4871     17.967098        False\n",
       "4        4  0.866803    8129     4318     23.320361        False\n",
       "...    ...       ...     ...      ...           ...          ...\n",
       "4995  4995  0.855868    6959     4209  22258.566378        False\n",
       "4996  4996  0.764274    6872     4388  22260.629341        False\n",
       "4997  4997  0.529342    7116     4128  22266.790669        False\n",
       "4998  4998  0.587886    6894     4176  22272.009903        False\n",
       "4999  4999  0.799134    5793     3991  22278.605766        False\n",
       "\n",
       "[5000 rows x 6 columns]"
      ]
     },
     "execution_count": 76,
     "metadata": {},
     "output_type": "execute_result"
    }
   ],
   "source": [
    "import pandas as pd\n",
    "from grasp_iters import read_results\n",
    "\n",
    "names = [\n",
    "    \"rat783_522_261_0_p20_a2\", # 0\n",
    "    \"rat783_522_261_0_p20_a3\",\n",
    "    \"rl1323_882_441_0_p20_a2\", # 2\n",
    "    \"rl1323_882_441_0_p20_a3\",\n",
    "    \"anpcp_882_441_0_p20_a2\",  # 4\n",
    "    \"anpcp_882_441_0_p20_a3\",\n",
    "]\n",
    "name = names[5]\n",
    "\n",
    "iters = read_results(name)\n",
    "\n",
    "iters"
   ]
  },
  {
   "cell_type": "code",
   "execution_count": 77,
   "metadata": {},
   "outputs": [
    {
     "data": {
      "text/plain": [
       "4.45541987361474"
      ]
     },
     "execution_count": 77,
     "metadata": {},
     "output_type": "execute_result"
    }
   ],
   "source": [
    "iters[\"time\"].diff().mean()"
   ]
  },
  {
   "cell_type": "code",
   "execution_count": 78,
   "metadata": {},
   "outputs": [],
   "source": [
    "def get_improvs(iters_df: pd.DataFrame):\n",
    "    improvs = iters_df[iters_df[\"is_new_best\"] == True].drop(\"is_new_best\", axis=1)\n",
    "\n",
    "    # multiplication is negative because the problem is a minimization problem,\n",
    "    # a decrease in the objective function (a negative percent change) means a better solution\n",
    "    percents = improvs[\"AFVS_OF\"].pct_change().mul(-100)\n",
    "    improvs.insert(loc=4, column=\"imp\", value=percents)\n",
    "\n",
    "    # iterations without improvement (iwi)\n",
    "    iter_diffs = improvs[\"iter\"].diff().fillna(0).astype(int)\n",
    "    improvs.insert(loc=6, column=\"iwi\", value=iter_diffs)\n",
    "\n",
    "    return improvs"
   ]
  },
  {
   "cell_type": "code",
   "execution_count": 79,
   "metadata": {},
   "outputs": [
    {
     "data": {
      "text/html": [
       "<div>\n",
       "<style scoped>\n",
       "    .dataframe tbody tr th:only-of-type {\n",
       "        vertical-align: middle;\n",
       "    }\n",
       "\n",
       "    .dataframe tbody tr th {\n",
       "        vertical-align: top;\n",
       "    }\n",
       "\n",
       "    .dataframe thead th {\n",
       "        text-align: right;\n",
       "    }\n",
       "</style>\n",
       "<table border=\"1\" class=\"dataframe\">\n",
       "  <thead>\n",
       "    <tr style=\"text-align: right;\">\n",
       "      <th></th>\n",
       "      <th>iter</th>\n",
       "      <th>beta</th>\n",
       "      <th>RGD_OF</th>\n",
       "      <th>AFVS_OF</th>\n",
       "      <th>imp</th>\n",
       "      <th>time</th>\n",
       "      <th>iwi</th>\n",
       "    </tr>\n",
       "  </thead>\n",
       "  <tbody>\n",
       "    <tr>\n",
       "      <th>0</th>\n",
       "      <td>0</td>\n",
       "      <td>0.795654</td>\n",
       "      <td>8025</td>\n",
       "      <td>4239</td>\n",
       "      <td>NaN</td>\n",
       "      <td>5.961818</td>\n",
       "      <td>0</td>\n",
       "    </tr>\n",
       "    <tr>\n",
       "      <th>2</th>\n",
       "      <td>2</td>\n",
       "      <td>0.800370</td>\n",
       "      <td>6163</td>\n",
       "      <td>4185</td>\n",
       "      <td>1.273885</td>\n",
       "      <td>16.610197</td>\n",
       "      <td>2</td>\n",
       "    </tr>\n",
       "    <tr>\n",
       "      <th>11</th>\n",
       "      <td>11</td>\n",
       "      <td>0.258486</td>\n",
       "      <td>5876</td>\n",
       "      <td>4112</td>\n",
       "      <td>1.744325</td>\n",
       "      <td>48.043793</td>\n",
       "      <td>9</td>\n",
       "    </tr>\n",
       "    <tr>\n",
       "      <th>14</th>\n",
       "      <td>14</td>\n",
       "      <td>0.139898</td>\n",
       "      <td>5454</td>\n",
       "      <td>4003</td>\n",
       "      <td>2.650778</td>\n",
       "      <td>62.732671</td>\n",
       "      <td>3</td>\n",
       "    </tr>\n",
       "    <tr>\n",
       "      <th>61</th>\n",
       "      <td>61</td>\n",
       "      <td>0.472395</td>\n",
       "      <td>5816</td>\n",
       "      <td>3985</td>\n",
       "      <td>0.449663</td>\n",
       "      <td>290.428416</td>\n",
       "      <td>47</td>\n",
       "    </tr>\n",
       "  </tbody>\n",
       "</table>\n",
       "</div>"
      ],
      "text/plain": [
       "    iter      beta  RGD_OF  AFVS_OF       imp        time  iwi\n",
       "0      0  0.795654    8025     4239       NaN    5.961818    0\n",
       "2      2  0.800370    6163     4185  1.273885   16.610197    2\n",
       "11    11  0.258486    5876     4112  1.744325   48.043793    9\n",
       "14    14  0.139898    5454     4003  2.650778   62.732671    3\n",
       "61    61  0.472395    5816     3985  0.449663  290.428416   47"
      ]
     },
     "execution_count": 79,
     "metadata": {},
     "output_type": "execute_result"
    }
   ],
   "source": [
    "improvs = get_improvs(iters)\n",
    "improvs"
   ]
  },
  {
   "cell_type": "code",
   "execution_count": 80,
   "metadata": {},
   "outputs": [
    {
     "name": "stderr",
     "output_type": "stream",
     "text": [
      "c:\\Users\\netoo\\local-personal\\repos\\alpha-neighbor-p-center-problem\\anpcp\\utils.py:104: FutureWarning: In future versions `DataFrame.to_latex` is expected to utilise the base implementation of `Styler.to_latex` for formatting and rendering. The arguments signature may therefore change. It is recommended instead to use `DataFrame.style.to_latex` which also contains additional functionality.\n",
      "  dataframe.to_latex(path, float_format=\"%.2f\", multirow=True)\n"
     ]
    }
   ],
   "source": [
    "from utils import format_latex_table\n",
    "\n",
    "format_latex_table(improvs, f\"nb_results\\\\grasp\\\\iters_improvs_{name}.tex\");"
   ]
  },
  {
   "cell_type": "code",
   "execution_count": 81,
   "metadata": {},
   "outputs": [],
   "source": [
    "import matplotlib.pyplot as plt\n",
    "\n",
    "def plot_improvs(\n",
    "    iters_df: pd.DataFrame,\n",
    "    lastimprov: int,\n",
    "    annotation_xdiff: int,\n",
    "    annotation_ydiff: int,\n",
    "    color: str = \"blue\",\n",
    "    filename: str = \"\"\n",
    "):\n",
    "    fig, ax = plt.subplots(figsize=(20, 5), dpi=150)\n",
    "    \n",
    "    ax.plot(\n",
    "        iters_df[\"iter\"][:lastimprov],\n",
    "        iters_df[\"AFVS_OF\"].cummin()[:lastimprov],\n",
    "        color=color,\n",
    "    )\n",
    "\n",
    "    for _, row in improvs.iterrows():\n",
    "        of = int(row[\"AFVS_OF\"])\n",
    "        i = int(row[\"iter\"])\n",
    "        percent = row[\"imp\"]\n",
    "\n",
    "        ax.annotate(\n",
    "            f\"x(S) = {of}\",\n",
    "            (i, of),\n",
    "            xytext=(i + annotation_xdiff, of + annotation_ydiff),\n",
    "        )\n",
    "\n",
    "    ax.set_title(f\"Improvements in $S$ during GRASP\")\n",
    "    ax.set_ylabel(\"$x(S)$\")\n",
    "    ax.set_xlabel(\"Iteration\")\n",
    "\n",
    "    if filename:\n",
    "        fig.savefig(filename, bbox_inches=\"tight\")\n",
    "    else:\n",
    "        plt.show()"
   ]
  },
  {
   "cell_type": "markdown",
   "metadata": {},
   "source": [
    "Manually adjust parameters to plot each instance"
   ]
  },
  {
   "cell_type": "code",
   "execution_count": 93,
   "metadata": {},
   "outputs": [
    {
     "data": {
      "image/png": "[encoded data removed]",
      "text/plain": [
       "<Figure size 3000x750 with 1 Axes>"
      ]
     },
     "metadata": {
      "needs_background": "light"
     },
     "output_type": "display_data"
    }
   ],
   "source": [
    "plot_improvs(\n",
    "    iters, 67, 0.1, 3.5,\n",
    "    \"tab:blue\" if name.endswith(\"2\") else \"tab:red\",\n",
    "    f\"nb_results\\\\grasp\\\\iters_plot_{name}.png\"\n",
    ")"
   ]
  },
  {
   "cell_type": "code",
   "execution_count": null,
   "metadata": {},
   "outputs": [],
   "source": []
  }
 ],
 "metadata": {
  "kernelspec": {
   "display_name": "Python 3.9.10 ('venv': venv)",
   "language": "python",
   "name": "python3"
  },
  "language_info": {
   "codemirror_mode": {
    "name": "ipython",
    "version": 3
   },
   "file_extension": ".py",
   "mimetype": "text/x-python",
   "name": "python",
   "nbconvert_exporter": "python",
   "pygments_lexer": "ipython3",
   "version": "3.9.10"
  },
  "orig_nbformat": 4,
  "vscode": {
   "interpreter": {
    "hash": "ad97895f709dca0dc7d3ba4157d0e2c81757a9972c4115d2a96c02efafd59066"
   }
  }
 },
 "nbformat": 4,
 "nbformat_minor": 2
}
