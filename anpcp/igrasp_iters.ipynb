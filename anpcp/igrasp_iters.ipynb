{
 "cells": [
  {
   "cell_type": "markdown",
   "metadata": {},
   "source": [
    "# Calibrating the number of iterations ($i_{\\max}$) to run GRASP"
   ]
  },
  {
   "cell_type": "code",
   "execution_count": 1,
   "metadata": {},
   "outputs": [
    {
     "data": {
      "text/html": [
       "<div>\n",
       "<style scoped>\n",
       "    .dataframe tbody tr th:only-of-type {\n",
       "        vertical-align: middle;\n",
       "    }\n",
       "\n",
       "    .dataframe tbody tr th {\n",
       "        vertical-align: top;\n",
       "    }\n",
       "\n",
       "    .dataframe thead th {\n",
       "        text-align: right;\n",
       "    }\n",
       "</style>\n",
       "<table border=\"1\" class=\"dataframe\">\n",
       "  <thead>\n",
       "    <tr style=\"text-align: right;\">\n",
       "      <th></th>\n",
       "      <th>iter</th>\n",
       "      <th>beta</th>\n",
       "      <th>RGD_OF</th>\n",
       "      <th>AFVS_OF</th>\n",
       "      <th>time</th>\n",
       "      <th>is_new_best</th>\n",
       "    </tr>\n",
       "  </thead>\n",
       "  <tbody>\n",
       "    <tr>\n",
       "      <th>0</th>\n",
       "      <td>0</td>\n",
       "      <td>0.431009</td>\n",
       "      <td>163</td>\n",
       "      <td>142</td>\n",
       "      <td>0.363193</td>\n",
       "      <td>True</td>\n",
       "    </tr>\n",
       "    <tr>\n",
       "      <th>1</th>\n",
       "      <td>1</td>\n",
       "      <td>0.560308</td>\n",
       "      <td>204</td>\n",
       "      <td>165</td>\n",
       "      <td>1.313487</td>\n",
       "      <td>False</td>\n",
       "    </tr>\n",
       "    <tr>\n",
       "      <th>2</th>\n",
       "      <td>2</td>\n",
       "      <td>0.453275</td>\n",
       "      <td>165</td>\n",
       "      <td>130</td>\n",
       "      <td>2.130528</td>\n",
       "      <td>True</td>\n",
       "    </tr>\n",
       "    <tr>\n",
       "      <th>3</th>\n",
       "      <td>3</td>\n",
       "      <td>0.378322</td>\n",
       "      <td>165</td>\n",
       "      <td>128</td>\n",
       "      <td>2.959331</td>\n",
       "      <td>True</td>\n",
       "    </tr>\n",
       "    <tr>\n",
       "      <th>4</th>\n",
       "      <td>4</td>\n",
       "      <td>0.504873</td>\n",
       "      <td>218</td>\n",
       "      <td>156</td>\n",
       "      <td>3.706425</td>\n",
       "      <td>False</td>\n",
       "    </tr>\n",
       "    <tr>\n",
       "      <th>...</th>\n",
       "      <td>...</td>\n",
       "      <td>...</td>\n",
       "      <td>...</td>\n",
       "      <td>...</td>\n",
       "      <td>...</td>\n",
       "      <td>...</td>\n",
       "    </tr>\n",
       "    <tr>\n",
       "      <th>4995</th>\n",
       "      <td>4995</td>\n",
       "      <td>0.427825</td>\n",
       "      <td>170</td>\n",
       "      <td>150</td>\n",
       "      <td>3248.174261</td>\n",
       "      <td>False</td>\n",
       "    </tr>\n",
       "    <tr>\n",
       "      <th>4996</th>\n",
       "      <td>4996</td>\n",
       "      <td>0.187768</td>\n",
       "      <td>179</td>\n",
       "      <td>165</td>\n",
       "      <td>3248.439009</td>\n",
       "      <td>False</td>\n",
       "    </tr>\n",
       "    <tr>\n",
       "      <th>4997</th>\n",
       "      <td>4997</td>\n",
       "      <td>0.218076</td>\n",
       "      <td>171</td>\n",
       "      <td>142</td>\n",
       "      <td>3248.954140</td>\n",
       "      <td>False</td>\n",
       "    </tr>\n",
       "    <tr>\n",
       "      <th>4998</th>\n",
       "      <td>4998</td>\n",
       "      <td>0.454904</td>\n",
       "      <td>192</td>\n",
       "      <td>150</td>\n",
       "      <td>3250.097544</td>\n",
       "      <td>False</td>\n",
       "    </tr>\n",
       "    <tr>\n",
       "      <th>4999</th>\n",
       "      <td>4999</td>\n",
       "      <td>0.663670</td>\n",
       "      <td>171</td>\n",
       "      <td>137</td>\n",
       "      <td>3250.859597</td>\n",
       "      <td>False</td>\n",
       "    </tr>\n",
       "  </tbody>\n",
       "</table>\n",
       "<p>5000 rows × 6 columns</p>\n",
       "</div>"
      ],
      "text/plain": [
       "      iter      beta  RGD_OF  AFVS_OF         time  is_new_best\n",
       "0        0  0.431009     163      142     0.363193         True\n",
       "1        1  0.560308     204      165     1.313487        False\n",
       "2        2  0.453275     165      130     2.130528         True\n",
       "3        3  0.378322     165      128     2.959331         True\n",
       "4        4  0.504873     218      156     3.706425        False\n",
       "...    ...       ...     ...      ...          ...          ...\n",
       "4995  4995  0.427825     170      150  3248.174261        False\n",
       "4996  4996  0.187768     179      165  3248.439009        False\n",
       "4997  4997  0.218076     171      142  3248.954140        False\n",
       "4998  4998  0.454904     192      150  3250.097544        False\n",
       "4999  4999  0.663670     171      137  3250.859597        False\n",
       "\n",
       "[5000 rows x 6 columns]"
      ]
     },
     "execution_count": 1,
     "metadata": {},
     "output_type": "execute_result"
    }
   ],
   "source": [
    "import pandas as pd\n",
    "from grasp_iters import read_results\n",
    "\n",
    "names = [\n",
    "    \"rat783_522_261_0_p20_a2\", # 0\n",
    "    \"rat783_522_261_0_p20_a3\",\n",
    "    \"rl1323_882_441_0_p20_a2\", # 2\n",
    "    \"rl1323_882_441_0_p20_a3\",\n",
    "    \"anpcp_882_441_0_p20_a2\",  # 4\n",
    "    \"anpcp_882_441_0_p20_a3\",\n",
    "]\n",
    "name = names[1]\n",
    "\n",
    "iters = read_results(name)\n",
    "\n",
    "iters"
   ]
  },
  {
   "cell_type": "code",
   "execution_count": 2,
   "metadata": {},
   "outputs": [],
   "source": [
    "# iters[\"time\"].diff()"
   ]
  },
  {
   "cell_type": "code",
   "execution_count": 3,
   "metadata": {},
   "outputs": [],
   "source": [
    "def get_improvs(iters_df: pd.DataFrame):\n",
    "    improvs = iters_df[iters_df[\"is_new_best\"] == True].drop(\"is_new_best\", axis=1)\n",
    "\n",
    "    # multiplication is negative because the problem is a minimization problem,\n",
    "    # a decrease in the objective function (a negative percent change) means a better solution\n",
    "    percents = improvs[\"AFVS_OF\"].pct_change().mul(-100)\n",
    "    improvs.insert(loc=4, column=\"imp\", value=percents)\n",
    "\n",
    "    # iterations without improvement (iwi)\n",
    "    iter_diffs = improvs[\"iter\"].diff().fillna(0).astype(int)\n",
    "    improvs.insert(loc=6, column=\"iwi\", value=iter_diffs)\n",
    "\n",
    "    return improvs"
   ]
  },
  {
   "cell_type": "code",
   "execution_count": 4,
   "metadata": {},
   "outputs": [
    {
     "data": {
      "text/html": [
       "<div>\n",
       "<style scoped>\n",
       "    .dataframe tbody tr th:only-of-type {\n",
       "        vertical-align: middle;\n",
       "    }\n",
       "\n",
       "    .dataframe tbody tr th {\n",
       "        vertical-align: top;\n",
       "    }\n",
       "\n",
       "    .dataframe thead th {\n",
       "        text-align: right;\n",
       "    }\n",
       "</style>\n",
       "<table border=\"1\" class=\"dataframe\">\n",
       "  <thead>\n",
       "    <tr style=\"text-align: right;\">\n",
       "      <th></th>\n",
       "      <th>iter</th>\n",
       "      <th>beta</th>\n",
       "      <th>RGD_OF</th>\n",
       "      <th>AFVS_OF</th>\n",
       "      <th>imp</th>\n",
       "      <th>time</th>\n",
       "      <th>iwi</th>\n",
       "    </tr>\n",
       "  </thead>\n",
       "  <tbody>\n",
       "    <tr>\n",
       "      <th>0</th>\n",
       "      <td>0</td>\n",
       "      <td>0.431009</td>\n",
       "      <td>163</td>\n",
       "      <td>142</td>\n",
       "      <td>NaN</td>\n",
       "      <td>0.363193</td>\n",
       "      <td>0</td>\n",
       "    </tr>\n",
       "    <tr>\n",
       "      <th>2</th>\n",
       "      <td>2</td>\n",
       "      <td>0.453275</td>\n",
       "      <td>165</td>\n",
       "      <td>130</td>\n",
       "      <td>8.450704</td>\n",
       "      <td>2.130528</td>\n",
       "      <td>2</td>\n",
       "    </tr>\n",
       "    <tr>\n",
       "      <th>3</th>\n",
       "      <td>3</td>\n",
       "      <td>0.378322</td>\n",
       "      <td>165</td>\n",
       "      <td>128</td>\n",
       "      <td>1.538462</td>\n",
       "      <td>2.959331</td>\n",
       "      <td>1</td>\n",
       "    </tr>\n",
       "    <tr>\n",
       "      <th>8</th>\n",
       "      <td>8</td>\n",
       "      <td>0.308022</td>\n",
       "      <td>174</td>\n",
       "      <td>126</td>\n",
       "      <td>1.562500</td>\n",
       "      <td>7.595635</td>\n",
       "      <td>5</td>\n",
       "    </tr>\n",
       "    <tr>\n",
       "      <th>77</th>\n",
       "      <td>77</td>\n",
       "      <td>0.103021</td>\n",
       "      <td>164</td>\n",
       "      <td>125</td>\n",
       "      <td>0.793651</td>\n",
       "      <td>44.869983</td>\n",
       "      <td>69</td>\n",
       "    </tr>\n",
       "    <tr>\n",
       "      <th>96</th>\n",
       "      <td>96</td>\n",
       "      <td>0.592382</td>\n",
       "      <td>161</td>\n",
       "      <td>122</td>\n",
       "      <td>2.400000</td>\n",
       "      <td>57.602794</td>\n",
       "      <td>19</td>\n",
       "    </tr>\n",
       "    <tr>\n",
       "      <th>2227</th>\n",
       "      <td>2227</td>\n",
       "      <td>0.453959</td>\n",
       "      <td>172</td>\n",
       "      <td>120</td>\n",
       "      <td>1.639344</td>\n",
       "      <td>1472.833561</td>\n",
       "      <td>2131</td>\n",
       "    </tr>\n",
       "    <tr>\n",
       "      <th>2342</th>\n",
       "      <td>2342</td>\n",
       "      <td>0.315168</td>\n",
       "      <td>172</td>\n",
       "      <td>118</td>\n",
       "      <td>1.666667</td>\n",
       "      <td>1542.065478</td>\n",
       "      <td>115</td>\n",
       "    </tr>\n",
       "  </tbody>\n",
       "</table>\n",
       "</div>"
      ],
      "text/plain": [
       "      iter      beta  RGD_OF  AFVS_OF       imp         time   iwi\n",
       "0        0  0.431009     163      142       NaN     0.363193     0\n",
       "2        2  0.453275     165      130  8.450704     2.130528     2\n",
       "3        3  0.378322     165      128  1.538462     2.959331     1\n",
       "8        8  0.308022     174      126  1.562500     7.595635     5\n",
       "77      77  0.103021     164      125  0.793651    44.869983    69\n",
       "96      96  0.592382     161      122  2.400000    57.602794    19\n",
       "2227  2227  0.453959     172      120  1.639344  1472.833561  2131\n",
       "2342  2342  0.315168     172      118  1.666667  1542.065478   115"
      ]
     },
     "execution_count": 4,
     "metadata": {},
     "output_type": "execute_result"
    }
   ],
   "source": [
    "improvs = get_improvs(iters)\n",
    "improvs"
   ]
  },
  {
   "cell_type": "code",
   "execution_count": 5,
   "metadata": {},
   "outputs": [
    {
     "name": "stderr",
     "output_type": "stream",
     "text": [
      "c:\\Users\\netoo\\local-personal\\repos\\alpha-neighbor-p-center-problem\\anpcp\\utils.py:104: FutureWarning: In future versions `DataFrame.to_latex` is expected to utilise the base implementation of `Styler.to_latex` for formatting and rendering. The arguments signature may therefore change. It is recommended instead to use `DataFrame.style.to_latex` which also contains additional functionality.\n",
      "  dataframe.to_latex(path, float_format=\"%.2f\", multirow=True)\n"
     ]
    }
   ],
   "source": [
    "from utils import format_latex_table\n",
    "\n",
    "format_latex_table(improvs, f\"nb_results\\\\grasp\\\\iters_improvs_{name}.tex\");"
   ]
  },
  {
   "cell_type": "code",
   "execution_count": 10,
   "metadata": {},
   "outputs": [],
   "source": [
    "import matplotlib.pyplot as plt\n",
    "\n",
    "def plot_improvs(\n",
    "    iters_df: pd.DataFrame,\n",
    "    lastimprov: int,\n",
    "    annotation_xdiff: int,\n",
    "    annotation_ydiff: int,\n",
    "    color: str = \"blue\",\n",
    "    filename: str = \"\"\n",
    "):\n",
    "    fig, ax = plt.subplots(figsize=(20, 5), dpi=150)\n",
    "    \n",
    "    ax.plot(\n",
    "        iters_df[\"iter\"][:lastimprov],\n",
    "        iters_df[\"AFVS_OF\"].cummin()[:lastimprov],\n",
    "        color=color,\n",
    "    )\n",
    "\n",
    "    for _, row in improvs.iterrows():\n",
    "        of = int(row[\"AFVS_OF\"])\n",
    "        i = int(row[\"iter\"])\n",
    "        percent = row[\"imp\"]\n",
    "\n",
    "        ax.annotate(\n",
    "            f\"x(S) = {of}\",\n",
    "            (i, of),\n",
    "            xytext=(i + annotation_xdiff, of + annotation_ydiff),\n",
    "        )\n",
    "\n",
    "    ax.set_title(f\"Improvements in $S$ during GRASP\")\n",
    "    ax.set_ylabel(\"$x(S)$\")\n",
    "    ax.set_xlabel(\"Iteration\")\n",
    "\n",
    "    if filename:\n",
    "        fig.savefig(filename, bbox_inches=\"tight\")\n",
    "    else:\n",
    "        plt.show()"
   ]
  },
  {
   "cell_type": "markdown",
   "metadata": {},
   "source": [
    "Manually adjust parameters to plot each instance"
   ]
  },
  {
   "cell_type": "code",
   "execution_count": 14,
   "metadata": {},
   "outputs": [
    {
     "data": {
      "image/png": "[encoded data removed]",
      "text/plain": [
       "<Figure size 3000x750 with 1 Axes>"
      ]
     },
     "metadata": {
      "needs_background": "light"
     },
     "output_type": "display_data"
    }
   ],
   "source": [
    "plot_improvs(\n",
    "    iters, 2576, 5, 0.4, \"tab:red\",\n",
    "    f\"nb_results\\\\grasp\\\\iters_plot_{name}.png\"\n",
    ")"
   ]
  },
  {
   "cell_type": "code",
   "execution_count": 8,
   "metadata": {},
   "outputs": [
    {
     "data": {
      "text/plain": [
       "2576.2000000000003"
      ]
     },
     "execution_count": 8,
     "metadata": {},
     "output_type": "execute_result"
    }
   ],
   "source": [
    "2342 * 1.1"
   ]
  }
 ],
 "metadata": {
  "kernelspec": {
   "display_name": "Python 3.9.10 ('venv': venv)",
   "language": "python",
   "name": "python3"
  },
  "language_info": {
   "codemirror_mode": {
    "name": "ipython",
    "version": 3
   },
   "file_extension": ".py",
   "mimetype": "text/x-python",
   "name": "python",
   "nbconvert_exporter": "python",
   "pygments_lexer": "ipython3",
   "version": "3.9.10"
  },
  "orig_nbformat": 4,
  "vscode": {
   "interpreter": {
    "hash": "ad97895f709dca0dc7d3ba4157d0e2c81757a9972c4115d2a96c02efafd59066"
   }
  }
 },
 "nbformat": 4,
 "nbformat_minor": 2
}
