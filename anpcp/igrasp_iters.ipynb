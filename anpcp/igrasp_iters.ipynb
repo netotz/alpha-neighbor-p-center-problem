{
 "cells": [
  {
   "cell_type": "markdown",
   "metadata": {},
   "source": [
    "# Calibrating the number of iterations ($i_{\\max}$) to run GRASP"
   ]
  },
  {
   "cell_type": "code",
   "execution_count": 57,
   "metadata": {},
   "outputs": [
    {
     "data": {
      "text/html": [
       "<div>\n",
       "<style scoped>\n",
       "    .dataframe tbody tr th:only-of-type {\n",
       "        vertical-align: middle;\n",
       "    }\n",
       "\n",
       "    .dataframe tbody tr th {\n",
       "        vertical-align: top;\n",
       "    }\n",
       "\n",
       "    .dataframe thead th {\n",
       "        text-align: right;\n",
       "    }\n",
       "</style>\n",
       "<table border=\"1\" class=\"dataframe\">\n",
       "  <thead>\n",
       "    <tr style=\"text-align: right;\">\n",
       "      <th></th>\n",
       "      <th>iter</th>\n",
       "      <th>beta</th>\n",
       "      <th>RGD_OF</th>\n",
       "      <th>AFVS_OF</th>\n",
       "      <th>time</th>\n",
       "      <th>is_new_best</th>\n",
       "    </tr>\n",
       "  </thead>\n",
       "  <tbody>\n",
       "    <tr>\n",
       "      <th>0</th>\n",
       "      <td>0</td>\n",
       "      <td>0.217888</td>\n",
       "      <td>5624</td>\n",
       "      <td>4180</td>\n",
       "      <td>6.555388</td>\n",
       "      <td>True</td>\n",
       "    </tr>\n",
       "    <tr>\n",
       "      <th>1</th>\n",
       "      <td>1</td>\n",
       "      <td>0.881793</td>\n",
       "      <td>7000</td>\n",
       "      <td>4495</td>\n",
       "      <td>9.334014</td>\n",
       "      <td>False</td>\n",
       "    </tr>\n",
       "    <tr>\n",
       "      <th>2</th>\n",
       "      <td>2</td>\n",
       "      <td>0.806632</td>\n",
       "      <td>6841</td>\n",
       "      <td>4304</td>\n",
       "      <td>13.462326</td>\n",
       "      <td>False</td>\n",
       "    </tr>\n",
       "    <tr>\n",
       "      <th>3</th>\n",
       "      <td>3</td>\n",
       "      <td>0.440826</td>\n",
       "      <td>6538</td>\n",
       "      <td>4252</td>\n",
       "      <td>17.854619</td>\n",
       "      <td>False</td>\n",
       "    </tr>\n",
       "    <tr>\n",
       "      <th>4</th>\n",
       "      <td>4</td>\n",
       "      <td>0.698069</td>\n",
       "      <td>5828</td>\n",
       "      <td>4327</td>\n",
       "      <td>22.075512</td>\n",
       "      <td>False</td>\n",
       "    </tr>\n",
       "    <tr>\n",
       "      <th>...</th>\n",
       "      <td>...</td>\n",
       "      <td>...</td>\n",
       "      <td>...</td>\n",
       "      <td>...</td>\n",
       "      <td>...</td>\n",
       "      <td>...</td>\n",
       "    </tr>\n",
       "    <tr>\n",
       "      <th>4995</th>\n",
       "      <td>4995</td>\n",
       "      <td>0.258762</td>\n",
       "      <td>7176</td>\n",
       "      <td>4304</td>\n",
       "      <td>16058.317987</td>\n",
       "      <td>False</td>\n",
       "    </tr>\n",
       "    <tr>\n",
       "      <th>4996</th>\n",
       "      <td>4996</td>\n",
       "      <td>0.236388</td>\n",
       "      <td>5918</td>\n",
       "      <td>4388</td>\n",
       "      <td>16061.272851</td>\n",
       "      <td>False</td>\n",
       "    </tr>\n",
       "    <tr>\n",
       "      <th>4997</th>\n",
       "      <td>4997</td>\n",
       "      <td>0.045704</td>\n",
       "      <td>5833</td>\n",
       "      <td>4327</td>\n",
       "      <td>16065.256414</td>\n",
       "      <td>False</td>\n",
       "    </tr>\n",
       "    <tr>\n",
       "      <th>4998</th>\n",
       "      <td>4998</td>\n",
       "      <td>0.892714</td>\n",
       "      <td>7211</td>\n",
       "      <td>4182</td>\n",
       "      <td>16069.853268</td>\n",
       "      <td>False</td>\n",
       "    </tr>\n",
       "    <tr>\n",
       "      <th>4999</th>\n",
       "      <td>4999</td>\n",
       "      <td>0.429547</td>\n",
       "      <td>6037</td>\n",
       "      <td>4495</td>\n",
       "      <td>16072.412483</td>\n",
       "      <td>False</td>\n",
       "    </tr>\n",
       "  </tbody>\n",
       "</table>\n",
       "<p>5000 rows × 6 columns</p>\n",
       "</div>"
      ],
      "text/plain": [
       "      iter      beta  RGD_OF  AFVS_OF          time  is_new_best\n",
       "0        0  0.217888    5624     4180      6.555388         True\n",
       "1        1  0.881793    7000     4495      9.334014        False\n",
       "2        2  0.806632    6841     4304     13.462326        False\n",
       "3        3  0.440826    6538     4252     17.854619        False\n",
       "4        4  0.698069    5828     4327     22.075512        False\n",
       "...    ...       ...     ...      ...           ...          ...\n",
       "4995  4995  0.258762    7176     4304  16058.317987        False\n",
       "4996  4996  0.236388    5918     4388  16061.272851        False\n",
       "4997  4997  0.045704    5833     4327  16065.256414        False\n",
       "4998  4998  0.892714    7211     4182  16069.853268        False\n",
       "4999  4999  0.429547    6037     4495  16072.412483        False\n",
       "\n",
       "[5000 rows x 6 columns]"
      ]
     },
     "execution_count": 57,
     "metadata": {},
     "output_type": "execute_result"
    }
   ],
   "source": [
    "import pandas as pd\n",
    "from grasp_iters import read_results\n",
    "\n",
    "names = [\n",
    "    \"rat783_522_261_0_p20_a2\", # 0\n",
    "    \"rat783_522_261_0_p20_a3\",\n",
    "    \"rl1323_882_441_0_p20_a2\", # 2\n",
    "    \"rl1323_882_441_0_p20_a3\",\n",
    "    \"anpcp_882_441_0_p20_a2\",  # 4\n",
    "    \"anpcp_882_441_0_p20_a3\",\n",
    "]\n",
    "name = names[3]\n",
    "\n",
    "iters = read_results(name)\n",
    "\n",
    "iters"
   ]
  },
  {
   "cell_type": "code",
   "execution_count": 58,
   "metadata": {},
   "outputs": [
    {
     "data": {
      "text/plain": [
       "3.2138141816963373"
      ]
     },
     "execution_count": 58,
     "metadata": {},
     "output_type": "execute_result"
    }
   ],
   "source": [
    "iters[\"time\"].diff().mean()"
   ]
  },
  {
   "cell_type": "code",
   "execution_count": 59,
   "metadata": {},
   "outputs": [],
   "source": [
    "def get_improvs(iters_df: pd.DataFrame):\n",
    "    improvs = iters_df[iters_df[\"is_new_best\"] == True].drop(\"is_new_best\", axis=1)\n",
    "\n",
    "    # multiplication is negative because the problem is a minimization problem,\n",
    "    # a decrease in the objective function (a negative percent change) means a better solution\n",
    "    percents = improvs[\"AFVS_OF\"].pct_change().mul(-100)\n",
    "    improvs.insert(loc=4, column=\"imp\", value=percents)\n",
    "\n",
    "    # iterations without improvement (iwi)\n",
    "    iter_diffs = improvs[\"iter\"].diff().fillna(0).astype(int)\n",
    "    improvs.insert(loc=6, column=\"iwi\", value=iter_diffs)\n",
    "\n",
    "    return improvs"
   ]
  },
  {
   "cell_type": "code",
   "execution_count": 60,
   "metadata": {},
   "outputs": [
    {
     "data": {
      "text/html": [
       "<div>\n",
       "<style scoped>\n",
       "    .dataframe tbody tr th:only-of-type {\n",
       "        vertical-align: middle;\n",
       "    }\n",
       "\n",
       "    .dataframe tbody tr th {\n",
       "        vertical-align: top;\n",
       "    }\n",
       "\n",
       "    .dataframe thead th {\n",
       "        text-align: right;\n",
       "    }\n",
       "</style>\n",
       "<table border=\"1\" class=\"dataframe\">\n",
       "  <thead>\n",
       "    <tr style=\"text-align: right;\">\n",
       "      <th></th>\n",
       "      <th>iter</th>\n",
       "      <th>beta</th>\n",
       "      <th>RGD_OF</th>\n",
       "      <th>AFVS_OF</th>\n",
       "      <th>imp</th>\n",
       "      <th>time</th>\n",
       "      <th>iwi</th>\n",
       "    </tr>\n",
       "  </thead>\n",
       "  <tbody>\n",
       "    <tr>\n",
       "      <th>0</th>\n",
       "      <td>0</td>\n",
       "      <td>0.217888</td>\n",
       "      <td>5624</td>\n",
       "      <td>4180</td>\n",
       "      <td>NaN</td>\n",
       "      <td>6.555388</td>\n",
       "      <td>0</td>\n",
       "    </tr>\n",
       "    <tr>\n",
       "      <th>9</th>\n",
       "      <td>9</td>\n",
       "      <td>0.938647</td>\n",
       "      <td>8196</td>\n",
       "      <td>4157</td>\n",
       "      <td>0.550239</td>\n",
       "      <td>40.003975</td>\n",
       "      <td>9</td>\n",
       "    </tr>\n",
       "    <tr>\n",
       "      <th>66</th>\n",
       "      <td>66</td>\n",
       "      <td>0.854831</td>\n",
       "      <td>7517</td>\n",
       "      <td>4128</td>\n",
       "      <td>0.697618</td>\n",
       "      <td>239.757502</td>\n",
       "      <td>57</td>\n",
       "    </tr>\n",
       "    <tr>\n",
       "      <th>76</th>\n",
       "      <td>76</td>\n",
       "      <td>0.376441</td>\n",
       "      <td>5727</td>\n",
       "      <td>4031</td>\n",
       "      <td>2.349806</td>\n",
       "      <td>275.018968</td>\n",
       "      <td>10</td>\n",
       "    </tr>\n",
       "    <tr>\n",
       "      <th>180</th>\n",
       "      <td>180</td>\n",
       "      <td>0.221051</td>\n",
       "      <td>5932</td>\n",
       "      <td>4015</td>\n",
       "      <td>0.396924</td>\n",
       "      <td>621.834342</td>\n",
       "      <td>104</td>\n",
       "    </tr>\n",
       "    <tr>\n",
       "      <th>3490</th>\n",
       "      <td>3490</td>\n",
       "      <td>0.409655</td>\n",
       "      <td>6261</td>\n",
       "      <td>3948</td>\n",
       "      <td>1.668742</td>\n",
       "      <td>11237.421071</td>\n",
       "      <td>3310</td>\n",
       "    </tr>\n",
       "  </tbody>\n",
       "</table>\n",
       "</div>"
      ],
      "text/plain": [
       "      iter      beta  RGD_OF  AFVS_OF       imp          time   iwi\n",
       "0        0  0.217888    5624     4180       NaN      6.555388     0\n",
       "9        9  0.938647    8196     4157  0.550239     40.003975     9\n",
       "66      66  0.854831    7517     4128  0.697618    239.757502    57\n",
       "76      76  0.376441    5727     4031  2.349806    275.018968    10\n",
       "180    180  0.221051    5932     4015  0.396924    621.834342   104\n",
       "3490  3490  0.409655    6261     3948  1.668742  11237.421071  3310"
      ]
     },
     "execution_count": 60,
     "metadata": {},
     "output_type": "execute_result"
    }
   ],
   "source": [
    "improvs = get_improvs(iters)\n",
    "improvs"
   ]
  },
  {
   "cell_type": "code",
   "execution_count": 61,
   "metadata": {},
   "outputs": [
    {
     "name": "stderr",
     "output_type": "stream",
     "text": [
      "c:\\Users\\netoo\\local-personal\\repos\\alpha-neighbor-p-center-problem\\anpcp\\utils.py:104: FutureWarning: In future versions `DataFrame.to_latex` is expected to utilise the base implementation of `Styler.to_latex` for formatting and rendering. The arguments signature may therefore change. It is recommended instead to use `DataFrame.style.to_latex` which also contains additional functionality.\n",
      "  dataframe.to_latex(path, float_format=\"%.2f\", multirow=True)\n"
     ]
    }
   ],
   "source": [
    "from utils import format_latex_table\n",
    "\n",
    "format_latex_table(improvs, f\"nb_results\\\\grasp\\\\iters_improvs_{name}.tex\");"
   ]
  },
  {
   "cell_type": "code",
   "execution_count": 62,
   "metadata": {},
   "outputs": [],
   "source": [
    "import matplotlib.pyplot as plt\n",
    "\n",
    "def plot_improvs(\n",
    "    iters_df: pd.DataFrame,\n",
    "    lastimprov: int,\n",
    "    annotation_xdiff: int,\n",
    "    annotation_ydiff: int,\n",
    "    color: str = \"blue\",\n",
    "    filename: str = \"\"\n",
    "):\n",
    "    fig, ax = plt.subplots(figsize=(20, 5), dpi=150)\n",
    "    \n",
    "    ax.plot(\n",
    "        iters_df[\"iter\"][:lastimprov],\n",
    "        iters_df[\"AFVS_OF\"].cummin()[:lastimprov],\n",
    "        color=color,\n",
    "    )\n",
    "\n",
    "    for _, row in improvs.iterrows():\n",
    "        of = int(row[\"AFVS_OF\"])\n",
    "        i = int(row[\"iter\"])\n",
    "        percent = row[\"imp\"]\n",
    "\n",
    "        ax.annotate(\n",
    "            f\"x(S) = {of}\",\n",
    "            (i, of),\n",
    "            xytext=(i + annotation_xdiff, of + annotation_ydiff),\n",
    "        )\n",
    "\n",
    "    ax.set_title(f\"Improvements in $S$ during GRASP\")\n",
    "    ax.set_ylabel(\"$x(S)$\")\n",
    "    ax.set_xlabel(\"Iteration\")\n",
    "\n",
    "    if filename:\n",
    "        fig.savefig(filename, bbox_inches=\"tight\")\n",
    "    else:\n",
    "        plt.show()"
   ]
  },
  {
   "cell_type": "markdown",
   "metadata": {},
   "source": [
    "Manually adjust parameters to plot each instance"
   ]
  },
  {
   "cell_type": "code",
   "execution_count": 75,
   "metadata": {},
   "outputs": [
    {
     "data": {
      "image/png": "[encoded data removed]",
      "text/plain": [
       "<Figure size 3000x750 with 1 Axes>"
      ]
     },
     "metadata": {
      "needs_background": "light"
     },
     "output_type": "display_data"
    }
   ],
   "source": [
    "plot_improvs(\n",
    "    iters, 3750, 4, 3,\n",
    "    \"tab:red\",\n",
    "    f\"nb_results\\\\grasp\\\\iters_plot_{name}.png\"\n",
    ")"
   ]
  },
  {
   "cell_type": "code",
   "execution_count": 64,
   "metadata": {},
   "outputs": [
    {
     "data": {
      "text/plain": [
       "3839.0000000000005"
      ]
     },
     "execution_count": 64,
     "metadata": {},
     "output_type": "execute_result"
    }
   ],
   "source": [
    "3490 * 1.1"
   ]
  },
  {
   "cell_type": "code",
   "execution_count": null,
   "metadata": {},
   "outputs": [],
   "source": []
  }
 ],
 "metadata": {
  "kernelspec": {
   "display_name": "Python 3.9.10 ('venv': venv)",
   "language": "python",
   "name": "python3"
  },
  "language_info": {
   "codemirror_mode": {
    "name": "ipython",
    "version": 3
   },
   "file_extension": ".py",
   "mimetype": "text/x-python",
   "name": "python",
   "nbconvert_exporter": "python",
   "pygments_lexer": "ipython3",
   "version": "3.9.10"
  },
  "orig_nbformat": 4,
  "vscode": {
   "interpreter": {
    "hash": "ad97895f709dca0dc7d3ba4157d0e2c81757a9972c4115d2a96c02efafd59066"
   }
  }
 },
 "nbformat": 4,
 "nbformat_minor": 2
}
