{
 "cells": [
  {
   "cell_type": "markdown",
   "metadata": {},
   "source": [
    "# Calibrating the number of iterations ($i_{\\max}$) to run GRASP"
   ]
  },
  {
   "cell_type": "code",
   "execution_count": 8,
   "metadata": {},
   "outputs": [
    {
     "data": {
      "text/html": [
       "<div>\n",
       "<style scoped>\n",
       "    .dataframe tbody tr th:only-of-type {\n",
       "        vertical-align: middle;\n",
       "    }\n",
       "\n",
       "    .dataframe tbody tr th {\n",
       "        vertical-align: top;\n",
       "    }\n",
       "\n",
       "    .dataframe thead th {\n",
       "        text-align: right;\n",
       "    }\n",
       "</style>\n",
       "<table border=\"1\" class=\"dataframe\">\n",
       "  <thead>\n",
       "    <tr style=\"text-align: right;\">\n",
       "      <th></th>\n",
       "      <th>iter</th>\n",
       "      <th>beta</th>\n",
       "      <th>RGD_OF</th>\n",
       "      <th>AFVS_OF</th>\n",
       "      <th>time</th>\n",
       "      <th>is_new_best</th>\n",
       "    </tr>\n",
       "  </thead>\n",
       "  <tbody>\n",
       "    <tr>\n",
       "      <th>0</th>\n",
       "      <td>0</td>\n",
       "      <td>0.711551</td>\n",
       "      <td>5629</td>\n",
       "      <td>3547</td>\n",
       "      <td>1.261990</td>\n",
       "      <td>True</td>\n",
       "    </tr>\n",
       "    <tr>\n",
       "      <th>1</th>\n",
       "      <td>1</td>\n",
       "      <td>0.625327</td>\n",
       "      <td>4986</td>\n",
       "      <td>3547</td>\n",
       "      <td>2.499386</td>\n",
       "      <td>False</td>\n",
       "    </tr>\n",
       "    <tr>\n",
       "      <th>2</th>\n",
       "      <td>2</td>\n",
       "      <td>0.257563</td>\n",
       "      <td>4743</td>\n",
       "      <td>3547</td>\n",
       "      <td>3.859037</td>\n",
       "      <td>False</td>\n",
       "    </tr>\n",
       "    <tr>\n",
       "      <th>3</th>\n",
       "      <td>3</td>\n",
       "      <td>0.866414</td>\n",
       "      <td>4495</td>\n",
       "      <td>3547</td>\n",
       "      <td>4.573510</td>\n",
       "      <td>False</td>\n",
       "    </tr>\n",
       "    <tr>\n",
       "      <th>4</th>\n",
       "      <td>4</td>\n",
       "      <td>0.029578</td>\n",
       "      <td>5150</td>\n",
       "      <td>3547</td>\n",
       "      <td>5.496411</td>\n",
       "      <td>False</td>\n",
       "    </tr>\n",
       "    <tr>\n",
       "      <th>...</th>\n",
       "      <td>...</td>\n",
       "      <td>...</td>\n",
       "      <td>...</td>\n",
       "      <td>...</td>\n",
       "      <td>...</td>\n",
       "      <td>...</td>\n",
       "    </tr>\n",
       "    <tr>\n",
       "      <th>4995</th>\n",
       "      <td>4995</td>\n",
       "      <td>0.885710</td>\n",
       "      <td>5801</td>\n",
       "      <td>3547</td>\n",
       "      <td>5957.407021</td>\n",
       "      <td>False</td>\n",
       "    </tr>\n",
       "    <tr>\n",
       "      <th>4996</th>\n",
       "      <td>4996</td>\n",
       "      <td>0.992178</td>\n",
       "      <td>5948</td>\n",
       "      <td>3547</td>\n",
       "      <td>5959.041261</td>\n",
       "      <td>False</td>\n",
       "    </tr>\n",
       "    <tr>\n",
       "      <th>4997</th>\n",
       "      <td>4997</td>\n",
       "      <td>0.652068</td>\n",
       "      <td>4820</td>\n",
       "      <td>3547</td>\n",
       "      <td>5960.727530</td>\n",
       "      <td>False</td>\n",
       "    </tr>\n",
       "    <tr>\n",
       "      <th>4998</th>\n",
       "      <td>4998</td>\n",
       "      <td>0.071028</td>\n",
       "      <td>4958</td>\n",
       "      <td>3547</td>\n",
       "      <td>5961.622590</td>\n",
       "      <td>False</td>\n",
       "    </tr>\n",
       "    <tr>\n",
       "      <th>4999</th>\n",
       "      <td>4999</td>\n",
       "      <td>0.795055</td>\n",
       "      <td>5294</td>\n",
       "      <td>3547</td>\n",
       "      <td>5963.489721</td>\n",
       "      <td>False</td>\n",
       "    </tr>\n",
       "  </tbody>\n",
       "</table>\n",
       "<p>5000 rows × 6 columns</p>\n",
       "</div>"
      ],
      "text/plain": [
       "      iter      beta  RGD_OF  AFVS_OF         time  is_new_best\n",
       "0        0  0.711551    5629     3547     1.261990         True\n",
       "1        1  0.625327    4986     3547     2.499386        False\n",
       "2        2  0.257563    4743     3547     3.859037        False\n",
       "3        3  0.866414    4495     3547     4.573510        False\n",
       "4        4  0.029578    5150     3547     5.496411        False\n",
       "...    ...       ...     ...      ...          ...          ...\n",
       "4995  4995  0.885710    5801     3547  5957.407021        False\n",
       "4996  4996  0.992178    5948     3547  5959.041261        False\n",
       "4997  4997  0.652068    4820     3547  5960.727530        False\n",
       "4998  4998  0.071028    4958     3547  5961.622590        False\n",
       "4999  4999  0.795055    5294     3547  5963.489721        False\n",
       "\n",
       "[5000 rows x 6 columns]"
      ]
     },
     "execution_count": 8,
     "metadata": {},
     "output_type": "execute_result"
    }
   ],
   "source": [
    "import pandas as pd\n",
    "from grasp_iters import read_results, DIRPATH\n",
    "\n",
    "save = False\n",
    "names = [\n",
    "    \"rat783_522_261_0_p20_a2\", # 0\n",
    "    \"rat783_522_261_0_p20_a3\",\n",
    "    \"rl1323_882_441_0_p20_a2\", # 2\n",
    "    \"rl1323_882_441_0_p20_a3\",\n",
    "    \"anpcp_882_441_0_p20_a2\",  # 4\n",
    "    \"anpcp_882_441_0_p20_a3\",\n",
    "\n",
    "    \"rl1323_882_441_0_p44_a2\", # 6\n",
    "    \"rl1323_882_441_0_p44_a3\",\n",
    "    \"anpcp_882_441_0_p44_a2\",  # 8\n",
    "    \"anpcp_882_441_0_p44_a3\",\n",
    "]\n",
    "name = names[7]\n",
    "\n",
    "iters = read_results(name)\n",
    "iters"
   ]
  },
  {
   "cell_type": "code",
   "execution_count": 9,
   "metadata": {},
   "outputs": [
    {
     "data": {
      "text/plain": [
       "1.192684082916582"
      ]
     },
     "execution_count": 9,
     "metadata": {},
     "output_type": "execute_result"
    }
   ],
   "source": [
    "iters[\"time\"].diff().mean()"
   ]
  },
  {
   "cell_type": "code",
   "execution_count": 10,
   "metadata": {},
   "outputs": [],
   "source": [
    "def get_improvs(iters_df: pd.DataFrame):\n",
    "    improvs = iters_df[iters_df[\"is_new_best\"] == True].drop(\"is_new_best\", axis=1)\n",
    "\n",
    "    # multiplication is negative because the problem is a minimization problem,\n",
    "    # a decrease in the objective function (a negative percent change) means a better solution\n",
    "    percents = improvs[\"AFVS_OF\"].pct_change().mul(-100)\n",
    "    improvs.insert(loc=4, column=\"imp\", value=percents)\n",
    "\n",
    "    # iterations without improvement (iwi)\n",
    "    iter_diffs = improvs[\"iter\"].diff().fillna(0).astype(int)\n",
    "    improvs.insert(loc=6, column=\"iwi\", value=iter_diffs)\n",
    "\n",
    "    return improvs"
   ]
  },
  {
   "cell_type": "code",
   "execution_count": 11,
   "metadata": {},
   "outputs": [
    {
     "data": {
      "text/html": [
       "<div>\n",
       "<style scoped>\n",
       "    .dataframe tbody tr th:only-of-type {\n",
       "        vertical-align: middle;\n",
       "    }\n",
       "\n",
       "    .dataframe tbody tr th {\n",
       "        vertical-align: top;\n",
       "    }\n",
       "\n",
       "    .dataframe thead th {\n",
       "        text-align: right;\n",
       "    }\n",
       "</style>\n",
       "<table border=\"1\" class=\"dataframe\">\n",
       "  <thead>\n",
       "    <tr style=\"text-align: right;\">\n",
       "      <th></th>\n",
       "      <th>iter</th>\n",
       "      <th>beta</th>\n",
       "      <th>RGD_OF</th>\n",
       "      <th>AFVS_OF</th>\n",
       "      <th>imp</th>\n",
       "      <th>time</th>\n",
       "      <th>iwi</th>\n",
       "    </tr>\n",
       "  </thead>\n",
       "  <tbody>\n",
       "    <tr>\n",
       "      <th>0</th>\n",
       "      <td>0</td>\n",
       "      <td>0.711551</td>\n",
       "      <td>5629</td>\n",
       "      <td>3547</td>\n",
       "      <td>NaN</td>\n",
       "      <td>1.26199</td>\n",
       "      <td>0</td>\n",
       "    </tr>\n",
       "  </tbody>\n",
       "</table>\n",
       "</div>"
      ],
      "text/plain": [
       "   iter      beta  RGD_OF  AFVS_OF  imp     time  iwi\n",
       "0     0  0.711551    5629     3547  NaN  1.26199    0"
      ]
     },
     "execution_count": 11,
     "metadata": {},
     "output_type": "execute_result"
    }
   ],
   "source": [
    "improvs = get_improvs(iters)\n",
    "improvs"
   ]
  },
  {
   "cell_type": "code",
   "execution_count": 12,
   "metadata": {},
   "outputs": [],
   "source": [
    "from utils import format_latex_table\n",
    "\n",
    "if save:\n",
    "    format_latex_table(improvs, f\"{DIRPATH}\\\\iters_improvs_{name}.tex\");"
   ]
  },
  {
   "cell_type": "code",
   "execution_count": 13,
   "metadata": {},
   "outputs": [],
   "source": [
    "import matplotlib.pyplot as plt\n",
    "\n",
    "def plot_improvs(\n",
    "    iters_df: pd.DataFrame,\n",
    "    lastimprov: int,\n",
    "    annotation_xdiff: int,\n",
    "    annotation_ydiff: int,\n",
    "    color: str = \"blue\",\n",
    "    filename: str = \"\"\n",
    "):\n",
    "    fig, ax = plt.subplots(figsize=(20, 5), dpi=150)\n",
    "    \n",
    "    ax.plot(\n",
    "        iters_df[\"iter\"][:lastimprov],\n",
    "        iters_df[\"AFVS_OF\"].cummin()[:lastimprov],\n",
    "        color=color,\n",
    "    )\n",
    "\n",
    "    for _, row in improvs.iterrows():\n",
    "        of = int(row[\"AFVS_OF\"])\n",
    "        i = int(row[\"iter\"])\n",
    "        percent = row[\"imp\"]\n",
    "\n",
    "        ax.annotate(\n",
    "            f\"x(S) = {of}\",\n",
    "            (i, of),\n",
    "            xytext=(i + annotation_xdiff, of + annotation_ydiff),\n",
    "        )\n",
    "\n",
    "    ax.set_title(f\"Improvements in $S$ during GRASP\")\n",
    "    ax.set_ylabel(\"$x(S)$\")\n",
    "    ax.set_xlabel(\"Iteration\")\n",
    "\n",
    "    if filename:\n",
    "        fig.savefig(filename, bbox_inches=\"tight\")\n",
    "    else:\n",
    "        plt.show()"
   ]
  },
  {
   "cell_type": "markdown",
   "metadata": {},
   "source": [
    "Manually adjust parameters to plot each instance"
   ]
  },
  {
   "cell_type": "code",
   "execution_count": 14,
   "metadata": {},
   "outputs": [
    {
     "data": {
      "image/png": "[encoded data removed]",
      "text/plain": [
       "<Figure size 3000x750 with 1 Axes>"
      ]
     },
     "metadata": {
      "needs_background": "light"
     },
     "output_type": "display_data"
    }
   ],
   "source": [
    "plot_improvs(\n",
    "    iters, 1460, 3, 5,\n",
    "    \"tab:blue\" if name.endswith(\"2\") else \"tab:red\",\n",
    "    f\"{DIRPATH}\\\\iters_plot_{name}.png\" if save else \"\"\n",
    ")"
   ]
  },
  {
   "cell_type": "code",
   "execution_count": null,
   "metadata": {},
   "outputs": [],
   "source": []
  }
 ],
 "metadata": {
  "kernelspec": {
   "display_name": "Python 3.9.10 ('venv': venv)",
   "language": "python",
   "name": "python3"
  },
  "language_info": {
   "codemirror_mode": {
    "name": "ipython",
    "version": 3
   },
   "file_extension": ".py",
   "mimetype": "text/x-python",
   "name": "python",
   "nbconvert_exporter": "python",
   "pygments_lexer": "ipython3",
   "version": "3.9.10"
  },
  "orig_nbformat": 4,
  "vscode": {
   "interpreter": {
    "hash": "ad97895f709dca0dc7d3ba4157d0e2c81757a9972c4115d2a96c02efafd59066"
   }
  }
 },
 "nbformat": 4,
 "nbformat_minor": 2
}
