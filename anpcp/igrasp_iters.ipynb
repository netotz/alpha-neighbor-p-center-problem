{
 "cells": [
  {
   "cell_type": "markdown",
   "metadata": {},
   "source": [
    "# Calibrating the number of iterations ($i_{\\max}$) to run GRASP"
   ]
  },
  {
   "cell_type": "code",
   "execution_count": 95,
   "metadata": {},
   "outputs": [
    {
     "data": {
      "text/html": [
       "<div>\n",
       "<style scoped>\n",
       "    .dataframe tbody tr th:only-of-type {\n",
       "        vertical-align: middle;\n",
       "    }\n",
       "\n",
       "    .dataframe tbody tr th {\n",
       "        vertical-align: top;\n",
       "    }\n",
       "\n",
       "    .dataframe thead th {\n",
       "        text-align: right;\n",
       "    }\n",
       "</style>\n",
       "<table border=\"1\" class=\"dataframe\">\n",
       "  <thead>\n",
       "    <tr style=\"text-align: right;\">\n",
       "      <th></th>\n",
       "      <th>iter</th>\n",
       "      <th>beta</th>\n",
       "      <th>RGD_OF</th>\n",
       "      <th>AFVS_OF</th>\n",
       "      <th>time</th>\n",
       "      <th>is_new_best</th>\n",
       "    </tr>\n",
       "  </thead>\n",
       "  <tbody>\n",
       "    <tr>\n",
       "      <th>0</th>\n",
       "      <td>0</td>\n",
       "      <td>0.791153</td>\n",
       "      <td>4684</td>\n",
       "      <td>3596</td>\n",
       "      <td>3.254879</td>\n",
       "      <td>True</td>\n",
       "    </tr>\n",
       "    <tr>\n",
       "      <th>1</th>\n",
       "      <td>1</td>\n",
       "      <td>0.664850</td>\n",
       "      <td>5010</td>\n",
       "      <td>3570</td>\n",
       "      <td>5.784666</td>\n",
       "      <td>True</td>\n",
       "    </tr>\n",
       "    <tr>\n",
       "      <th>2</th>\n",
       "      <td>2</td>\n",
       "      <td>0.262222</td>\n",
       "      <td>5362</td>\n",
       "      <td>3536</td>\n",
       "      <td>10.217501</td>\n",
       "      <td>True</td>\n",
       "    </tr>\n",
       "    <tr>\n",
       "      <th>3</th>\n",
       "      <td>3</td>\n",
       "      <td>0.144556</td>\n",
       "      <td>4255</td>\n",
       "      <td>3466</td>\n",
       "      <td>14.836207</td>\n",
       "      <td>True</td>\n",
       "    </tr>\n",
       "    <tr>\n",
       "      <th>4</th>\n",
       "      <td>4</td>\n",
       "      <td>0.592262</td>\n",
       "      <td>6533</td>\n",
       "      <td>3560</td>\n",
       "      <td>17.833394</td>\n",
       "      <td>False</td>\n",
       "    </tr>\n",
       "    <tr>\n",
       "      <th>...</th>\n",
       "      <td>...</td>\n",
       "      <td>...</td>\n",
       "      <td>...</td>\n",
       "      <td>...</td>\n",
       "      <td>...</td>\n",
       "      <td>...</td>\n",
       "    </tr>\n",
       "    <tr>\n",
       "      <th>4995</th>\n",
       "      <td>4995</td>\n",
       "      <td>0.210249</td>\n",
       "      <td>4658</td>\n",
       "      <td>3434</td>\n",
       "      <td>16299.392562</td>\n",
       "      <td>False</td>\n",
       "    </tr>\n",
       "    <tr>\n",
       "      <th>4996</th>\n",
       "      <td>4996</td>\n",
       "      <td>0.901952</td>\n",
       "      <td>5507</td>\n",
       "      <td>3445</td>\n",
       "      <td>16304.566406</td>\n",
       "      <td>False</td>\n",
       "    </tr>\n",
       "    <tr>\n",
       "      <th>4997</th>\n",
       "      <td>4997</td>\n",
       "      <td>0.748335</td>\n",
       "      <td>6230</td>\n",
       "      <td>3697</td>\n",
       "      <td>16306.066841</td>\n",
       "      <td>False</td>\n",
       "    </tr>\n",
       "    <tr>\n",
       "      <th>4998</th>\n",
       "      <td>4998</td>\n",
       "      <td>0.402602</td>\n",
       "      <td>4839</td>\n",
       "      <td>3390</td>\n",
       "      <td>16310.343568</td>\n",
       "      <td>False</td>\n",
       "    </tr>\n",
       "    <tr>\n",
       "      <th>4999</th>\n",
       "      <td>4999</td>\n",
       "      <td>0.186969</td>\n",
       "      <td>5137</td>\n",
       "      <td>3480</td>\n",
       "      <td>16315.280476</td>\n",
       "      <td>False</td>\n",
       "    </tr>\n",
       "  </tbody>\n",
       "</table>\n",
       "<p>5000 rows × 6 columns</p>\n",
       "</div>"
      ],
      "text/plain": [
       "      iter      beta  RGD_OF  AFVS_OF          time  is_new_best\n",
       "0        0  0.791153    4684     3596      3.254879         True\n",
       "1        1  0.664850    5010     3570      5.784666         True\n",
       "2        2  0.262222    5362     3536     10.217501         True\n",
       "3        3  0.144556    4255     3466     14.836207         True\n",
       "4        4  0.592262    6533     3560     17.833394        False\n",
       "...    ...       ...     ...      ...           ...          ...\n",
       "4995  4995  0.210249    4658     3434  16299.392562        False\n",
       "4996  4996  0.901952    5507     3445  16304.566406        False\n",
       "4997  4997  0.748335    6230     3697  16306.066841        False\n",
       "4998  4998  0.402602    4839     3390  16310.343568        False\n",
       "4999  4999  0.186969    5137     3480  16315.280476        False\n",
       "\n",
       "[5000 rows x 6 columns]"
      ]
     },
     "execution_count": 95,
     "metadata": {},
     "output_type": "execute_result"
    }
   ],
   "source": [
    "import pandas as pd\n",
    "from grasp_iters import read_results, DIRPATH\n",
    "\n",
    "names = [\n",
    "    \"rat783_522_261_0_p20_a2\", # 0\n",
    "    \"rat783_522_261_0_p20_a3\",\n",
    "    \"rl1323_882_441_0_p20_a2\", # 2\n",
    "    \"rl1323_882_441_0_p20_a3\",\n",
    "    \"anpcp_882_441_0_p20_a2\",  # 4\n",
    "    \"anpcp_882_441_0_p20_a3\",\n",
    "]\n",
    "name = names[4]\n",
    "\n",
    "iters = read_results(name)\n",
    "\n",
    "iters"
   ]
  },
  {
   "cell_type": "code",
   "execution_count": 96,
   "metadata": {},
   "outputs": [
    {
     "data": {
      "text/plain": [
       "3.2630577310061852"
      ]
     },
     "execution_count": 96,
     "metadata": {},
     "output_type": "execute_result"
    }
   ],
   "source": [
    "iters[\"time\"].diff().mean()"
   ]
  },
  {
   "cell_type": "code",
   "execution_count": 97,
   "metadata": {},
   "outputs": [],
   "source": [
    "def get_improvs(iters_df: pd.DataFrame):\n",
    "    improvs = iters_df[iters_df[\"is_new_best\"] == True].drop(\"is_new_best\", axis=1)\n",
    "\n",
    "    # multiplication is negative because the problem is a minimization problem,\n",
    "    # a decrease in the objective function (a negative percent change) means a better solution\n",
    "    percents = improvs[\"AFVS_OF\"].pct_change().mul(-100)\n",
    "    improvs.insert(loc=4, column=\"imp\", value=percents)\n",
    "\n",
    "    # iterations without improvement (iwi)\n",
    "    iter_diffs = improvs[\"iter\"].diff().fillna(0).astype(int)\n",
    "    improvs.insert(loc=6, column=\"iwi\", value=iter_diffs)\n",
    "\n",
    "    return improvs"
   ]
  },
  {
   "cell_type": "code",
   "execution_count": 98,
   "metadata": {},
   "outputs": [
    {
     "data": {
      "text/html": [
       "<div>\n",
       "<style scoped>\n",
       "    .dataframe tbody tr th:only-of-type {\n",
       "        vertical-align: middle;\n",
       "    }\n",
       "\n",
       "    .dataframe tbody tr th {\n",
       "        vertical-align: top;\n",
       "    }\n",
       "\n",
       "    .dataframe thead th {\n",
       "        text-align: right;\n",
       "    }\n",
       "</style>\n",
       "<table border=\"1\" class=\"dataframe\">\n",
       "  <thead>\n",
       "    <tr style=\"text-align: right;\">\n",
       "      <th></th>\n",
       "      <th>iter</th>\n",
       "      <th>beta</th>\n",
       "      <th>RGD_OF</th>\n",
       "      <th>AFVS_OF</th>\n",
       "      <th>imp</th>\n",
       "      <th>time</th>\n",
       "      <th>iwi</th>\n",
       "    </tr>\n",
       "  </thead>\n",
       "  <tbody>\n",
       "    <tr>\n",
       "      <th>0</th>\n",
       "      <td>0</td>\n",
       "      <td>0.791153</td>\n",
       "      <td>4684</td>\n",
       "      <td>3596</td>\n",
       "      <td>NaN</td>\n",
       "      <td>3.254879</td>\n",
       "      <td>0</td>\n",
       "    </tr>\n",
       "    <tr>\n",
       "      <th>1</th>\n",
       "      <td>1</td>\n",
       "      <td>0.664850</td>\n",
       "      <td>5010</td>\n",
       "      <td>3570</td>\n",
       "      <td>0.723026</td>\n",
       "      <td>5.784666</td>\n",
       "      <td>1</td>\n",
       "    </tr>\n",
       "    <tr>\n",
       "      <th>2</th>\n",
       "      <td>2</td>\n",
       "      <td>0.262222</td>\n",
       "      <td>5362</td>\n",
       "      <td>3536</td>\n",
       "      <td>0.952381</td>\n",
       "      <td>10.217501</td>\n",
       "      <td>1</td>\n",
       "    </tr>\n",
       "    <tr>\n",
       "      <th>3</th>\n",
       "      <td>3</td>\n",
       "      <td>0.144556</td>\n",
       "      <td>4255</td>\n",
       "      <td>3466</td>\n",
       "      <td>1.979638</td>\n",
       "      <td>14.836207</td>\n",
       "      <td>1</td>\n",
       "    </tr>\n",
       "    <tr>\n",
       "      <th>5</th>\n",
       "      <td>5</td>\n",
       "      <td>0.461216</td>\n",
       "      <td>4845</td>\n",
       "      <td>3434</td>\n",
       "      <td>0.923254</td>\n",
       "      <td>21.221680</td>\n",
       "      <td>2</td>\n",
       "    </tr>\n",
       "    <tr>\n",
       "      <th>14</th>\n",
       "      <td>14</td>\n",
       "      <td>0.283151</td>\n",
       "      <td>4671</td>\n",
       "      <td>3388</td>\n",
       "      <td>1.339546</td>\n",
       "      <td>55.787177</td>\n",
       "      <td>9</td>\n",
       "    </tr>\n",
       "    <tr>\n",
       "      <th>39</th>\n",
       "      <td>39</td>\n",
       "      <td>0.679800</td>\n",
       "      <td>5343</td>\n",
       "      <td>3362</td>\n",
       "      <td>0.767414</td>\n",
       "      <td>153.724897</td>\n",
       "      <td>25</td>\n",
       "    </tr>\n",
       "    <tr>\n",
       "      <th>73</th>\n",
       "      <td>73</td>\n",
       "      <td>0.704993</td>\n",
       "      <td>5260</td>\n",
       "      <td>3316</td>\n",
       "      <td>1.368233</td>\n",
       "      <td>284.199474</td>\n",
       "      <td>34</td>\n",
       "    </tr>\n",
       "    <tr>\n",
       "      <th>516</th>\n",
       "      <td>516</td>\n",
       "      <td>0.841308</td>\n",
       "      <td>5569</td>\n",
       "      <td>3302</td>\n",
       "      <td>0.422195</td>\n",
       "      <td>1787.789857</td>\n",
       "      <td>443</td>\n",
       "    </tr>\n",
       "    <tr>\n",
       "      <th>1362</th>\n",
       "      <td>1362</td>\n",
       "      <td>0.273114</td>\n",
       "      <td>4279</td>\n",
       "      <td>3249</td>\n",
       "      <td>1.605088</td>\n",
       "      <td>4595.161348</td>\n",
       "      <td>846</td>\n",
       "    </tr>\n",
       "  </tbody>\n",
       "</table>\n",
       "</div>"
      ],
      "text/plain": [
       "      iter      beta  RGD_OF  AFVS_OF       imp         time  iwi\n",
       "0        0  0.791153    4684     3596       NaN     3.254879    0\n",
       "1        1  0.664850    5010     3570  0.723026     5.784666    1\n",
       "2        2  0.262222    5362     3536  0.952381    10.217501    1\n",
       "3        3  0.144556    4255     3466  1.979638    14.836207    1\n",
       "5        5  0.461216    4845     3434  0.923254    21.221680    2\n",
       "14      14  0.283151    4671     3388  1.339546    55.787177    9\n",
       "39      39  0.679800    5343     3362  0.767414   153.724897   25\n",
       "73      73  0.704993    5260     3316  1.368233   284.199474   34\n",
       "516    516  0.841308    5569     3302  0.422195  1787.789857  443\n",
       "1362  1362  0.273114    4279     3249  1.605088  4595.161348  846"
      ]
     },
     "execution_count": 98,
     "metadata": {},
     "output_type": "execute_result"
    }
   ],
   "source": [
    "improvs = get_improvs(iters)\n",
    "improvs"
   ]
  },
  {
   "cell_type": "code",
   "execution_count": 99,
   "metadata": {},
   "outputs": [
    {
     "name": "stderr",
     "output_type": "stream",
     "text": [
      "c:\\Users\\netoo\\local-personal\\repos\\alpha-neighbor-p-center-problem\\anpcp\\utils.py:104: FutureWarning: In future versions `DataFrame.to_latex` is expected to utilise the base implementation of `Styler.to_latex` for formatting and rendering. The arguments signature may therefore change. It is recommended instead to use `DataFrame.style.to_latex` which also contains additional functionality.\n",
      "  dataframe.to_latex(path, float_format=\"%.2f\", multirow=True)\n"
     ]
    }
   ],
   "source": [
    "from utils import format_latex_table\n",
    "\n",
    "format_latex_table(improvs, f\"{DIRPATH}\\\\iters_improvs_{name}.tex\");"
   ]
  },
  {
   "cell_type": "code",
   "execution_count": 100,
   "metadata": {},
   "outputs": [],
   "source": [
    "import matplotlib.pyplot as plt\n",
    "\n",
    "def plot_improvs(\n",
    "    iters_df: pd.DataFrame,\n",
    "    lastimprov: int,\n",
    "    annotation_xdiff: int,\n",
    "    annotation_ydiff: int,\n",
    "    color: str = \"blue\",\n",
    "    filename: str = \"\"\n",
    "):\n",
    "    fig, ax = plt.subplots(figsize=(20, 5), dpi=150)\n",
    "    \n",
    "    ax.plot(\n",
    "        iters_df[\"iter\"][:lastimprov],\n",
    "        iters_df[\"AFVS_OF\"].cummin()[:lastimprov],\n",
    "        color=color,\n",
    "    )\n",
    "\n",
    "    for _, row in improvs.iterrows():\n",
    "        of = int(row[\"AFVS_OF\"])\n",
    "        i = int(row[\"iter\"])\n",
    "        percent = row[\"imp\"]\n",
    "\n",
    "        ax.annotate(\n",
    "            f\"x(S) = {of}\",\n",
    "            (i, of),\n",
    "            xytext=(i + annotation_xdiff, of + annotation_ydiff),\n",
    "        )\n",
    "\n",
    "    ax.set_title(f\"Improvements in $S$ during GRASP\")\n",
    "    ax.set_ylabel(\"$x(S)$\")\n",
    "    ax.set_xlabel(\"Iteration\")\n",
    "\n",
    "    if filename:\n",
    "        fig.savefig(filename, bbox_inches=\"tight\")\n",
    "    else:\n",
    "        plt.show()"
   ]
  },
  {
   "cell_type": "markdown",
   "metadata": {},
   "source": [
    "Manually adjust parameters to plot each instance"
   ]
  },
  {
   "cell_type": "code",
   "execution_count": 109,
   "metadata": {},
   "outputs": [
    {
     "data": {
      "image/png": "[encoded data removed]",
      "text/plain": [
       "<Figure size 3000x750 with 1 Axes>"
      ]
     },
     "metadata": {
      "needs_background": "light"
     },
     "output_type": "display_data"
    }
   ],
   "source": [
    "plot_improvs(\n",
    "    iters, 1460, 3, 5,\n",
    "    \"tab:blue\" if name.endswith(\"2\") else \"tab:red\",\n",
    "    f\"{DIRPATH}\\\\iters_plot_{name}.png\"\n",
    ")"
   ]
  },
  {
   "cell_type": "code",
   "execution_count": 102,
   "metadata": {},
   "outputs": [
    {
     "data": {
      "text/plain": [
       "1498.2"
      ]
     },
     "execution_count": 102,
     "metadata": {},
     "output_type": "execute_result"
    }
   ],
   "source": [
    "1362 * 1.1"
   ]
  },
  {
   "cell_type": "code",
   "execution_count": null,
   "metadata": {},
   "outputs": [],
   "source": []
  }
 ],
 "metadata": {
  "kernelspec": {
   "display_name": "Python 3.9.10 ('venv': venv)",
   "language": "python",
   "name": "python3"
  },
  "language_info": {
   "codemirror_mode": {
    "name": "ipython",
    "version": 3
   },
   "file_extension": ".py",
   "mimetype": "text/x-python",
   "name": "python",
   "nbconvert_exporter": "python",
   "pygments_lexer": "ipython3",
   "version": "3.9.10"
  },
  "orig_nbformat": 4,
  "vscode": {
   "interpreter": {
    "hash": "ad97895f709dca0dc7d3ba4157d0e2c81757a9972c4115d2a96c02efafd59066"
   }
  }
 },
 "nbformat": 4,
 "nbformat_minor": 2
}
