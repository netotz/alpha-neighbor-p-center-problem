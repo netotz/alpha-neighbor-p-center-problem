{
 "cells": [
  {
   "cell_type": "markdown",
   "source": [
    "# Local search heuristics\r\n",
    "\r\n",
    "In this notebook, two local search heuristics will be run interactively to compare them."
   ],
   "metadata": {}
  },
  {
   "cell_type": "code",
   "execution_count": 1,
   "source": [
    "from heuristics.local_search import interchange_first, interchange_best, interchange_k"
   ],
   "outputs": [],
   "metadata": {}
  },
  {
   "cell_type": "markdown",
   "source": [
    "## Refactoring functions\r\n",
    "\r\n",
    "At first I made a function for the first interchange approach and then another separate one for the best interchange.\r\n",
    "Then I tried to merge them into a single function with an argument to decide which approach to use, but I'm not 100% sure that it does exactly the same, though it should, so I want to check that."
   ],
   "metadata": {}
  },
  {
   "cell_type": "markdown",
   "source": [
    "First of all let's generate a random instance with a random solution:"
   ],
   "metadata": {}
  },
  {
   "cell_type": "code",
   "execution_count": 2,
   "source": [
    "import random\r\n",
    "\r\n",
    "from models import Instance\r\n",
    "\r\n",
    "rinstance = Instance.random(500, 20, 2)\r\n",
    "rsolution = set(random.sample(rinstance.indexes, rinstance.p))"
   ],
   "outputs": [],
   "metadata": {}
  },
  {
   "cell_type": "code",
   "execution_count": 4,
   "source": [
    "rsolution"
   ],
   "outputs": [
    {
     "output_type": "execute_result",
     "data": {
      "text/plain": [
       "{38,\n",
       " 69,\n",
       " 70,\n",
       " 93,\n",
       " 123,\n",
       " 154,\n",
       " 168,\n",
       " 208,\n",
       " 221,\n",
       " 237,\n",
       " 251,\n",
       " 268,\n",
       " 269,\n",
       " 291,\n",
       " 292,\n",
       " 297,\n",
       " 321,\n",
       " 352,\n",
       " 377,\n",
       " 413}"
      ]
     },
     "metadata": {},
     "execution_count": 4
    }
   ],
   "metadata": {}
  },
  {
   "cell_type": "code",
   "execution_count": 7,
   "source": [
    "from utils import eval_obj_func\r\n",
    "\r\n",
    "eval_obj_func(rinstance, rsolution)[1]"
   ],
   "outputs": [
    {
     "output_type": "execute_result",
     "data": {
      "text/plain": [
       "3604"
      ]
     },
     "metadata": {},
     "execution_count": 7
    }
   ],
   "metadata": {}
  },
  {
   "cell_type": "markdown",
   "source": [
    "Now let's run the local search algorithms and see if we can keep with the merged function only:"
   ],
   "metadata": {}
  },
  {
   "cell_type": "code",
   "execution_count": 8,
   "source": [
    "if_solution = interchange_first(rinstance, rsolution)\r\n",
    "if_solution_k = interchange_k(rinstance, rsolution, is_first=True)"
   ],
   "outputs": [],
   "metadata": {}
  },
  {
   "cell_type": "code",
   "execution_count": 9,
   "source": [
    "if_solution - if_solution_k"
   ],
   "outputs": [
    {
     "output_type": "execute_result",
     "data": {
      "text/plain": [
       "set()"
      ]
     },
     "metadata": {},
     "execution_count": 9
    }
   ],
   "metadata": {}
  },
  {
   "cell_type": "markdown",
   "source": [
    "The difference between the sets is empty, meaning that they have the same points."
   ],
   "metadata": {}
  },
  {
   "cell_type": "code",
   "execution_count": 10,
   "source": [
    "im_solution = interchange_best(rinstance, rsolution)\r\n",
    "im_solution_k = interchange_k(rinstance, rsolution, is_first=False)"
   ],
   "outputs": [],
   "metadata": {}
  },
  {
   "cell_type": "code",
   "execution_count": 11,
   "source": [
    "im_solution - im_solution_k"
   ],
   "outputs": [
    {
     "output_type": "execute_result",
     "data": {
      "text/plain": [
       "set()"
      ]
     },
     "metadata": {},
     "execution_count": 11
    }
   ],
   "metadata": {}
  },
  {
   "cell_type": "markdown",
   "source": [
    "This difference is also empty.\r\n",
    "So our merged function, `interchange_k()`, does work as expected and we will be using it.\r\n",
    "The other two will be deleted."
   ],
   "metadata": {}
  },
  {
   "cell_type": "markdown",
   "source": [],
   "metadata": {}
  }
 ],
 "metadata": {
  "orig_nbformat": 4,
  "language_info": {
   "name": "python",
   "version": "3.8.8",
   "mimetype": "text/x-python",
   "codemirror_mode": {
    "name": "ipython",
    "version": 3
   },
   "pygments_lexer": "ipython3",
   "nbconvert_exporter": "python",
   "file_extension": ".py"
  },
  "kernelspec": {
   "name": "python3",
   "display_name": "Python 3.8.8 64-bit ('venv': venv)"
  },
  "interpreter": {
   "hash": "948fb69381b7e34228915382d05e70a5b941e5ca4d9dfa1a53bca293d17bfd8c"
  }
 },
 "nbformat": 4,
 "nbformat_minor": 2
}