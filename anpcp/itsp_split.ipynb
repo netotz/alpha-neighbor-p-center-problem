{
 "cells": [
  {
   "cell_type": "markdown",
   "metadata": {},
   "source": [
    "# Splitting instances from TSP Lib\n",
    "\n",
    "The original format of the TSP Lib uses only one set for all the nodes, so we need to split them into 2 different sets: one for facilities and another one for users."
   ]
  },
  {
   "cell_type": "code",
   "execution_count": 1,
   "metadata": {},
   "outputs": [
    {
     "data": {
      "text/plain": [
       "['att48.tsp',\n",
       " 'ch150.tsp',\n",
       " 'eil101.tsp',\n",
       " 'pr1002.tsp',\n",
       " 'pr439.tsp',\n",
       " 'rat575.tsp',\n",
       " 'rat783.tsp',\n",
       " 'rl1323.tsp']"
      ]
     },
     "execution_count": 1,
     "metadata": {},
     "output_type": "execute_result"
    }
   ],
   "source": [
    "import os\n",
    "\n",
    "tsp_originals = [item for item in os.listdir(\"..\\\\data\") if item.endswith(\".tsp\") and not item.endswith(\".anpcp.tsp\")]\n",
    "tsp_originals"
   ]
  },
  {
   "cell_type": "code",
   "execution_count": 2,
   "metadata": {},
   "outputs": [],
   "source": [
    "from tsp_utils import split_instance\n",
    "\n",
    "for tsp_original in tsp_originals:\n",
    "    for percentage in (1/4, 1/3, 1/2):\n",
    "        for _ in range(5):\n",
    "            split_instance(tsp_original, percentage)"
   ]
  },
  {
   "cell_type": "code",
   "execution_count": null,
   "metadata": {},
   "outputs": [],
   "source": []
  }
 ],
 "metadata": {
  "kernelspec": {
   "display_name": "Python 3.9.10 ('venv': venv)",
   "language": "python",
   "name": "python3"
  },
  "language_info": {
   "codemirror_mode": {
    "name": "ipython",
    "version": 3
   },
   "file_extension": ".py",
   "mimetype": "text/x-python",
   "name": "python",
   "nbconvert_exporter": "python",
   "pygments_lexer": "ipython3",
   "version": "3.9.10"
  },
  "orig_nbformat": 4,
  "vscode": {
   "interpreter": {
    "hash": "ad97895f709dca0dc7d3ba4157d0e2c81757a9972c4115d2a96c02efafd59066"
   }
  }
 },
 "nbformat": 4,
 "nbformat_minor": 2
}
