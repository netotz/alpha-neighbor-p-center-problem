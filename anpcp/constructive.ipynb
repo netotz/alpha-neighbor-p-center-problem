{
 "metadata": {
  "language_info": {
   "codemirror_mode": {
    "name": "ipython",
    "version": 3
   },
   "file_extension": ".py",
   "mimetype": "text/x-python",
   "name": "python",
   "nbconvert_exporter": "python",
   "pygments_lexer": "ipython3",
   "version": "3.8.8"
  },
  "orig_nbformat": 4,
  "kernelspec": {
   "name": "python3",
   "display_name": "Python 3.8.8 64-bit ('venv': venv)"
  },
  "interpreter": {
   "hash": "948fb69381b7e34228915382d05e70a5b941e5ca4d9dfa1a53bca293d17bfd8c"
  }
 },
 "nbformat": 4,
 "nbformat_minor": 2,
 "cells": [
  {
   "cell_type": "markdown",
   "source": [
    "# Constructive heuristics comparison"
   ],
   "metadata": {}
  },
  {
   "cell_type": "markdown",
   "source": [
    "The objective of the $\\alpha$-neighbor $p$-center problem can be thought of as distributing the facilities among the clients to cover them efficiently, which is the actual goal of the $p$-center problem, so a constructive heuristic that uses its objective function will be tested and compared against a greedy heuristic that takes into account the objective function of this problem."
   ],
   "metadata": {}
  },
  {
   "cell_type": "markdown",
   "source": [
    "There will be used 20 random instances of size $n = 50$, $p = 5$ and other 20 of size $n = 400$, $p = 20$, and each one will be tested with both $\\alpha = 2$ and $\\alpha = 3$. The coordinates of the points are between 0 and 1000 for both planes."
   ],
   "metadata": {}
  },
  {
   "cell_type": "code",
   "execution_count": 2,
   "source": [
    "from copy import deepcopy\r\n",
    "from typing import List\r\n",
    "\r\n",
    "from models.instance import Instance\r\n",
    "\r\n",
    "\r\n",
    "def generate_instances(amount: int, n: int, p: int) -> List[Instance]:\r\n",
    "    alpha2 = [\r\n",
    "        Instance.random(n, p, 2, 1000, 1000)\r\n",
    "        for _ in range(amount)\r\n",
    "    ]\r\n",
    "    alpha3 = deepcopy(alpha2)\r\n",
    "    for i in alpha3:\r\n",
    "        i.alpha = 3\r\n",
    "    return alpha2 + alpha3"
   ],
   "outputs": [],
   "metadata": {}
  },
  {
   "cell_type": "code",
   "execution_count": 3,
   "source": [
    "instances = generate_instances(20, 50, 5) + generate_instances(20, 400, 20)"
   ],
   "outputs": [],
   "metadata": {}
  },
  {
   "cell_type": "markdown",
   "source": [
    "We will use the following code to measure the time taken by the evaluations and the objective function results, formatted in a Pandas DataFrame."
   ],
   "metadata": {}
  },
  {
   "cell_type": "code",
   "execution_count": 4,
   "source": [
    "import timeit\r\n",
    "\r\n",
    "import pandas as pd\r\n",
    "\r\n",
    "from heuristics.constructive import pdp_based, greedy\r\n",
    "from utils import eval_obj_func\r\n",
    "\r\n",
    "def measure(instance, heuristic):\r\n",
    "    start = timeit.default_timer()\r\n",
    "    solution = heuristic(instance)\r\n",
    "    time = timeit.default_timer() - start\r\n",
    "    of = eval_obj_func(instance, solution)\r\n",
    "    return heuristic.__name__, solution, of, time\r\n",
    "\r\n",
    "def get_dataframe(data):\r\n",
    "    return pd.DataFrame({\r\n",
    "        colname: [d[i] for d in data]\r\n",
    "        for colname, i in zip(\r\n",
    "            ('n', 'p', 'a', 'heuristic', 'solution', 'OF', 'seconds'),\r\n",
    "            range(len(data[0])))\r\n",
    "    })"
   ],
   "outputs": [],
   "metadata": {}
  },
  {
   "cell_type": "markdown",
   "source": [
    "## Comparing data"
   ],
   "metadata": {}
  },
  {
   "cell_type": "code",
   "execution_count": 5,
   "source": [
    "pdp_data = [(*i.get_parameters(), *measure(i, pdp_based))  for i in instances]\r\n",
    "\r\n",
    "pdp_df = get_dataframe(pdp_data)\r\n",
    "pdp_df"
   ],
   "outputs": [
    {
     "output_type": "execute_result",
     "data": {
      "text/plain": [
       "      n   p  a  heuristic                                           solution  \\\n",
       "0    50   5  2  pdp_based                                {33, 5, 37, 40, 28}   \n",
       "1    50   5  2  pdp_based                                {33, 2, 34, 13, 14}   \n",
       "2    50   5  2  pdp_based                                  {35, 5, 8, 9, 42}   \n",
       "3    50   5  2  pdp_based                               {18, 19, 13, 45, 14}   \n",
       "4    50   5  2  pdp_based                                 {1, 7, 27, 29, 47}   \n",
       "..  ...  .. ..        ...                                                ...   \n",
       "75  400  20  3  pdp_based  {66, 68, 198, 74, 395, 397, 399, 16, 81, 209, ...   \n",
       "76  400  20  3  pdp_based  {261, 8, 201, 202, 13, 22, 281, 155, 222, 289,...   \n",
       "77  400  20  3  pdp_based  {1, 259, 325, 198, 134, 201, 204, 77, 78, 208,...   \n",
       "78  400  20  3  pdp_based  {391, 10, 13, 77, 271, 16, 17, 274, 144, 84, 2...   \n",
       "79  400  20  3  pdp_based  {1, 385, 387, 261, 390, 135, 71, 393, 330, 139...   \n",
       "\n",
       "     OF   seconds  \n",
       "0   628  0.000760  \n",
       "1   607  0.000535  \n",
       "2   794  0.000527  \n",
       "3   611  0.000617  \n",
       "4   643  0.000525  \n",
       "..  ...       ...  \n",
       "75  406  0.074006  \n",
       "76  390  0.093924  \n",
       "77  375  0.073400  \n",
       "78  372  0.064396  \n",
       "79  341  0.097384  \n",
       "\n",
       "[80 rows x 7 columns]"
      ],
      "text/html": [
       "<div>\n",
       "<style scoped>\n",
       "    .dataframe tbody tr th:only-of-type {\n",
       "        vertical-align: middle;\n",
       "    }\n",
       "\n",
       "    .dataframe tbody tr th {\n",
       "        vertical-align: top;\n",
       "    }\n",
       "\n",
       "    .dataframe thead th {\n",
       "        text-align: right;\n",
       "    }\n",
       "</style>\n",
       "<table border=\"1\" class=\"dataframe\">\n",
       "  <thead>\n",
       "    <tr style=\"text-align: right;\">\n",
       "      <th></th>\n",
       "      <th>n</th>\n",
       "      <th>p</th>\n",
       "      <th>a</th>\n",
       "      <th>heuristic</th>\n",
       "      <th>solution</th>\n",
       "      <th>OF</th>\n",
       "      <th>seconds</th>\n",
       "    </tr>\n",
       "  </thead>\n",
       "  <tbody>\n",
       "    <tr>\n",
       "      <th>0</th>\n",
       "      <td>50</td>\n",
       "      <td>5</td>\n",
       "      <td>2</td>\n",
       "      <td>pdp_based</td>\n",
       "      <td>{33, 5, 37, 40, 28}</td>\n",
       "      <td>628</td>\n",
       "      <td>0.000760</td>\n",
       "    </tr>\n",
       "    <tr>\n",
       "      <th>1</th>\n",
       "      <td>50</td>\n",
       "      <td>5</td>\n",
       "      <td>2</td>\n",
       "      <td>pdp_based</td>\n",
       "      <td>{33, 2, 34, 13, 14}</td>\n",
       "      <td>607</td>\n",
       "      <td>0.000535</td>\n",
       "    </tr>\n",
       "    <tr>\n",
       "      <th>2</th>\n",
       "      <td>50</td>\n",
       "      <td>5</td>\n",
       "      <td>2</td>\n",
       "      <td>pdp_based</td>\n",
       "      <td>{35, 5, 8, 9, 42}</td>\n",
       "      <td>794</td>\n",
       "      <td>0.000527</td>\n",
       "    </tr>\n",
       "    <tr>\n",
       "      <th>3</th>\n",
       "      <td>50</td>\n",
       "      <td>5</td>\n",
       "      <td>2</td>\n",
       "      <td>pdp_based</td>\n",
       "      <td>{18, 19, 13, 45, 14}</td>\n",
       "      <td>611</td>\n",
       "      <td>0.000617</td>\n",
       "    </tr>\n",
       "    <tr>\n",
       "      <th>4</th>\n",
       "      <td>50</td>\n",
       "      <td>5</td>\n",
       "      <td>2</td>\n",
       "      <td>pdp_based</td>\n",
       "      <td>{1, 7, 27, 29, 47}</td>\n",
       "      <td>643</td>\n",
       "      <td>0.000525</td>\n",
       "    </tr>\n",
       "    <tr>\n",
       "      <th>...</th>\n",
       "      <td>...</td>\n",
       "      <td>...</td>\n",
       "      <td>...</td>\n",
       "      <td>...</td>\n",
       "      <td>...</td>\n",
       "      <td>...</td>\n",
       "      <td>...</td>\n",
       "    </tr>\n",
       "    <tr>\n",
       "      <th>75</th>\n",
       "      <td>400</td>\n",
       "      <td>20</td>\n",
       "      <td>3</td>\n",
       "      <td>pdp_based</td>\n",
       "      <td>{66, 68, 198, 74, 395, 397, 399, 16, 81, 209, ...</td>\n",
       "      <td>406</td>\n",
       "      <td>0.074006</td>\n",
       "    </tr>\n",
       "    <tr>\n",
       "      <th>76</th>\n",
       "      <td>400</td>\n",
       "      <td>20</td>\n",
       "      <td>3</td>\n",
       "      <td>pdp_based</td>\n",
       "      <td>{261, 8, 201, 202, 13, 22, 281, 155, 222, 289,...</td>\n",
       "      <td>390</td>\n",
       "      <td>0.093924</td>\n",
       "    </tr>\n",
       "    <tr>\n",
       "      <th>77</th>\n",
       "      <td>400</td>\n",
       "      <td>20</td>\n",
       "      <td>3</td>\n",
       "      <td>pdp_based</td>\n",
       "      <td>{1, 259, 325, 198, 134, 201, 204, 77, 78, 208,...</td>\n",
       "      <td>375</td>\n",
       "      <td>0.073400</td>\n",
       "    </tr>\n",
       "    <tr>\n",
       "      <th>78</th>\n",
       "      <td>400</td>\n",
       "      <td>20</td>\n",
       "      <td>3</td>\n",
       "      <td>pdp_based</td>\n",
       "      <td>{391, 10, 13, 77, 271, 16, 17, 274, 144, 84, 2...</td>\n",
       "      <td>372</td>\n",
       "      <td>0.064396</td>\n",
       "    </tr>\n",
       "    <tr>\n",
       "      <th>79</th>\n",
       "      <td>400</td>\n",
       "      <td>20</td>\n",
       "      <td>3</td>\n",
       "      <td>pdp_based</td>\n",
       "      <td>{1, 385, 387, 261, 390, 135, 71, 393, 330, 139...</td>\n",
       "      <td>341</td>\n",
       "      <td>0.097384</td>\n",
       "    </tr>\n",
       "  </tbody>\n",
       "</table>\n",
       "<p>80 rows × 7 columns</p>\n",
       "</div>"
      ]
     },
     "metadata": {},
     "execution_count": 5
    }
   ],
   "metadata": {}
  },
  {
   "cell_type": "markdown",
   "source": [
    "Saving the evaluation to a CSV:"
   ],
   "metadata": {}
  },
  {
   "cell_type": "code",
   "execution_count": 11,
   "source": [
    "import os\r\n",
    "\r\n",
    "OUT_FOLDER = 'nb_results\\\\constructive'\r\n",
    "pdp_df.to_csv(os.path.join(OUT_FOLDER, 'pdp_df.csv'))"
   ],
   "outputs": [],
   "metadata": {}
  },
  {
   "cell_type": "markdown",
   "source": [
    "Calculating statistics of the results:"
   ],
   "metadata": {}
  },
  {
   "cell_type": "code",
   "execution_count": 12,
   "source": [
    "stats = {\r\n",
    "    'pdp': {\r\n",
    "        f'n{n}': {\r\n",
    "            f'a{alpha}': pdp_df[\r\n",
    "                (pdp_df['n'] == n) &\r\n",
    "                (pdp_df['a'] == alpha)\r\n",
    "                ][['OF', 'seconds']].describe()\r\n",
    "            for alpha in (2, 3)\r\n",
    "        }\r\n",
    "        for n in (50, 400)\r\n",
    "    }\r\n",
    "}"
   ],
   "outputs": [],
   "metadata": {}
  },
  {
   "cell_type": "code",
   "execution_count": 16,
   "source": [
    "stats['pdp']['n50']['a2'], stats['pdp']['n50']['a3']"
   ],
   "outputs": [
    {
     "output_type": "execute_result",
     "data": {
      "text/plain": [
       "(               OF    seconds\n",
       " count   20.000000  20.000000\n",
       " mean   700.400000   0.000871\n",
       " std     88.983381   0.000701\n",
       " min    565.000000   0.000502\n",
       " 25%    627.750000   0.000527\n",
       " 50%    678.500000   0.000591\n",
       " 75%    765.500000   0.000941\n",
       " max    881.000000   0.003575,\n",
       "                OF    seconds\n",
       " count   20.000000  20.000000\n",
       " mean   843.050000   0.000859\n",
       " std     71.258961   0.000333\n",
       " min    738.000000   0.000509\n",
       " 25%    780.750000   0.000562\n",
       " 50%    838.000000   0.000886\n",
       " 75%    906.750000   0.001055\n",
       " max    958.000000   0.001752)"
      ]
     },
     "metadata": {},
     "execution_count": 16
    }
   ],
   "metadata": {}
  }
 ]
}