{
 "metadata": {
  "language_info": {
   "codemirror_mode": {
    "name": "ipython",
    "version": 3
   },
   "file_extension": ".py",
   "mimetype": "text/x-python",
   "name": "python",
   "nbconvert_exporter": "python",
   "pygments_lexer": "ipython3",
   "version": "3.8.8"
  },
  "orig_nbformat": 4,
  "kernelspec": {
   "name": "python3",
   "display_name": "Python 3.8.8 64-bit ('venv': venv)"
  },
  "interpreter": {
   "hash": "948fb69381b7e34228915382d05e70a5b941e5ca4d9dfa1a53bca293d17bfd8c"
  }
 },
 "nbformat": 4,
 "nbformat_minor": 2,
 "cells": [
  {
   "source": [
    "# Constructive heuristics comparison"
   ],
   "cell_type": "markdown",
   "metadata": {}
  },
  {
   "source": [
    "The objective of the $\\alpha$-neighbor $p$-center problem can be thought of as distributing the facilities among the clients to cover them efficiently, which is the actual goal of the $p$-center problem, so a constructive heuristic that uses its objective function will be tested and compared against a greedy heuristic that takes into account the objective function of this problem."
   ],
   "cell_type": "markdown",
   "metadata": {}
  },
  {
   "source": [
    "The following random generated instances will be used:"
   ],
   "cell_type": "markdown",
   "metadata": {}
  },
  {
   "cell_type": "code",
   "execution_count": 1,
   "metadata": {},
   "outputs": [],
   "source": [
    "from copy import deepcopy\n",
    "\n",
    "from models import Instance\n",
    "\n",
    "sizes = (\n",
    "    (25, 5),\n",
    "    (50, 7),\n",
    "    (100, 10),\n",
    "    (200, 15),\n",
    "    (300, 20),\n",
    "    (500, 25)\n",
    ")\n",
    "alpha2 = [\n",
    "    Instance.random(n, p, 2)\n",
    "    for n, p in sizes\n",
    "]\n",
    "alpha3 = deepcopy(alpha2)\n",
    "for i in alpha3:\n",
    "    i.alpha = 3"
   ]
  },
  {
   "cell_type": "code",
   "execution_count": 2,
   "metadata": {},
   "outputs": [],
   "source": [
    "import timeit\n",
    "\n",
    "import pandas as pd\n",
    "\n",
    "from heuristics.constructive import pdp_based, greedy\n",
    "from utils import eval_obj_func\n",
    "\n",
    "def measure(instance, heuristic):\n",
    "    start = timeit.default_timer()\n",
    "    solution = heuristic(instance)\n",
    "    time = timeit.default_timer() - start\n",
    "    of = eval_obj_func(instance, solution)\n",
    "    return heuristic.__name__, solution, of, time\n",
    "\n",
    "def get_dataframe(data):\n",
    "    return pd.DataFrame({\n",
    "        colname: [d[i] for d in data]\n",
    "        for colname, i in zip(colnames, range(len(data[0])))\n",
    "    })"
   ]
  },
  {
   "source": [
    "## Comparing data"
   ],
   "cell_type": "markdown",
   "metadata": {}
  },
  {
   "cell_type": "code",
   "execution_count": 3,
   "metadata": {},
   "outputs": [
    {
     "output_type": "execute_result",
     "data": {
      "text/plain": [
       "      n   p  a  heuristic                                           solution  \\\n",
       "0    25   5  2  pdp_based                                {24, 25, 12, 13, 9}   \n",
       "1    50   7  2  pdp_based                         {3, 35, 5, 38, 42, 25, 26}   \n",
       "2   100  10  2  pdp_based             {2, 98, 6, 39, 40, 74, 12, 52, 85, 28}   \n",
       "3   200  15  2  pdp_based  {160, 128, 192, 103, 135, 136, 45, 175, 82, 14...   \n",
       "4   300  20  2  pdp_based  {200, 139, 14, 143, 207, 149, 152, 216, 285, 2...   \n",
       "5   500  25  2  pdp_based  {64, 324, 263, 73, 202, 203, 463, 336, 468, 27...   \n",
       "6    25   5  3  pdp_based                                {24, 25, 12, 13, 9}   \n",
       "7    50   7  3  pdp_based                         {3, 35, 5, 38, 42, 25, 26}   \n",
       "8   100  10  3  pdp_based             {2, 98, 6, 39, 40, 74, 12, 52, 85, 28}   \n",
       "9   200  15  3  pdp_based  {160, 128, 192, 103, 135, 136, 45, 175, 82, 14...   \n",
       "10  300  20  3  pdp_based  {200, 139, 14, 143, 207, 149, 152, 216, 285, 2...   \n",
       "11  500  25  3  pdp_based  {64, 324, 263, 73, 202, 203, 463, 336, 468, 27...   \n",
       "12   25   5  2     greedy                                {1, 18, 24, 25, 12}   \n",
       "13   50   7  2     greedy                          {1, 3, 5, 40, 25, 26, 13}   \n",
       "14  100  10  2     greedy                {1, 2, 98, 4, 3, 39, 8, 10, 17, 58}   \n",
       "15  200  15  2     greedy  {192, 1, 2, 3, 4, 5, 7, 135, 9, 10, 12, 15, 16...   \n",
       "16  300  20  2     greedy  {1, 2, 3, 4, 5, 6, 7, 8, 267, 12, 11, 14, 24, ...   \n",
       "17  500  25  2     greedy  {1, 2, 258, 4, 3, 6, 7, 8, 9, 451, 14, 18, 83,...   \n",
       "18   25   5  3     greedy                                 {1, 5, 24, 25, 12}   \n",
       "19   50   7  3     greedy                           {1, 3, 35, 5, 8, 25, 26}   \n",
       "20  100  10  3     greedy              {1, 2, 98, 4, 39, 40, 11, 15, 17, 61}   \n",
       "21  200  15  3     greedy  {160, 1, 2, 3, 4, 5, 70, 135, 7, 10, 11, 14, 1...   \n",
       "22  300  20  3     greedy  {1, 2, 3, 4, 5, 7, 9, 10, 11, 12, 14, 285, 286...   \n",
       "23  500  25  3     greedy  {1, 258, 3, 4, 6, 390, 10, 13, 15, 17, 18, 20,...   \n",
       "\n",
       "      OF    time (s)  \n",
       "0   7026    0.001143  \n",
       "1   5666    0.001839  \n",
       "2   4079    0.015648  \n",
       "3   3355    0.044957  \n",
       "4   3733    0.048743  \n",
       "5   2881    0.108012  \n",
       "6   7317    0.000236  \n",
       "7   7260    0.000758  \n",
       "8   5014    0.003014  \n",
       "9   4259    0.015244  \n",
       "10  4317    0.037954  \n",
       "11  3334    0.113067  \n",
       "12  5840    0.002117  \n",
       "13  5295    0.023675  \n",
       "14  4186    0.248285  \n",
       "15  3473    2.936806  \n",
       "16  2937   18.590312  \n",
       "17  2485  120.457374  \n",
       "18  7555    0.003684  \n",
       "19  6187    0.030939  \n",
       "20  5803    0.286525  \n",
       "21  4528    3.246555  \n",
       "22  3755   15.134863  \n",
       "23  3703   96.796933  "
      ],
      "text/html": "<div>\n<style scoped>\n    .dataframe tbody tr th:only-of-type {\n        vertical-align: middle;\n    }\n\n    .dataframe tbody tr th {\n        vertical-align: top;\n    }\n\n    .dataframe thead th {\n        text-align: right;\n    }\n</style>\n<table border=\"1\" class=\"dataframe\">\n  <thead>\n    <tr style=\"text-align: right;\">\n      <th></th>\n      <th>n</th>\n      <th>p</th>\n      <th>a</th>\n      <th>heuristic</th>\n      <th>solution</th>\n      <th>OF</th>\n      <th>time (s)</th>\n    </tr>\n  </thead>\n  <tbody>\n    <tr>\n      <th>0</th>\n      <td>25</td>\n      <td>5</td>\n      <td>2</td>\n      <td>pdp_based</td>\n      <td>{24, 25, 12, 13, 9}</td>\n      <td>7026</td>\n      <td>0.001143</td>\n    </tr>\n    <tr>\n      <th>1</th>\n      <td>50</td>\n      <td>7</td>\n      <td>2</td>\n      <td>pdp_based</td>\n      <td>{3, 35, 5, 38, 42, 25, 26}</td>\n      <td>5666</td>\n      <td>0.001839</td>\n    </tr>\n    <tr>\n      <th>2</th>\n      <td>100</td>\n      <td>10</td>\n      <td>2</td>\n      <td>pdp_based</td>\n      <td>{2, 98, 6, 39, 40, 74, 12, 52, 85, 28}</td>\n      <td>4079</td>\n      <td>0.015648</td>\n    </tr>\n    <tr>\n      <th>3</th>\n      <td>200</td>\n      <td>15</td>\n      <td>2</td>\n      <td>pdp_based</td>\n      <td>{160, 128, 192, 103, 135, 136, 45, 175, 82, 14...</td>\n      <td>3355</td>\n      <td>0.044957</td>\n    </tr>\n    <tr>\n      <th>4</th>\n      <td>300</td>\n      <td>20</td>\n      <td>2</td>\n      <td>pdp_based</td>\n      <td>{200, 139, 14, 143, 207, 149, 152, 216, 285, 2...</td>\n      <td>3733</td>\n      <td>0.048743</td>\n    </tr>\n    <tr>\n      <th>5</th>\n      <td>500</td>\n      <td>25</td>\n      <td>2</td>\n      <td>pdp_based</td>\n      <td>{64, 324, 263, 73, 202, 203, 463, 336, 468, 27...</td>\n      <td>2881</td>\n      <td>0.108012</td>\n    </tr>\n    <tr>\n      <th>6</th>\n      <td>25</td>\n      <td>5</td>\n      <td>3</td>\n      <td>pdp_based</td>\n      <td>{24, 25, 12, 13, 9}</td>\n      <td>7317</td>\n      <td>0.000236</td>\n    </tr>\n    <tr>\n      <th>7</th>\n      <td>50</td>\n      <td>7</td>\n      <td>3</td>\n      <td>pdp_based</td>\n      <td>{3, 35, 5, 38, 42, 25, 26}</td>\n      <td>7260</td>\n      <td>0.000758</td>\n    </tr>\n    <tr>\n      <th>8</th>\n      <td>100</td>\n      <td>10</td>\n      <td>3</td>\n      <td>pdp_based</td>\n      <td>{2, 98, 6, 39, 40, 74, 12, 52, 85, 28}</td>\n      <td>5014</td>\n      <td>0.003014</td>\n    </tr>\n    <tr>\n      <th>9</th>\n      <td>200</td>\n      <td>15</td>\n      <td>3</td>\n      <td>pdp_based</td>\n      <td>{160, 128, 192, 103, 135, 136, 45, 175, 82, 14...</td>\n      <td>4259</td>\n      <td>0.015244</td>\n    </tr>\n    <tr>\n      <th>10</th>\n      <td>300</td>\n      <td>20</td>\n      <td>3</td>\n      <td>pdp_based</td>\n      <td>{200, 139, 14, 143, 207, 149, 152, 216, 285, 2...</td>\n      <td>4317</td>\n      <td>0.037954</td>\n    </tr>\n    <tr>\n      <th>11</th>\n      <td>500</td>\n      <td>25</td>\n      <td>3</td>\n      <td>pdp_based</td>\n      <td>{64, 324, 263, 73, 202, 203, 463, 336, 468, 27...</td>\n      <td>3334</td>\n      <td>0.113067</td>\n    </tr>\n    <tr>\n      <th>12</th>\n      <td>25</td>\n      <td>5</td>\n      <td>2</td>\n      <td>greedy</td>\n      <td>{1, 18, 24, 25, 12}</td>\n      <td>5840</td>\n      <td>0.002117</td>\n    </tr>\n    <tr>\n      <th>13</th>\n      <td>50</td>\n      <td>7</td>\n      <td>2</td>\n      <td>greedy</td>\n      <td>{1, 3, 5, 40, 25, 26, 13}</td>\n      <td>5295</td>\n      <td>0.023675</td>\n    </tr>\n    <tr>\n      <th>14</th>\n      <td>100</td>\n      <td>10</td>\n      <td>2</td>\n      <td>greedy</td>\n      <td>{1, 2, 98, 4, 3, 39, 8, 10, 17, 58}</td>\n      <td>4186</td>\n      <td>0.248285</td>\n    </tr>\n    <tr>\n      <th>15</th>\n      <td>200</td>\n      <td>15</td>\n      <td>2</td>\n      <td>greedy</td>\n      <td>{192, 1, 2, 3, 4, 5, 7, 135, 9, 10, 12, 15, 16...</td>\n      <td>3473</td>\n      <td>2.936806</td>\n    </tr>\n    <tr>\n      <th>16</th>\n      <td>300</td>\n      <td>20</td>\n      <td>2</td>\n      <td>greedy</td>\n      <td>{1, 2, 3, 4, 5, 6, 7, 8, 267, 12, 11, 14, 24, ...</td>\n      <td>2937</td>\n      <td>18.590312</td>\n    </tr>\n    <tr>\n      <th>17</th>\n      <td>500</td>\n      <td>25</td>\n      <td>2</td>\n      <td>greedy</td>\n      <td>{1, 2, 258, 4, 3, 6, 7, 8, 9, 451, 14, 18, 83,...</td>\n      <td>2485</td>\n      <td>120.457374</td>\n    </tr>\n    <tr>\n      <th>18</th>\n      <td>25</td>\n      <td>5</td>\n      <td>3</td>\n      <td>greedy</td>\n      <td>{1, 5, 24, 25, 12}</td>\n      <td>7555</td>\n      <td>0.003684</td>\n    </tr>\n    <tr>\n      <th>19</th>\n      <td>50</td>\n      <td>7</td>\n      <td>3</td>\n      <td>greedy</td>\n      <td>{1, 3, 35, 5, 8, 25, 26}</td>\n      <td>6187</td>\n      <td>0.030939</td>\n    </tr>\n    <tr>\n      <th>20</th>\n      <td>100</td>\n      <td>10</td>\n      <td>3</td>\n      <td>greedy</td>\n      <td>{1, 2, 98, 4, 39, 40, 11, 15, 17, 61}</td>\n      <td>5803</td>\n      <td>0.286525</td>\n    </tr>\n    <tr>\n      <th>21</th>\n      <td>200</td>\n      <td>15</td>\n      <td>3</td>\n      <td>greedy</td>\n      <td>{160, 1, 2, 3, 4, 5, 70, 135, 7, 10, 11, 14, 1...</td>\n      <td>4528</td>\n      <td>3.246555</td>\n    </tr>\n    <tr>\n      <th>22</th>\n      <td>300</td>\n      <td>20</td>\n      <td>3</td>\n      <td>greedy</td>\n      <td>{1, 2, 3, 4, 5, 7, 9, 10, 11, 12, 14, 285, 286...</td>\n      <td>3755</td>\n      <td>15.134863</td>\n    </tr>\n    <tr>\n      <th>23</th>\n      <td>500</td>\n      <td>25</td>\n      <td>3</td>\n      <td>greedy</td>\n      <td>{1, 258, 3, 4, 6, 390, 10, 13, 15, 17, 18, 20,...</td>\n      <td>3703</td>\n      <td>96.796933</td>\n    </tr>\n  </tbody>\n</table>\n</div>"
     },
     "metadata": {},
     "execution_count": 3
    }
   ],
   "source": [
    "pdp_data = [(*i.get_parameters(), *measure(i, pdp_based))  for i in alpha2 + alpha3]\r\n",
    "anpcp_data = [(*i.get_parameters(), *measure(i, greedy))  for i in alpha2 + alpha3]\r\n",
    "\r\n",
    "colnames = ('n', 'p', 'a', 'heuristic', 'solution', 'OF', 'time (s)')\r\n",
    "dataframe = get_dataframe(pdp_data + anpcp_data)\r\n",
    "dataframe"
   ]
  }
 ]
}