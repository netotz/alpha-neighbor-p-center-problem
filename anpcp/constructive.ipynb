{
 "metadata": {
  "language_info": {
   "codemirror_mode": {
    "name": "ipython",
    "version": 3
   },
   "file_extension": ".py",
   "mimetype": "text/x-python",
   "name": "python",
   "nbconvert_exporter": "python",
   "pygments_lexer": "ipython3",
   "version": "3.8.8"
  },
  "orig_nbformat": 4,
  "kernelspec": {
   "name": "python3",
   "display_name": "Python 3.8.8 64-bit ('venv': venv)"
  },
  "interpreter": {
   "hash": "948fb69381b7e34228915382d05e70a5b941e5ca4d9dfa1a53bca293d17bfd8c"
  }
 },
 "nbformat": 4,
 "nbformat_minor": 2,
 "cells": [
  {
   "cell_type": "markdown",
   "source": [
    "# Constructive heuristics comparison"
   ],
   "metadata": {}
  },
  {
   "cell_type": "markdown",
   "source": [
    "The objective of the $\\alpha$-neighbor $p$-center problem can be thought of as distributing the facilities among the clients to cover them efficiently, which is the actual goal of the $p$-center problem, so a constructive heuristic that uses its objective function will be tested and compared against a greedy heuristic that takes into account the objective function of this problem."
   ],
   "metadata": {}
  },
  {
   "cell_type": "markdown",
   "source": [
    "There will be used 20 random instances of size $n = 50$, $p = 5$ and other 20 of size $n = 400$, $p = 20$, and each one will be tested with both $\\alpha = 2$ and $\\alpha = 3$. The coordinates of the points are between 0 and 1000 for both planes."
   ],
   "metadata": {}
  },
  {
   "cell_type": "code",
   "execution_count": 39,
   "source": [
    "from copy import deepcopy\r\n",
    "\r\n",
    "from constructive_module import generate_instances\r\n",
    "\r\n",
    "instances_n50_a2 = generate_instances(20, 50, 5, 2)\r\n",
    "instances_n50_a3 = deepcopy(instances_n50_a2)\r\n",
    "for i in instances_n50_a3:\r\n",
    "    i.alpha = 3\r\n",
    "instances_n50 = instances_n50_a2 + instances_n50_a3\r\n",
    "\r\n",
    "instances_n400_a2 = generate_instances(20, 400, 20, 2)\r\n",
    "instances_n400_a3 = deepcopy(instances_n400_a2)\r\n",
    "for i in instances_n400_a3:\r\n",
    "    i.alpha = 3\r\n",
    "instances_n400 = instances_n400_a2 + instances_n400_a3"
   ],
   "outputs": [],
   "metadata": {}
  },
  {
   "cell_type": "markdown",
   "source": [
    "We will use the following code to measure the time taken by the evaluations and the objective function results, formatted in a Pandas DataFrame."
   ],
   "metadata": {}
  },
  {
   "cell_type": "code",
   "execution_count": 4,
   "source": [
    "import timeit\r\n",
    "\r\n",
    "import pandas as pd\r\n",
    "\r\n",
    "from heuristics.constructive import pdp_based, greedy\r\n",
    "from utils import eval_obj_func\r\n",
    "\r\n",
    "def measure(instance, heuristic):\r\n",
    "    start = timeit.default_timer()\r\n",
    "    solution = heuristic(instance)\r\n",
    "    time = timeit.default_timer() - start\r\n",
    "    of = eval_obj_func(instance, solution)\r\n",
    "    return heuristic.__name__, solution, of, time\r\n",
    "\r\n",
    "def get_dataframe(data):\r\n",
    "    return pd.DataFrame({\r\n",
    "        colname: [d[i] for d in data]\r\n",
    "        for colname, i in zip(\r\n",
    "            ('n', 'p', 'a', 'heuristic', 'solution', 'OF', 'seconds'),\r\n",
    "            range(len(data[0])))\r\n",
    "    })"
   ],
   "outputs": [],
   "metadata": {}
  },
  {
   "cell_type": "markdown",
   "source": [
    "## Comparing data"
   ],
   "metadata": {}
  },
  {
   "cell_type": "code",
   "execution_count": 64,
   "source": [
    "pdp_data = [(*i.get_parameters(), *measure(i, pdp_based))  for i in instances_n50 + instances_n400]\r\n",
    "\r\n",
    "pdp_df = get_dataframe(pdp_data)\r\n",
    "pdp_df"
   ],
   "outputs": [
    {
     "output_type": "execute_result",
     "data": {
      "text/plain": [
       "      n   p  a  heuristic                                           solution  \\\n",
       "0    50   5  2  pdp_based                                {17, 21, 22, 5, 13}   \n",
       "1    50   5  2  pdp_based                               {18, 34, 25, 28, 29}   \n",
       "2    50   5  2  pdp_based                                 {32, 1, 39, 7, 25}   \n",
       "3    50   5  2  pdp_based                               {18, 19, 14, 30, 31}   \n",
       "4    50   5  2  pdp_based                               {48, 17, 36, 26, 31}   \n",
       "..  ...  .. ..        ...                                                ...   \n",
       "75  400  20  3  pdp_based  {196, 329, 9, 268, 18, 151, 152, 345, 219, 30,...   \n",
       "76  400  20  3  pdp_based  {323, 132, 70, 136, 331, 204, 141, 142, 11, 15...   \n",
       "77  400  20  3  pdp_based  {389, 390, 391, 264, 136, 330, 265, 72, 13, 20...   \n",
       "78  400  20  3  pdp_based  {130, 131, 9, 75, 338, 276, 277, 87, 27, 31, 9...   \n",
       "79  400  20  3  pdp_based  {193, 255, 7, 8, 139, 398, 91, 29, 223, 95, 16...   \n",
       "\n",
       "     OF   seconds  \n",
       "0   571  0.000591  \n",
       "1   665  0.000481  \n",
       "2   551  0.000503  \n",
       "3   715  0.000502  \n",
       "4   650  0.000495  \n",
       "..  ...       ...  \n",
       "75  361  0.062079  \n",
       "76  364  0.070889  \n",
       "77  384  0.079459  \n",
       "78  360  0.100802  \n",
       "79  421  0.080861  \n",
       "\n",
       "[80 rows x 7 columns]"
      ],
      "text/html": [
       "<div>\n",
       "<style scoped>\n",
       "    .dataframe tbody tr th:only-of-type {\n",
       "        vertical-align: middle;\n",
       "    }\n",
       "\n",
       "    .dataframe tbody tr th {\n",
       "        vertical-align: top;\n",
       "    }\n",
       "\n",
       "    .dataframe thead th {\n",
       "        text-align: right;\n",
       "    }\n",
       "</style>\n",
       "<table border=\"1\" class=\"dataframe\">\n",
       "  <thead>\n",
       "    <tr style=\"text-align: right;\">\n",
       "      <th></th>\n",
       "      <th>n</th>\n",
       "      <th>p</th>\n",
       "      <th>a</th>\n",
       "      <th>heuristic</th>\n",
       "      <th>solution</th>\n",
       "      <th>OF</th>\n",
       "      <th>seconds</th>\n",
       "    </tr>\n",
       "  </thead>\n",
       "  <tbody>\n",
       "    <tr>\n",
       "      <th>0</th>\n",
       "      <td>50</td>\n",
       "      <td>5</td>\n",
       "      <td>2</td>\n",
       "      <td>pdp_based</td>\n",
       "      <td>{17, 21, 22, 5, 13}</td>\n",
       "      <td>571</td>\n",
       "      <td>0.000591</td>\n",
       "    </tr>\n",
       "    <tr>\n",
       "      <th>1</th>\n",
       "      <td>50</td>\n",
       "      <td>5</td>\n",
       "      <td>2</td>\n",
       "      <td>pdp_based</td>\n",
       "      <td>{18, 34, 25, 28, 29}</td>\n",
       "      <td>665</td>\n",
       "      <td>0.000481</td>\n",
       "    </tr>\n",
       "    <tr>\n",
       "      <th>2</th>\n",
       "      <td>50</td>\n",
       "      <td>5</td>\n",
       "      <td>2</td>\n",
       "      <td>pdp_based</td>\n",
       "      <td>{32, 1, 39, 7, 25}</td>\n",
       "      <td>551</td>\n",
       "      <td>0.000503</td>\n",
       "    </tr>\n",
       "    <tr>\n",
       "      <th>3</th>\n",
       "      <td>50</td>\n",
       "      <td>5</td>\n",
       "      <td>2</td>\n",
       "      <td>pdp_based</td>\n",
       "      <td>{18, 19, 14, 30, 31}</td>\n",
       "      <td>715</td>\n",
       "      <td>0.000502</td>\n",
       "    </tr>\n",
       "    <tr>\n",
       "      <th>4</th>\n",
       "      <td>50</td>\n",
       "      <td>5</td>\n",
       "      <td>2</td>\n",
       "      <td>pdp_based</td>\n",
       "      <td>{48, 17, 36, 26, 31}</td>\n",
       "      <td>650</td>\n",
       "      <td>0.000495</td>\n",
       "    </tr>\n",
       "    <tr>\n",
       "      <th>...</th>\n",
       "      <td>...</td>\n",
       "      <td>...</td>\n",
       "      <td>...</td>\n",
       "      <td>...</td>\n",
       "      <td>...</td>\n",
       "      <td>...</td>\n",
       "      <td>...</td>\n",
       "    </tr>\n",
       "    <tr>\n",
       "      <th>75</th>\n",
       "      <td>400</td>\n",
       "      <td>20</td>\n",
       "      <td>3</td>\n",
       "      <td>pdp_based</td>\n",
       "      <td>{196, 329, 9, 268, 18, 151, 152, 345, 219, 30,...</td>\n",
       "      <td>361</td>\n",
       "      <td>0.062079</td>\n",
       "    </tr>\n",
       "    <tr>\n",
       "      <th>76</th>\n",
       "      <td>400</td>\n",
       "      <td>20</td>\n",
       "      <td>3</td>\n",
       "      <td>pdp_based</td>\n",
       "      <td>{323, 132, 70, 136, 331, 204, 141, 142, 11, 15...</td>\n",
       "      <td>364</td>\n",
       "      <td>0.070889</td>\n",
       "    </tr>\n",
       "    <tr>\n",
       "      <th>77</th>\n",
       "      <td>400</td>\n",
       "      <td>20</td>\n",
       "      <td>3</td>\n",
       "      <td>pdp_based</td>\n",
       "      <td>{389, 390, 391, 264, 136, 330, 265, 72, 13, 20...</td>\n",
       "      <td>384</td>\n",
       "      <td>0.079459</td>\n",
       "    </tr>\n",
       "    <tr>\n",
       "      <th>78</th>\n",
       "      <td>400</td>\n",
       "      <td>20</td>\n",
       "      <td>3</td>\n",
       "      <td>pdp_based</td>\n",
       "      <td>{130, 131, 9, 75, 338, 276, 277, 87, 27, 31, 9...</td>\n",
       "      <td>360</td>\n",
       "      <td>0.100802</td>\n",
       "    </tr>\n",
       "    <tr>\n",
       "      <th>79</th>\n",
       "      <td>400</td>\n",
       "      <td>20</td>\n",
       "      <td>3</td>\n",
       "      <td>pdp_based</td>\n",
       "      <td>{193, 255, 7, 8, 139, 398, 91, 29, 223, 95, 16...</td>\n",
       "      <td>421</td>\n",
       "      <td>0.080861</td>\n",
       "    </tr>\n",
       "  </tbody>\n",
       "</table>\n",
       "<p>80 rows × 7 columns</p>\n",
       "</div>"
      ]
     },
     "metadata": {},
     "execution_count": 64
    }
   ],
   "metadata": {}
  },
  {
   "cell_type": "markdown",
   "source": [
    "Saving the evaluation to a CSV:"
   ],
   "metadata": {}
  },
  {
   "cell_type": "code",
   "execution_count": 68,
   "source": [
    "import os\r\n",
    "\r\n",
    "OUT_FOLDER = 'nb_results\\\\constructive'\r\n",
    "os.mkdir(OUT_FOLDER)\r\n",
    "pdp_df.to_csv(os.path.join(OUT_FOLDER, 'pdp_df.csv'))"
   ],
   "outputs": [],
   "metadata": {}
  },
  {
   "cell_type": "markdown",
   "source": [
    "Calculating statistics of the results:"
   ],
   "metadata": {}
  },
  {
   "cell_type": "code",
   "execution_count": 69,
   "source": [
    "stats = {\r\n",
    "    'pdp': {\r\n",
    "        f'n{n}': {\r\n",
    "            f'a{alpha}': pdp_df[\r\n",
    "                (pdp_df['n'] == n) &\r\n",
    "                (pdp_df['a'] == alpha)\r\n",
    "                ][['OF', 'seconds']].describe()\r\n",
    "            for alpha in (2, 3)\r\n",
    "        }\r\n",
    "        for n in (50, 400)\r\n",
    "    }\r\n",
    "}"
   ],
   "outputs": [],
   "metadata": {}
  },
  {
   "cell_type": "code",
   "execution_count": 76,
   "source": [
    "stats"
   ],
   "outputs": [
    {
     "output_type": "execute_result",
     "data": {
      "text/plain": [
       "{'pdp': {'n50': {'a2':                OF    seconds\n",
       "   count   20.000000  20.000000\n",
       "   mean   656.450000   0.000591\n",
       "   std     92.819278   0.000181\n",
       "   min    551.000000   0.000465\n",
       "   25%    597.250000   0.000495\n",
       "   50%    641.000000   0.000501\n",
       "   75%    688.750000   0.000624\n",
       "   max    935.000000   0.001099,\n",
       "   'a3':                OF    seconds\n",
       "   count   20.000000  20.000000\n",
       "   mean   874.300000   0.000887\n",
       "   std     63.766102   0.000382\n",
       "   min    744.000000   0.000468\n",
       "   25%    841.250000   0.000497\n",
       "   50%    875.500000   0.001056\n",
       "   75%    923.750000   0.001134\n",
       "   max    997.000000   0.001620},\n",
       "  'n400': {'a2':                OF    seconds\n",
       "   count   20.000000  20.000000\n",
       "   mean   297.200000   0.087361\n",
       "   std     14.954668   0.039577\n",
       "   min    272.000000   0.056054\n",
       "   25%    288.250000   0.065652\n",
       "   50%    293.500000   0.075388\n",
       "   75%    312.000000   0.099921\n",
       "   max    328.000000   0.234872,\n",
       "   'a3':                OF    seconds\n",
       "   count   20.000000  20.000000\n",
       "   mean   382.700000   0.066604\n",
       "   std     29.773001   0.012646\n",
       "   min    350.000000   0.053560\n",
       "   25%    360.750000   0.057331\n",
       "   50%    378.500000   0.063306\n",
       "   75%    395.500000   0.069739\n",
       "   max    452.000000   0.100802}}}"
      ]
     },
     "metadata": {},
     "execution_count": 76
    }
   ],
   "metadata": {}
  }
 ]
}