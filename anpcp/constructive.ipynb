{
 "metadata": {
  "language_info": {
   "codemirror_mode": {
    "name": "ipython",
    "version": 3
   },
   "file_extension": ".py",
   "mimetype": "text/x-python",
   "name": "python",
   "nbconvert_exporter": "python",
   "pygments_lexer": "ipython3",
   "version": "3.8.8"
  },
  "orig_nbformat": 4,
  "kernelspec": {
   "name": "python3",
   "display_name": "Python 3.8.8 64-bit ('venv': venv)"
  },
  "interpreter": {
   "hash": "948fb69381b7e34228915382d05e70a5b941e5ca4d9dfa1a53bca293d17bfd8c"
  }
 },
 "nbformat": 4,
 "nbformat_minor": 2,
 "cells": [
  {
   "source": [
    "# Constructive heuristics comparison"
   ],
   "cell_type": "markdown",
   "metadata": {}
  },
  {
   "source": [
    "The objective of the $\\alpha$-neighbor $p$-center problem can be thought of as distributing the facilities among the clients to cover them efficiently, which is the actual goal of the $p$-center problem, so a constructive heuristic that uses its objective function will be tested and compared against a greedy heuristic that takes into account the objective function of this problem."
   ],
   "cell_type": "markdown",
   "metadata": {}
  },
  {
   "source": [
    "The following random generated instances will be used:"
   ],
   "cell_type": "markdown",
   "metadata": {}
  },
  {
   "cell_type": "code",
   "execution_count": 15,
   "metadata": {},
   "outputs": [],
   "source": [
    "# from constructive_module import get_files\n",
    "from models import Instance\n",
    "\n",
    "sizes = (50, 100, 150, 200, 250)\n",
    "alpha2 = [\n",
    "    Instance.random(n, int(n * .05), 2)\n",
    "    for n in sizes\n",
    "]\n",
    "alpha3 = [\n",
    "    Instance.random(n, int(n * .05), 3)\n",
    "    for n in sizes\n",
    "]"
   ]
  },
  {
   "cell_type": "code",
   "execution_count": 16,
   "metadata": {},
   "outputs": [],
   "source": [
    "import timeit\n",
    "\n",
    "import pandas as pd\n",
    "\n",
    "from heuristics.constructive import pdp_based, greedy\n",
    "from utils import eval_obj_func\n",
    "\n",
    "def measure(instance, heuristic):\n",
    "    start = timeit.default_timer()\n",
    "    solution = heuristic(instance)\n",
    "    time = timeit.default_timer() - start\n",
    "    of = eval_obj_func(instance, solution)\n",
    "    return of, f'{time:0.3f} s'"
   ]
  },
  {
   "source": [
    "## $\\alpha$ = 2"
   ],
   "cell_type": "markdown",
   "metadata": {}
  },
  {
   "source": [
    "### PDP based"
   ],
   "cell_type": "markdown",
   "metadata": {}
  },
  {
   "cell_type": "code",
   "execution_count": 17,
   "metadata": {},
   "outputs": [
    {
     "output_type": "execute_result",
     "data": {
      "text/plain": [
       "[(50, (10033, '0.000 s')),\n",
       " (100, (6523, '0.002 s')),\n",
       " (150, (5170, '0.006 s')),\n",
       " (200, (4414, '0.008 s')),\n",
       " (250, (3892, '0.023 s'))]"
      ]
     },
     "metadata": {},
     "execution_count": 17
    }
   ],
   "source": [
    "[(i.n, measure(i, pdp_based)) for i in alpha2]"
   ]
  },
  {
   "source": [
    "### ANPCP greedy"
   ],
   "cell_type": "markdown",
   "metadata": {}
  },
  {
   "cell_type": "code",
   "execution_count": 18,
   "metadata": {},
   "outputs": [
    {
     "output_type": "execute_result",
     "data": {
      "text/plain": [
       "[(50, (10033, '0.001 s')),\n",
       " (100, (5897, '0.529 s')),\n",
       " (150, (5170, '2.688 s')),\n",
       " (200, (4388, '13.270 s')),\n",
       " (250, (4440, '39.711 s'))]"
      ]
     },
     "metadata": {},
     "execution_count": 18
    }
   ],
   "source": [
    "[(i.n, measure(i, greedy)) for i in alpha2]"
   ]
  },
  {
   "source": [
    "## $\\alpha$ = 3"
   ],
   "cell_type": "markdown",
   "metadata": {}
  },
  {
   "source": [
    "### PDP based"
   ],
   "cell_type": "markdown",
   "metadata": {}
  },
  {
   "source": [
    "### ANPCP greedy"
   ],
   "cell_type": "markdown",
   "metadata": {}
  }
 ]
}