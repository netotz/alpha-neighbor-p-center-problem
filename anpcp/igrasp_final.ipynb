{
 "cells": [
  {
   "cell_type": "code",
   "execution_count": 8,
   "metadata": {},
   "outputs": [
    {
     "data": {
      "text/html": [
       "<div>\n",
       "<style scoped>\n",
       "    .dataframe tbody tr th:only-of-type {\n",
       "        vertical-align: middle;\n",
       "    }\n",
       "\n",
       "    .dataframe tbody tr th {\n",
       "        vertical-align: top;\n",
       "    }\n",
       "\n",
       "    .dataframe thead th {\n",
       "        text-align: right;\n",
       "    }\n",
       "</style>\n",
       "<table border=\"1\" class=\"dataframe\">\n",
       "  <thead>\n",
       "    <tr style=\"text-align: right;\">\n",
       "      <th></th>\n",
       "      <th>instance</th>\n",
       "      <th>i</th>\n",
       "      <th>p</th>\n",
       "      <th>alpha</th>\n",
       "      <th>best_rgd</th>\n",
       "      <th>best_afvs</th>\n",
       "      <th>diff</th>\n",
       "      <th>min_imp</th>\n",
       "      <th>max_imp</th>\n",
       "      <th>avg_imp</th>\n",
       "      <th>time</th>\n",
       "      <th>last_imp</th>\n",
       "      <th>min_upc</th>\n",
       "      <th>max_upc</th>\n",
       "      <th>avg_upc</th>\n",
       "    </tr>\n",
       "  </thead>\n",
       "  <tbody>\n",
       "    <tr>\n",
       "      <th>0</th>\n",
       "      <td>eil101_68_33</td>\n",
       "      <td>0</td>\n",
       "      <td>6</td>\n",
       "      <td>2</td>\n",
       "      <td>37</td>\n",
       "      <td>31</td>\n",
       "      <td>16.216216</td>\n",
       "      <td>5.405405</td>\n",
       "      <td>42.592593</td>\n",
       "      <td>28.196863</td>\n",
       "      <td>1.146756</td>\n",
       "      <td>5</td>\n",
       "      <td>6</td>\n",
       "      <td>15</td>\n",
       "      <td>11.333333</td>\n",
       "    </tr>\n",
       "    <tr>\n",
       "      <th>1</th>\n",
       "      <td>eil101_68_33</td>\n",
       "      <td>0</td>\n",
       "      <td>6</td>\n",
       "      <td>3</td>\n",
       "      <td>48</td>\n",
       "      <td>39</td>\n",
       "      <td>18.750000</td>\n",
       "      <td>0.000000</td>\n",
       "      <td>37.096774</td>\n",
       "      <td>25.959719</td>\n",
       "      <td>1.992866</td>\n",
       "      <td>0</td>\n",
       "      <td>8</td>\n",
       "      <td>19</td>\n",
       "      <td>11.333333</td>\n",
       "    </tr>\n",
       "  </tbody>\n",
       "</table>\n",
       "</div>"
      ],
      "text/plain": [
       "       instance  i  p  alpha  best_rgd  best_afvs       diff   min_imp  \\\n",
       "0  eil101_68_33  0  6      2        37         31  16.216216  5.405405   \n",
       "1  eil101_68_33  0  6      3        48         39  18.750000  0.000000   \n",
       "\n",
       "     max_imp    avg_imp      time  last_imp  min_upc  max_upc    avg_upc  \n",
       "0  42.592593  28.196863  1.146756         5        6       15  11.333333  \n",
       "1  37.096774  25.959719  1.992866         0        8       19  11.333333  "
      ]
     },
     "execution_count": 8,
     "metadata": {},
     "output_type": "execute_result"
    }
   ],
   "source": [
    "from grasp_final import read_results\n",
    "\n",
    "names = [\n",
    "    \"att48_32_16\",\n",
    "    \"eil101_68_33\",\n",
    "]\n",
    "\n",
    "final = read_results(names[1])\n",
    "final"
   ]
  },
  {
   "cell_type": "code",
   "execution_count": 9,
   "metadata": {},
   "outputs": [],
   "source": [
    "# final.groupby(\"tsp n m\".split()).mean()"
   ]
  }
 ],
 "metadata": {
  "kernelspec": {
   "display_name": "Python 3.9.10 ('venv': venv)",
   "language": "python",
   "name": "python3"
  },
  "language_info": {
   "codemirror_mode": {
    "name": "ipython",
    "version": 3
   },
   "file_extension": ".py",
   "mimetype": "text/x-python",
   "name": "python",
   "nbconvert_exporter": "python",
   "pygments_lexer": "ipython3",
   "version": "3.9.10"
  },
  "orig_nbformat": 4,
  "vscode": {
   "interpreter": {
    "hash": "ad97895f709dca0dc7d3ba4157d0e2c81757a9972c4115d2a96c02efafd59066"
   }
  }
 },
 "nbformat": 4,
 "nbformat_minor": 2
}
