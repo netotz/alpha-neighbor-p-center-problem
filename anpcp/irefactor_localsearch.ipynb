{
 "cells": [
  {
   "cell_type": "markdown",
   "source": [
    "# Refactoring local search functions"
   ],
   "metadata": {}
  },
  {
   "cell_type": "markdown",
   "source": [
    "At first I made a function for the first interchange approach and then another separate one for the best interchange.\r\n",
    "Then I tried to merge them into a single function with an argument to decide which approach to use, but I'm not 100% sure that it does exactly the same, though it should, so I want to check that."
   ],
   "metadata": {}
  },
  {
   "cell_type": "code",
   "execution_count": 1,
   "source": [
    "from heuristics.local_search import interchange_first, interchange_best, interchange_k"
   ],
   "outputs": [],
   "metadata": {}
  },
  {
   "cell_type": "markdown",
   "source": [
    "First of all let's generate a random instance with a random solution:"
   ],
   "metadata": {}
  },
  {
   "cell_type": "code",
   "execution_count": 2,
   "source": [
    "import random\r\n",
    "\r\n",
    "from models import Instance\r\n",
    "\r\n",
    "rinstance = Instance.random(500, 20, 2)\r\n",
    "rsolution = set(random.sample(rinstance.indexes, rinstance.p))"
   ],
   "outputs": [],
   "metadata": {}
  },
  {
   "cell_type": "code",
   "execution_count": 3,
   "source": [
    "rsolution"
   ],
   "outputs": [
    {
     "output_type": "execute_result",
     "data": {
      "text/plain": [
       "{23,\n",
       " 31,\n",
       " 34,\n",
       " 57,\n",
       " 69,\n",
       " 79,\n",
       " 130,\n",
       " 143,\n",
       " 186,\n",
       " 196,\n",
       " 204,\n",
       " 215,\n",
       " 227,\n",
       " 341,\n",
       " 363,\n",
       " 392,\n",
       " 395,\n",
       " 399,\n",
       " 448,\n",
       " 500}"
      ]
     },
     "metadata": {},
     "execution_count": 3
    }
   ],
   "metadata": {}
  },
  {
   "cell_type": "code",
   "execution_count": 15,
   "source": [
    "from utils import eval_obj_func\r\n",
    "\r\n",
    "eval_obj_func(rinstance, rsolution)"
   ],
   "outputs": [
    {
     "output_type": "execute_result",
     "data": {
      "text/plain": [
       "(57, 3391)"
      ]
     },
     "metadata": {},
     "execution_count": 15
    }
   ],
   "metadata": {}
  },
  {
   "cell_type": "markdown",
   "source": [
    "Now let's run the local search algorithms and see if we can keep with the merged function only:"
   ],
   "metadata": {}
  },
  {
   "cell_type": "markdown",
   "source": [
    "## First improvement interchange"
   ],
   "metadata": {}
  },
  {
   "cell_type": "code",
   "execution_count": 5,
   "source": [
    "if_solution = interchange_first(rinstance, rsolution)\r\n",
    "if_solution_k = interchange_k(rinstance, rsolution, is_first=True)"
   ],
   "outputs": [],
   "metadata": {}
  },
  {
   "cell_type": "markdown",
   "source": [
    "That took 19.5 seconds according to VS Code."
   ],
   "metadata": {}
  },
  {
   "cell_type": "code",
   "execution_count": 8,
   "source": [
    "if_solution - if_solution_k"
   ],
   "outputs": [
    {
     "output_type": "execute_result",
     "data": {
      "text/plain": [
       "set()"
      ]
     },
     "metadata": {},
     "execution_count": 8
    }
   ],
   "metadata": {}
  },
  {
   "cell_type": "markdown",
   "source": [
    "The difference between the sets is empty, meaning that they have the same points."
   ],
   "metadata": {}
  },
  {
   "cell_type": "code",
   "execution_count": 9,
   "source": [
    "eval_obj_func(rinstance, if_solution)"
   ],
   "outputs": [
    {
     "output_type": "execute_result",
     "data": {
      "text/plain": [
       "(77, 2642)"
      ]
     },
     "metadata": {},
     "execution_count": 9
    }
   ],
   "metadata": {}
  },
  {
   "cell_type": "code",
   "execution_count": 10,
   "source": [
    "eval_obj_func(rinstance, if_solution_k)"
   ],
   "outputs": [
    {
     "output_type": "execute_result",
     "data": {
      "text/plain": [
       "(77, 2642)"
      ]
     },
     "metadata": {},
     "execution_count": 10
    }
   ],
   "metadata": {}
  },
  {
   "cell_type": "markdown",
   "source": [
    "Indeed their objective function evaluations return the same value."
   ],
   "metadata": {}
  },
  {
   "cell_type": "markdown",
   "source": [
    "## Best improvement interchange"
   ],
   "metadata": {}
  },
  {
   "cell_type": "code",
   "execution_count": 11,
   "source": [
    "im_solution = interchange_best(rinstance, rsolution)\r\n",
    "im_solution_k = interchange_k(rinstance, rsolution, is_first=False)"
   ],
   "outputs": [],
   "metadata": {}
  },
  {
   "cell_type": "markdown",
   "source": [
    "That took 41.5 seconds."
   ],
   "metadata": {}
  },
  {
   "cell_type": "code",
   "execution_count": 12,
   "source": [
    "im_solution - im_solution_k"
   ],
   "outputs": [
    {
     "output_type": "execute_result",
     "data": {
      "text/plain": [
       "set()"
      ]
     },
     "metadata": {},
     "execution_count": 12
    }
   ],
   "metadata": {}
  },
  {
   "cell_type": "code",
   "execution_count": 13,
   "source": [
    "eval_obj_func(rinstance, im_solution)"
   ],
   "outputs": [
    {
     "output_type": "execute_result",
     "data": {
      "text/plain": [
       "(6, 2802)"
      ]
     },
     "metadata": {},
     "execution_count": 13
    }
   ],
   "metadata": {}
  },
  {
   "cell_type": "code",
   "execution_count": 14,
   "source": [
    "eval_obj_func(rinstance, im_solution_k)"
   ],
   "outputs": [
    {
     "output_type": "execute_result",
     "data": {
      "text/plain": [
       "(6, 2802)"
      ]
     },
     "metadata": {},
     "execution_count": 14
    }
   ],
   "metadata": {}
  },
  {
   "cell_type": "markdown",
   "source": [
    "This difference is also empty and their objective function is the same too."
   ],
   "metadata": {}
  },
  {
   "cell_type": "markdown",
   "source": [
    "## Conclusion\r\n",
    "\r\n",
    "Our merged function, `interchange_k()`, does work as expected and we will be using it.\r\n",
    "The other two will be deleted, so don't run it because it will fail.\r\n",
    "It will be kept as a read-only notebook.\r\n",
    "\r\n",
    "We also got some interesting preliminary insights about the heuristics, such as the time taken by each approach and the value of the objective function.\r\n",
    "This will be fully inspected in another dedicated notebook with more data."
   ],
   "metadata": {}
  }
 ],
 "metadata": {
  "orig_nbformat": 4,
  "language_info": {
   "name": "python",
   "version": "3.8.8",
   "mimetype": "text/x-python",
   "codemirror_mode": {
    "name": "ipython",
    "version": 3
   },
   "pygments_lexer": "ipython3",
   "nbconvert_exporter": "python",
   "file_extension": ".py"
  },
  "kernelspec": {
   "name": "python3",
   "display_name": "Python 3.8.8 64-bit ('venv': venv)"
  },
  "interpreter": {
   "hash": "948fb69381b7e34228915382d05e70a5b941e5ca4d9dfa1a53bca293d17bfd8c"
  }
 },
 "nbformat": 4,
 "nbformat_minor": 2
}