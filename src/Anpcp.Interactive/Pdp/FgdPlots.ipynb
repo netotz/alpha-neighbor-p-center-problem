{
 "cells": [
  {
   "cell_type": "code",
   "execution_count": 1,
   "metadata": {
    "dotnet_interactive": {
     "language": "pwsh"
    },
    "polyglot_notebook": {
     "kernelName": "pwsh"
    },
    "vscode": {
     "languageId": "polyglot-notebook"
    }
   },
   "outputs": [
    {
     "name": "stdout",
     "output_type": "stream",
     "text": [
      "MSBuild version 17.9.6+a4ecab324 for .NET\n",
      "  Determining projects to restore...\n",
      "  All projects are up-to-date for restore.\n",
      "  Anpcp.Core -> C:\\Users\\netoo\\local-personal\\repos\\alpha-neighbor-p-center-problem\\src\\Anpcp.Core\\bin\\Debug\\net8.0\\Anpcp.Core.dll\n",
      "  Anpcp.Interactive -> C:\\Users\\netoo\\local-personal\\repos\\alpha-neighbor-p-center-problem\\src\\Anpcp.Interactive\\bin\\Debug\\net8.0\\Anpcp.Interactive.dll\n",
      "\n",
      "Build succeeded.\n",
      "    0 Warning(s)\n",
      "    0 Error(s)\n",
      "\n",
      "Time Elapsed 00:00:06.03\n"
     ]
    }
   ],
   "source": [
    "#!pwsh\n",
    "Push-Location\n",
    "# build projects\n",
    "cd ../\n",
    "dotnet build\n",
    "Pop-Location"
   ]
  },
  {
   "cell_type": "code",
   "execution_count": 2,
   "metadata": {
    "dotnet_interactive": {
     "language": "csharp"
    },
    "polyglot_notebook": {
     "kernelName": "csharp"
    },
    "vscode": {
     "languageId": "polyglot-notebook"
    }
   },
   "outputs": [
    {
     "data": {
      "text/html": [
       "<div><div></div><div></div><div><strong>Installed Packages</strong><ul><li><span>ScottPlot, 5.0.39</span></li></ul></div></div>"
      ]
     },
     "metadata": {},
     "output_type": "display_data"
    },
    {
     "data": {
      "text/plain": [
       "Loading extensions from `C:\\Users\\netoo\\.nuget\\packages\\skiasharp\\2.88.8\\interactive-extensions\\dotnet\\SkiaSharp.DotNet.Interactive.dll`"
      ]
     },
     "metadata": {},
     "output_type": "display_data"
    }
   ],
   "source": [
    "#!csharp\n",
    "// add package built packages\n",
    "#r \"..\\bin\\Debug\\net8.0\\Anpcp.Core.dll\"\n",
    "#r \"..\\bin\\Debug\\net8.0\\Anpcp.Interactive.dll\"\n",
    "// instal plotter package\n",
    "#r \"nuget:ScottPlot\""
   ]
  },
  {
   "cell_type": "code",
   "execution_count": 3,
   "metadata": {
    "dotnet_interactive": {
     "language": "csharp"
    },
    "polyglot_notebook": {
     "kernelName": "csharp"
    },
    "vscode": {
     "languageId": "polyglot-notebook"
    }
   },
   "outputs": [],
   "source": [
    "// Setup a custom formatter to display plots as images\n",
    "using ScottPlot;\n",
    "using Microsoft.DotNet.Interactive.Formatting;\n",
    "Formatter.Register(typeof(Plot),\n",
    "    (p, w) => w.Write(\n",
    "        ((Plot)p).GetImageHtml(800, 600)),\n",
    "    HtmlFormatter.MimeType);"
   ]
  },
  {
   "cell_type": "code",
   "execution_count": 4,
   "metadata": {
    "dotnet_interactive": {
     "language": "csharp"
    },
    "polyglot_notebook": {
     "kernelName": "csharp"
    },
    "vscode": {
     "languageId": "polyglot-notebook"
    }
   },
   "outputs": [],
   "source": [
    "var seed = 2024101522;"
   ]
  },
  {
   "cell_type": "code",
   "execution_count": 5,
   "metadata": {
    "dotnet_interactive": {
     "language": "csharp"
    },
    "polyglot_notebook": {
     "kernelName": "csharp"
    },
    "vscode": {
     "languageId": "polyglot-notebook"
    }
   },
   "outputs": [],
   "source": [
    "using Anpcp.Core.Instances;\n",
    "\n",
    "var instance = new InstanceSameSet(10, 100, 100, seed: seed);"
   ]
  },
  {
   "cell_type": "code",
   "execution_count": 15,
   "metadata": {
    "dotnet_interactive": {
     "language": "csharp"
    },
    "polyglot_notebook": {
     "kernelName": "csharp"
    },
    "vscode": {
     "languageId": "polyglot-notebook"
    }
   },
   "outputs": [
    {
     "data": {
      "text/html": [
       "<div class=\"dni-plaintext\"><pre>True</pre></div><style>\r\n",
       ".dni-code-hint {\r\n",
       "    font-style: italic;\r\n",
       "    overflow: hidden;\r\n",
       "    white-space: nowrap;\r\n",
       "}\r\n",
       ".dni-treeview {\r\n",
       "    white-space: nowrap;\r\n",
       "}\r\n",
       ".dni-treeview td {\r\n",
       "    vertical-align: top;\r\n",
       "    text-align: start;\r\n",
       "}\r\n",
       "details.dni-treeview {\r\n",
       "    padding-left: 1em;\r\n",
       "}\r\n",
       "table td {\r\n",
       "    text-align: start;\r\n",
       "}\r\n",
       "table tr { \r\n",
       "    vertical-align: top; \r\n",
       "    margin: 0em 0px;\r\n",
       "}\r\n",
       "table tr td pre \r\n",
       "{ \r\n",
       "    vertical-align: top !important; \r\n",
       "    margin: 0em 0px !important;\r\n",
       "} \r\n",
       "table th {\r\n",
       "    text-align: start;\r\n",
       "}\r\n",
       "</style>"
      ]
     },
     "metadata": {},
     "output_type": "display_data"
    }
   ],
   "source": [
    "using Anpcp.Interactive.Pdp;\n",
    "\n",
    "var fgd = new FgdInteractive(5, instance, seed);\n",
    "// run to update memory with initial random center\n",
    "fgd.HurryForMemory();\n",
    "\n",
    "// run to have 2 centers\n",
    "fgd.TryIterateMain();\n",
    "fgd.HurryForMemory();\n",
    "\n",
    "// run to have 3 centers\n",
    "fgd.TryIterateMain()"
   ]
  },
  {
   "cell_type": "code",
   "execution_count": 16,
   "metadata": {
    "dotnet_interactive": {
     "language": "csharp"
    },
    "polyglot_notebook": {
     "kernelName": "csharp"
    },
    "vscode": {
     "languageId": "polyglot-notebook"
    }
   },
   "outputs": [
    {
     "data": {
      "text/html": [
       "<img src=\"data:image/png;base64,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\"></img>"
      ]
     },
     "metadata": {},
     "output_type": "display_data"
    }
   ],
   "source": [
    "using ColorName = System.Drawing.Color;\n",
    "\n",
    "fgd.PlotConfig = new() {\n",
    "    ScaleFactor = 4,\n",
    "    CfColor = ColorName.LightGray\n",
    "};\n",
    "fgd.TryPlotForMemoryIteration()"
   ]
  },
  {
   "cell_type": "code",
   "execution_count": 8,
   "metadata": {
    "dotnet_interactive": {
     "language": "csharp"
    },
    "polyglot_notebook": {
     "kernelName": "csharp"
    },
    "vscode": {
     "languageId": "polyglot-notebook"
    }
   },
   "outputs": [
    {
     "data": {
      "text/html": [
       "<details open=\"open\" class=\"dni-treeview\"><summary><span class=\"dni-code-hint\"><code>[ 3, 9 ]</code></span></summary><div><table><thead><tr></tr></thead><tbody><tr><td>Count</td><td><div class=\"dni-plaintext\"><pre>2</pre></div></td></tr><tr><td>Comparer</td><td><details class=\"dni-treeview\"><summary><span class=\"dni-code-hint\"><code>System.Collections.Generic.GenericEqualityComparer`1[System.Int32]</code></span></summary><div><table><thead><tr></tr></thead><tbody></tbody></table></div></details></td></tr><tr><td><i>(values)</i></td><td><div class=\"dni-plaintext\"><pre>[ 3, 9 ]</pre></div></td></tr></tbody></table></div></details><style>\r\n",
       ".dni-code-hint {\r\n",
       "    font-style: italic;\r\n",
       "    overflow: hidden;\r\n",
       "    white-space: nowrap;\r\n",
       "}\r\n",
       ".dni-treeview {\r\n",
       "    white-space: nowrap;\r\n",
       "}\r\n",
       ".dni-treeview td {\r\n",
       "    vertical-align: top;\r\n",
       "    text-align: start;\r\n",
       "}\r\n",
       "details.dni-treeview {\r\n",
       "    padding-left: 1em;\r\n",
       "}\r\n",
       "table td {\r\n",
       "    text-align: start;\r\n",
       "}\r\n",
       "table tr { \r\n",
       "    vertical-align: top; \r\n",
       "    margin: 0em 0px;\r\n",
       "}\r\n",
       "table tr td pre \r\n",
       "{ \r\n",
       "    vertical-align: top !important; \r\n",
       "    margin: 0em 0px !important;\r\n",
       "} \r\n",
       "table th {\r\n",
       "    text-align: start;\r\n",
       "}\r\n",
       "</style>"
      ]
     },
     "metadata": {},
     "output_type": "display_data"
    }
   ],
   "source": [
    "fgd.Solution.OpenFacilities"
   ]
  },
  {
   "cell_type": "code",
   "execution_count": 9,
   "metadata": {
    "dotnet_interactive": {
     "language": "csharp"
    },
    "polyglot_notebook": {
     "kernelName": "csharp"
    },
    "vscode": {
     "languageId": "polyglot-notebook"
    }
   },
   "outputs": [],
   "source": []
  }
 ],
 "metadata": {
  "kernelspec": {
   "display_name": ".NET (C#)",
   "language": "C#",
   "name": ".net-csharp"
  },
  "language_info": {
   "name": "csharp"
  },
  "polyglot_notebook": {
   "kernelInfo": {
    "defaultKernelName": "csharp",
    "items": [
     {
      "aliases": [],
      "name": "csharp"
     }
    ]
   }
  }
 },
 "nbformat": 4,
 "nbformat_minor": 2
}
