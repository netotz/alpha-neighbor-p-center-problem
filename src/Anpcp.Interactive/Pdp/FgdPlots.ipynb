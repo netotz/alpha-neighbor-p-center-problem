{
 "cells": [
  {
   "cell_type": "code",
   "execution_count": 1,
   "metadata": {
    "dotnet_interactive": {
     "language": "pwsh"
    },
    "polyglot_notebook": {
     "kernelName": "pwsh"
    },
    "vscode": {
     "languageId": "polyglot-notebook"
    }
   },
   "outputs": [
    {
     "name": "stdout",
     "output_type": "stream",
     "text": [
      "MSBuild version 17.9.6+a4ecab324 for .NET\n",
      "  Determining projects to restore...\n",
      "  All projects are up-to-date for restore.\n",
      "  Anpcp.Core -> C:\\Users\\netoo\\local-personal\\repos\\alpha-neighbor-p-center-problem\\src\\Anpcp.Core\\bin\\Debug\\net8.0\\Anpcp.Core.dll\n",
      "C:\\Users\\netoo\\local-personal\\repos\\alpha-neighbor-p-center-problem\\src\\Anpcp.Interactive\\Pdp\\FgdInteractive.cs(31,12): warning CS8618: Non-nullable property 'ClosedFacilitiesQueue' must contain a non-null value when exiting constructor. Consider declaring the property as nullable. [C:\\Users\\netoo\\local-personal\\repos\\alpha-neighbor-p-center-problem\\src\\Anpcp.Interactive\\Anpcp.Interactive.csproj]\n",
      "  Anpcp.Interactive -> C:\\Users\\netoo\\local-personal\\repos\\alpha-neighbor-p-center-problem\\src\\Anpcp.Interactive\\bin\\Debug\\net8.0\\Anpcp.Interactive.dll\n",
      "\n",
      "Build succeeded.\n",
      "\n",
      "C:\\Users\\netoo\\local-personal\\repos\\alpha-neighbor-p-center-problem\\src\\Anpcp.Interactive\\Pdp\\FgdInteractive.cs(31,12): warning CS8618: Non-nullable property 'ClosedFacilitiesQueue' must contain a non-null value when exiting constructor. Consider declaring the property as nullable. [C:\\Users\\netoo\\local-personal\\repos\\alpha-neighbor-p-center-problem\\src\\Anpcp.Interactive\\Anpcp.Interactive.csproj]\n",
      "    1 Warning(s)\n",
      "    0 Error(s)\n",
      "\n",
      "Time Elapsed 00:00:02.14\n"
     ]
    }
   ],
   "source": [
    "#!pwsh\n",
    "Push-Location\n",
    "# build projects\n",
    "cd ../\n",
    "dotnet build\n",
    "Pop-Location"
   ]
  },
  {
   "cell_type": "code",
   "execution_count": 2,
   "metadata": {
    "dotnet_interactive": {
     "language": "csharp"
    },
    "polyglot_notebook": {
     "kernelName": "csharp"
    },
    "vscode": {
     "languageId": "polyglot-notebook"
    }
   },
   "outputs": [
    {
     "data": {
      "text/html": [
       "<div><div></div><div></div><div><strong>Installed Packages</strong><ul><li><span>ScottPlot, 5.0.39</span></li></ul></div></div>"
      ]
     },
     "metadata": {},
     "output_type": "display_data"
    },
    {
     "data": {
      "text/plain": [
       "Loading extensions from `C:\\Users\\netoo\\.nuget\\packages\\skiasharp\\2.88.8\\interactive-extensions\\dotnet\\SkiaSharp.DotNet.Interactive.dll`"
      ]
     },
     "metadata": {},
     "output_type": "display_data"
    }
   ],
   "source": [
    "#!csharp\n",
    "// add package built packages\n",
    "#r \"..\\bin\\Debug\\net8.0\\Anpcp.Core.dll\"\n",
    "#r \"..\\bin\\Debug\\net8.0\\Anpcp.Interactive.dll\"\n",
    "// instal plotter package\n",
    "#r \"nuget:ScottPlot\""
   ]
  },
  {
   "cell_type": "code",
   "execution_count": 3,
   "metadata": {
    "dotnet_interactive": {
     "language": "csharp"
    },
    "polyglot_notebook": {
     "kernelName": "csharp"
    },
    "vscode": {
     "languageId": "polyglot-notebook"
    }
   },
   "outputs": [],
   "source": [
    "// Setup a custom formatter to display plots as images\n",
    "using ScottPlot;\n",
    "using Microsoft.DotNet.Interactive.Formatting;\n",
    "Formatter.Register(typeof(Plot),\n",
    "    (p, w) => w.Write(\n",
    "        ((Plot)p).GetImageHtml(800, 600)),\n",
    "    HtmlFormatter.MimeType);"
   ]
  },
  {
   "cell_type": "code",
   "execution_count": 4,
   "metadata": {
    "dotnet_interactive": {
     "language": "csharp"
    },
    "polyglot_notebook": {
     "kernelName": "csharp"
    },
    "vscode": {
     "languageId": "polyglot-notebook"
    }
   },
   "outputs": [],
   "source": [
    "var seed = 2024101522;"
   ]
  },
  {
   "cell_type": "code",
   "execution_count": 5,
   "metadata": {
    "dotnet_interactive": {
     "language": "csharp"
    },
    "polyglot_notebook": {
     "kernelName": "csharp"
    },
    "vscode": {
     "languageId": "polyglot-notebook"
    }
   },
   "outputs": [],
   "source": [
    "using Anpcp.Core.Instances;\n",
    "\n",
    "var instance = new InstanceSameSet(10, 100, 100, seed: seed);"
   ]
  },
  {
   "cell_type": "code",
   "execution_count": 6,
   "metadata": {
    "dotnet_interactive": {
     "language": "csharp"
    },
    "polyglot_notebook": {
     "kernelName": "csharp"
    },
    "vscode": {
     "languageId": "polyglot-notebook"
    }
   },
   "outputs": [
    {
     "data": {
      "text/html": [
       "<div class=\"dni-plaintext\"><pre>True</pre></div><style>\r\n",
       ".dni-code-hint {\r\n",
       "    font-style: italic;\r\n",
       "    overflow: hidden;\r\n",
       "    white-space: nowrap;\r\n",
       "}\r\n",
       ".dni-treeview {\r\n",
       "    white-space: nowrap;\r\n",
       "}\r\n",
       ".dni-treeview td {\r\n",
       "    vertical-align: top;\r\n",
       "    text-align: start;\r\n",
       "}\r\n",
       "details.dni-treeview {\r\n",
       "    padding-left: 1em;\r\n",
       "}\r\n",
       "table td {\r\n",
       "    text-align: start;\r\n",
       "}\r\n",
       "table tr { \r\n",
       "    vertical-align: top; \r\n",
       "    margin: 0em 0px;\r\n",
       "}\r\n",
       "table tr td pre \r\n",
       "{ \r\n",
       "    vertical-align: top !important; \r\n",
       "    margin: 0em 0px !important;\r\n",
       "} \r\n",
       "table th {\r\n",
       "    text-align: start;\r\n",
       "}\r\n",
       "</style>"
      ]
     },
     "metadata": {},
     "output_type": "display_data"
    }
   ],
   "source": [
    "using Anpcp.Interactive.Pdp;\n",
    "\n",
    "var fgd = new FgdInteractive(5, instance, seed);\n",
    "// run to update memory with initial random center\n",
    "fgd.HurryForMemory();\n",
    "\n",
    "// run to have 2 centers\n",
    "fgd.TryIterateMain();\n",
    "fgd.HurryForMemory();\n",
    "\n",
    "// run to have 3 centers\n",
    "fgd.TryIterateMain()"
   ]
  },
  {
   "cell_type": "code",
   "execution_count": 7,
   "metadata": {
    "dotnet_interactive": {
     "language": "csharp"
    },
    "polyglot_notebook": {
     "kernelName": "csharp"
    },
    "vscode": {
     "languageId": "polyglot-notebook"
    }
   },
   "outputs": [
    {
     "data": {
      "text/html": [
       "<img src=\"data:image/png;base64,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\"></img>"
      ]
     },
     "metadata": {},
     "output_type": "display_data"
    }
   ],
   "source": [
    "using ColorName = System.Drawing.Color;\n",
    "\n",
    "fgd.PlotConfig = new() {\n",
    "    ScaleFactor = 2,\n",
    "    MarkerSize = 10,\n",
    "    MarkerLineWidth = 5000,\n",
    "    CfColor = ColorName.LightGray\n",
    "};\n",
    "\n",
    "fgd.TryPlotForMemoryIteration()"
   ]
  },
  {
   "cell_type": "code",
   "execution_count": 8,
   "metadata": {
    "dotnet_interactive": {
     "language": "csharp"
    },
    "polyglot_notebook": {
     "kernelName": "csharp"
    },
    "vscode": {
     "languageId": "polyglot-notebook"
    }
   },
   "outputs": [
    {
     "data": {
      "text/html": [
       "<details open=\"open\" class=\"dni-treeview\"><summary><span class=\"dni-code-hint\"><code>[ 3, 9, 2 ]</code></span></summary><div><table><thead><tr></tr></thead><tbody><tr><td>Count</td><td><div class=\"dni-plaintext\"><pre>3</pre></div></td></tr><tr><td>Comparer</td><td><details class=\"dni-treeview\"><summary><span class=\"dni-code-hint\"><code>System.Collections.Generic.GenericEqualityComparer`1[System.Int32]</code></span></summary><div><table><thead><tr></tr></thead><tbody></tbody></table></div></details></td></tr><tr><td><i>(values)</i></td><td><div class=\"dni-plaintext\"><pre>[ 3, 9, 2 ]</pre></div></td></tr></tbody></table></div></details><style>\r\n",
       ".dni-code-hint {\r\n",
       "    font-style: italic;\r\n",
       "    overflow: hidden;\r\n",
       "    white-space: nowrap;\r\n",
       "}\r\n",
       ".dni-treeview {\r\n",
       "    white-space: nowrap;\r\n",
       "}\r\n",
       ".dni-treeview td {\r\n",
       "    vertical-align: top;\r\n",
       "    text-align: start;\r\n",
       "}\r\n",
       "details.dni-treeview {\r\n",
       "    padding-left: 1em;\r\n",
       "}\r\n",
       "table td {\r\n",
       "    text-align: start;\r\n",
       "}\r\n",
       "table tr { \r\n",
       "    vertical-align: top; \r\n",
       "    margin: 0em 0px;\r\n",
       "}\r\n",
       "table tr td pre \r\n",
       "{ \r\n",
       "    vertical-align: top !important; \r\n",
       "    margin: 0em 0px !important;\r\n",
       "} \r\n",
       "table th {\r\n",
       "    text-align: start;\r\n",
       "}\r\n",
       "</style>"
      ]
     },
     "metadata": {},
     "output_type": "display_data"
    }
   ],
   "source": [
    "fgd.Solution.OpenFacilities"
   ]
  },
  {
   "cell_type": "code",
   "execution_count": 9,
   "metadata": {
    "dotnet_interactive": {
     "language": "csharp"
    },
    "polyglot_notebook": {
     "kernelName": "csharp"
    },
    "vscode": {
     "languageId": "polyglot-notebook"
    }
   },
   "outputs": [],
   "source": []
  }
 ],
 "metadata": {
  "kernelspec": {
   "display_name": ".NET (C#)",
   "language": "C#",
   "name": ".net-csharp"
  },
  "language_info": {
   "name": "csharp"
  },
  "polyglot_notebook": {
   "kernelInfo": {
    "defaultKernelName": "csharp",
    "items": [
     {
      "aliases": [],
      "name": "csharp"
     }
    ]
   }
  }
 },
 "nbformat": 4,
 "nbformat_minor": 2
}
