{
 "cells": [
  {
   "cell_type": "code",
   "execution_count": 8,
   "metadata": {
    "dotnet_interactive": {
     "language": "pwsh"
    },
    "polyglot_notebook": {
     "kernelName": "pwsh"
    },
    "vscode": {
     "languageId": "polyglot-notebook"
    }
   },
   "outputs": [
    {
     "name": "stdout",
     "output_type": "stream",
     "text": [
      "MSBuild version 17.9.6+a4ecab324 for .NET\n",
      "  Determining projects to restore...\n",
      "  All projects are up-to-date for restore.\n",
      "  Anpcp.Core -> C:\\Users\\netoo\\local-personal\\repos\\alpha-neighbor-p-center-problem\\src\\Anpcp.Core\\bin\\Debug\\net8.0\\Anpcp.Core.dll\n",
      "  Anpcp.Interactive -> C:\\Users\\netoo\\local-personal\\repos\\alpha-neighbor-p-center-problem\\src\\Anpcp.Interactive\\bin\\Debug\\net8.0\\Anpcp.Interactive.dll\n",
      "\n",
      "Build succeeded.\n",
      "    0 Warning(s)\n",
      "    0 Error(s)\n",
      "\n",
      "Time Elapsed 00:00:01.15\n"
     ]
    }
   ],
   "source": [
    "#!pwsh\n",
    "Push-Location\n",
    "# build Anpcp.Interactive project\n",
    "cd ../;dotnet build\n",
    "Pop-Location"
   ]
  },
  {
   "cell_type": "code",
   "execution_count": 2,
   "metadata": {
    "dotnet_interactive": {
     "language": "csharp"
    },
    "polyglot_notebook": {
     "kernelName": "csharp"
    },
    "vscode": {
     "languageId": "polyglot-notebook"
    }
   },
   "outputs": [
    {
     "data": {
      "text/html": [
       "<div><div></div><div></div><div><strong>Installed Packages</strong><ul><li><span>ScottPlot, 5.0.39</span></li></ul></div></div>"
      ]
     },
     "metadata": {},
     "output_type": "display_data"
    },
    {
     "data": {
      "text/plain": [
       "Loading extensions from `C:\\Users\\netoo\\.nuget\\packages\\skiasharp\\2.88.8\\interactive-extensions\\dotnet\\SkiaSharp.DotNet.Interactive.dll`"
      ]
     },
     "metadata": {},
     "output_type": "display_data"
    }
   ],
   "source": [
    "#!csharp\n",
    "// add package built packages\n",
    "#r \"..\\bin\\Debug\\net8.0\\Anpcp.Core.dll\"\n",
    "#r \"..\\bin\\Debug\\net8.0\\Anpcp.Interactive.dll\"\n",
    "#r \"nuget:ScottPlot\""
   ]
  },
  {
   "cell_type": "code",
   "execution_count": 3,
   "metadata": {
    "dotnet_interactive": {
     "language": "csharp"
    },
    "polyglot_notebook": {
     "kernelName": "csharp"
    },
    "vscode": {
     "languageId": "polyglot-notebook"
    }
   },
   "outputs": [],
   "source": [
    "// Setup a custom formatter to display plots as images\n",
    "using ScottPlot;\n",
    "using Microsoft.DotNet.Interactive.Formatting;\n",
    "Formatter.Register(typeof(Plot),\n",
    "    (p, w) => w.Write(\n",
    "        ((Plot)p).GetImageHtml(800, 600)),\n",
    "    HtmlFormatter.MimeType);"
   ]
  },
  {
   "cell_type": "code",
   "execution_count": 4,
   "metadata": {
    "dotnet_interactive": {
     "language": "csharp"
    },
    "polyglot_notebook": {
     "kernelName": "csharp"
    },
    "vscode": {
     "languageId": "polyglot-notebook"
    }
   },
   "outputs": [],
   "source": [
    "var seed = 2024101522;"
   ]
  },
  {
   "cell_type": "code",
   "execution_count": 5,
   "metadata": {
    "dotnet_interactive": {
     "language": "csharp"
    },
    "polyglot_notebook": {
     "kernelName": "csharp"
    },
    "vscode": {
     "languageId": "polyglot-notebook"
    }
   },
   "outputs": [],
   "source": [
    "using Anpcp.Core.Instances;\n",
    "\n",
    "var instance = new InstanceSameSet(10, 100, 100, seed: seed);"
   ]
  },
  {
   "cell_type": "code",
   "execution_count": 6,
   "metadata": {
    "dotnet_interactive": {
     "language": "csharp"
    },
    "polyglot_notebook": {
     "kernelName": "csharp"
    },
    "vscode": {
     "languageId": "polyglot-notebook"
    }
   },
   "outputs": [],
   "source": [
    "using Anpcp.Interactive.Pdp;\n",
    "\n",
    "var fgd = new FgdInteractive(5, instance, seed);\n",
    "// run to update memory\n",
    "fgd.HurryForMemory()"
   ]
  },
  {
   "cell_type": "code",
   "execution_count": 7,
   "metadata": {
    "dotnet_interactive": {
     "language": "csharp"
    },
    "polyglot_notebook": {
     "kernelName": "csharp"
    },
    "vscode": {
     "languageId": "polyglot-notebook"
    }
   },
   "outputs": [
    {
     "data": {
      "text/html": [
       "<img src=\"data:image/png;base64,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\"></img>"
      ]
     },
     "metadata": {},
     "output_type": "display_data"
    }
   ],
   "source": [
    "fgd.TryPlotForMemoryIteration()"
   ]
  }
 ],
 "metadata": {
  "kernelspec": {
   "display_name": ".NET (C#)",
   "language": "C#",
   "name": ".net-csharp"
  },
  "language_info": {
   "name": "csharp"
  },
  "polyglot_notebook": {
   "kernelInfo": {
    "defaultKernelName": "csharp",
    "items": [
     {
      "aliases": [],
      "name": "csharp"
     }
    ]
   }
  }
 },
 "nbformat": 4,
 "nbformat_minor": 2
}
