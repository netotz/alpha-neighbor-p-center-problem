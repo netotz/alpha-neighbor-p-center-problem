{
 "cells": [
  {
   "cell_type": "code",
   "execution_count": 1,
   "metadata": {
    "dotnet_interactive": {
     "language": "csharp"
    },
    "polyglot_notebook": {
     "kernelName": "csharp"
    },
    "vscode": {
     "languageId": "polyglot-notebook"
    }
   },
   "outputs": [],
   "source": [
    "#!pwsh"
   ]
  },
  {
   "cell_type": "code",
   "execution_count": 2,
   "metadata": {
    "dotnet_interactive": {
     "language": "pwsh"
    },
    "polyglot_notebook": {
     "kernelName": "pwsh"
    },
    "vscode": {
     "languageId": "polyglot-notebook"
    }
   },
   "outputs": [
    {
     "name": "stdout",
     "output_type": "stream",
     "text": [
      "MSBuild version 17.9.6+a4ecab324 for .NET\n",
      "  Determining projects to restore...\n",
      "  All projects are up-to-date for restore.\n",
      "  Anpcp.Core -> C:\\Users\\netoo\\local-personal\\repos\\alpha-neighbor-p-center-problem\\src\\Anpcp.Core\\bin\\Debug\\net8.0\\Anpcp.Core.dll\n",
      "C:\\Users\\netoo\\local-personal\\repos\\alpha-neighbor-p-center-problem\\src\\Anpcp.Interactive\\Pdp\\FgdInteractive.cs(37,12): warning CS8618: Non-nullable property 'ClosedFacilitiesQueue' must contain a non-null value when exiting constructor. Consider declaring the property as nullable. [C:\\Users\\netoo\\local-personal\\repos\\alpha-neighbor-p-center-problem\\src\\Anpcp.Interactive\\Anpcp.Interactive.csproj]\n",
      "  Anpcp.Interactive -> C:\\Users\\netoo\\local-personal\\repos\\alpha-neighbor-p-center-problem\\src\\Anpcp.Interactive\\bin\\Debug\\net8.0\\Anpcp.Interactive.dll\n",
      "\n",
      "Build succeeded.\n",
      "\n",
      "C:\\Users\\netoo\\local-personal\\repos\\alpha-neighbor-p-center-problem\\src\\Anpcp.Interactive\\Pdp\\FgdInteractive.cs(37,12): warning CS8618: Non-nullable property 'ClosedFacilitiesQueue' must contain a non-null value when exiting constructor. Consider declaring the property as nullable. [C:\\Users\\netoo\\local-personal\\repos\\alpha-neighbor-p-center-problem\\src\\Anpcp.Interactive\\Anpcp.Interactive.csproj]\n",
      "    1 Warning(s)\n",
      "    0 Error(s)\n",
      "\n",
      "Time Elapsed 00:00:01.71\n"
     ]
    }
   ],
   "source": [
    "# build Anpcp.Interactive project\n",
    "cd ../;dotnet build"
   ]
  },
  {
   "cell_type": "code",
   "execution_count": 3,
   "metadata": {
    "dotnet_interactive": {
     "language": "csharp"
    },
    "polyglot_notebook": {
     "kernelName": "csharp"
    },
    "vscode": {
     "languageId": "polyglot-notebook"
    }
   },
   "outputs": [
    {
     "data": {
      "text/html": [
       "<div><div></div><div></div><div><strong>Installed Packages</strong><ul><li><span>ScottPlot, 5.0.39</span></li></ul></div></div>"
      ]
     },
     "metadata": {},
     "output_type": "display_data"
    },
    {
     "data": {
      "text/plain": [
       "Loading extensions from `C:\\Users\\netoo\\.nuget\\packages\\skiasharp\\2.88.8\\interactive-extensions\\dotnet\\SkiaSharp.DotNet.Interactive.dll`"
      ]
     },
     "metadata": {},
     "output_type": "display_data"
    }
   ],
   "source": [
    "#!csharp\n",
    "// add package built packages\n",
    "#r \"..\\bin\\Debug\\net8.0\\Anpcp.Core.dll\"\n",
    "#r \"..\\bin\\Debug\\net8.0\\Anpcp.Interactive.dll\"\n",
    "#r \"nuget:ScottPlot\""
   ]
  },
  {
   "cell_type": "code",
   "execution_count": 4,
   "metadata": {
    "dotnet_interactive": {
     "language": "csharp"
    },
    "polyglot_notebook": {
     "kernelName": "csharp"
    },
    "vscode": {
     "languageId": "polyglot-notebook"
    }
   },
   "outputs": [],
   "source": [
    "// Setup a custom formatter to display plots as images\n",
    "using ScottPlot;\n",
    "using Microsoft.DotNet.Interactive.Formatting;\n",
    "Formatter.Register(typeof(Plot),\n",
    "    (p, w) => w.Write(\n",
    "        ((Plot)p).GetImageHtml(800, 600)),\n",
    "    HtmlFormatter.MimeType);"
   ]
  },
  {
   "cell_type": "code",
   "execution_count": 5,
   "metadata": {
    "dotnet_interactive": {
     "language": "csharp"
    },
    "polyglot_notebook": {
     "kernelName": "csharp"
    },
    "vscode": {
     "languageId": "polyglot-notebook"
    }
   },
   "outputs": [],
   "source": [
    "var seed = 2024101522;"
   ]
  },
  {
   "cell_type": "code",
   "execution_count": 6,
   "metadata": {
    "dotnet_interactive": {
     "language": "csharp"
    },
    "polyglot_notebook": {
     "kernelName": "csharp"
    },
    "vscode": {
     "languageId": "polyglot-notebook"
    }
   },
   "outputs": [],
   "source": [
    "using Anpcp.Core.Instances;\n",
    "\n",
    "var instance = new InstanceSameSet(10, 100, 100, seed: seed);"
   ]
  },
  {
   "cell_type": "code",
   "execution_count": 7,
   "metadata": {
    "dotnet_interactive": {
     "language": "csharp"
    },
    "polyglot_notebook": {
     "kernelName": "csharp"
    },
    "vscode": {
     "languageId": "polyglot-notebook"
    }
   },
   "outputs": [],
   "source": [
    "using Anpcp.Interactive.Pdp;\n",
    "\n",
    "var fgd = new FgdInteractive(5, instance, seed);\n",
    "fgd.HurryForMemory()"
   ]
  },
  {
   "cell_type": "code",
   "execution_count": 12,
   "metadata": {
    "dotnet_interactive": {
     "language": "csharp"
    },
    "polyglot_notebook": {
     "kernelName": "csharp"
    },
    "vscode": {
     "languageId": "polyglot-notebook"
    }
   },
   "outputs": [
    {
     "data": {
      "text/html": [
       "<img src=\"data:image/png;base64,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\"></img>"
      ]
     },
     "metadata": {},
     "output_type": "display_data"
    }
   ],
   "source": [
    "fgd.TryPlotForMemoryIteration()"
   ]
  },
  {
   "cell_type": "code",
   "execution_count": 11,
   "metadata": {
    "dotnet_interactive": {
     "language": "csharp"
    },
    "polyglot_notebook": {
     "kernelName": "csharp"
    },
    "vscode": {
     "languageId": "polyglot-notebook"
    }
   },
   "outputs": [
    {
     "data": {
      "text/html": [
       "<details open=\"open\" class=\"dni-treeview\"><summary><span class=\"dni-code-hint\"><code>Vertex { Index = 3, XCoord = 43, YCoord = 74, Type = Both }</code></span></summary><div><table><thead><tr></tr></thead><tbody><tr><td>Index</td><td><div class=\"dni-plaintext\"><pre>3</pre></div></td></tr><tr><td>XCoord</td><td><div class=\"dni-plaintext\"><pre>43</pre></div></td></tr><tr><td>YCoord</td><td><div class=\"dni-plaintext\"><pre>74</pre></div></td></tr><tr><td>Type</td><td><span>Both</span></td></tr></tbody></table></div></details><style>\r\n",
       ".dni-code-hint {\r\n",
       "    font-style: italic;\r\n",
       "    overflow: hidden;\r\n",
       "    white-space: nowrap;\r\n",
       "}\r\n",
       ".dni-treeview {\r\n",
       "    white-space: nowrap;\r\n",
       "}\r\n",
       ".dni-treeview td {\r\n",
       "    vertical-align: top;\r\n",
       "    text-align: start;\r\n",
       "}\r\n",
       "details.dni-treeview {\r\n",
       "    padding-left: 1em;\r\n",
       "}\r\n",
       "table td {\r\n",
       "    text-align: start;\r\n",
       "}\r\n",
       "table tr { \r\n",
       "    vertical-align: top; \r\n",
       "    margin: 0em 0px;\r\n",
       "}\r\n",
       "table tr td pre \r\n",
       "{ \r\n",
       "    vertical-align: top !important; \r\n",
       "    margin: 0em 0px !important;\r\n",
       "} \r\n",
       "table th {\r\n",
       "    text-align: start;\r\n",
       "}\r\n",
       "</style>"
      ]
     },
     "metadata": {},
     "output_type": "display_data"
    }
   ],
   "source": [
    "fgd.Instance.Facilities[fgd.LastInserted]"
   ]
  },
  {
   "cell_type": "code",
   "execution_count": 10,
   "metadata": {
    "vscode": {
     "languageId": "polyglot-notebook"
    }
   },
   "outputs": [],
   "source": []
  }
 ],
 "metadata": {
  "kernelspec": {
   "display_name": ".NET (C#)",
   "language": "C#",
   "name": ".net-csharp"
  },
  "language_info": {
   "name": "csharp"
  },
  "polyglot_notebook": {
   "kernelInfo": {
    "defaultKernelName": "csharp",
    "items": [
     {
      "aliases": [],
      "name": "csharp"
     }
    ]
   }
  }
 },
 "nbformat": 4,
 "nbformat_minor": 2
}
