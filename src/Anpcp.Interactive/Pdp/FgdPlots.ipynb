{
 "cells": [
  {
   "cell_type": "code",
   "execution_count": 1,
   "metadata": {
    "dotnet_interactive": {
     "language": "pwsh"
    },
    "polyglot_notebook": {
     "kernelName": "pwsh"
    },
    "vscode": {
     "languageId": "polyglot-notebook"
    }
   },
   "outputs": [
    {
     "name": "stdout",
     "output_type": "stream",
     "text": [
      "MSBuild version 17.9.6+a4ecab324 for .NET\n",
      "  Determining projects to restore...\n",
      "  All projects are up-to-date for restore.\n",
      "  Anpcp.Core -> C:\\Users\\netoo\\local-personal\\repos\\alpha-neighbor-p-center-problem\\src\\Anpcp.Core\\bin\\Debug\\net8.0\\Anpcp.Core.dll\n",
      "C:\\Users\\netoo\\local-personal\\repos\\alpha-neighbor-p-center-problem\\src\\Anpcp.Interactive\\Pdp\\FgdInteractive.cs(31,12): warning CS8618: Non-nullable property 'ClosedFacilitiesQueue' must contain a non-null value when exiting constructor. Consider declaring the property as nullable. [C:\\Users\\netoo\\local-personal\\repos\\alpha-neighbor-p-center-problem\\src\\Anpcp.Interactive\\Anpcp.Interactive.csproj]\n",
      "  Anpcp.Interactive -> C:\\Users\\netoo\\local-personal\\repos\\alpha-neighbor-p-center-problem\\src\\Anpcp.Interactive\\bin\\Debug\\net8.0\\Anpcp.Interactive.dll\n",
      "\n",
      "Build succeeded.\n",
      "\n",
      "C:\\Users\\netoo\\local-personal\\repos\\alpha-neighbor-p-center-problem\\src\\Anpcp.Interactive\\Pdp\\FgdInteractive.cs(31,12): warning CS8618: Non-nullable property 'ClosedFacilitiesQueue' must contain a non-null value when exiting constructor. Consider declaring the property as nullable. [C:\\Users\\netoo\\local-personal\\repos\\alpha-neighbor-p-center-problem\\src\\Anpcp.Interactive\\Anpcp.Interactive.csproj]\n",
      "    1 Warning(s)\n",
      "    0 Error(s)\n",
      "\n",
      "Time Elapsed 00:00:03.79\n"
     ]
    }
   ],
   "source": [
    "#!pwsh\n",
    "Push-Location\n",
    "# build projects\n",
    "cd ../\n",
    "dotnet build\n",
    "Pop-Location"
   ]
  },
  {
   "cell_type": "code",
   "execution_count": 2,
   "metadata": {
    "dotnet_interactive": {
     "language": "csharp"
    },
    "polyglot_notebook": {
     "kernelName": "csharp"
    },
    "vscode": {
     "languageId": "polyglot-notebook"
    }
   },
   "outputs": [
    {
     "data": {
      "text/html": [
       "<div><div></div><div></div><div><strong>Installed Packages</strong><ul><li><span>ScottPlot, 5.0.39</span></li></ul></div></div>"
      ]
     },
     "metadata": {},
     "output_type": "display_data"
    },
    {
     "data": {
      "text/plain": [
       "Loading extensions from `C:\\Users\\netoo\\.nuget\\packages\\skiasharp\\2.88.8\\interactive-extensions\\dotnet\\SkiaSharp.DotNet.Interactive.dll`"
      ]
     },
     "metadata": {},
     "output_type": "display_data"
    }
   ],
   "source": [
    "#!csharp\n",
    "// add built packages\n",
    "#r \"..\\bin\\Debug\\net8.0\\Anpcp.Core.dll\"\n",
    "#r \"..\\bin\\Debug\\net8.0\\Anpcp.Interactive.dll\"\n",
    "// install plotter package\n",
    "#r \"nuget:ScottPlot, 5.0.39\""
   ]
  },
  {
   "cell_type": "code",
   "execution_count": 3,
   "metadata": {
    "dotnet_interactive": {
     "language": "csharp"
    },
    "polyglot_notebook": {
     "kernelName": "csharp"
    },
    "vscode": {
     "languageId": "polyglot-notebook"
    }
   },
   "outputs": [],
   "source": [
    "// Setup a custom formatter to display plots as images\n",
    "using ScottPlot;\n",
    "using Microsoft.DotNet.Interactive.Formatting;\n",
    "Formatter.Register(typeof(Plot),\n",
    "    (p, w) => w.Write(\n",
    "        ((Plot)p).GetImageHtml(600, 450)),\n",
    "    HtmlFormatter.MimeType);"
   ]
  },
  {
   "cell_type": "code",
   "execution_count": 4,
   "metadata": {
    "dotnet_interactive": {
     "language": "csharp"
    },
    "polyglot_notebook": {
     "kernelName": "csharp"
    },
    "vscode": {
     "languageId": "polyglot-notebook"
    }
   },
   "outputs": [],
   "source": [
    "var seed = 2024101522;"
   ]
  },
  {
   "cell_type": "code",
   "execution_count": 5,
   "metadata": {
    "dotnet_interactive": {
     "language": "csharp"
    },
    "polyglot_notebook": {
     "kernelName": "csharp"
    },
    "vscode": {
     "languageId": "polyglot-notebook"
    }
   },
   "outputs": [],
   "source": [
    "using Anpcp.Core.Instances;\n",
    "\n",
    "var instance = new InstanceSameSet(10, 200, 150, seed: seed);"
   ]
  },
  {
   "cell_type": "code",
   "execution_count": 6,
   "metadata": {
    "vscode": {
     "languageId": "polyglot-notebook"
    }
   },
   "outputs": [
    {
     "name": "stdout",
     "output_type": "stream",
     "text": [
      "min: li\n",
      "{0: 86, 1: 2147483647, 2: 2147483647, 3: 2147483647, 4: 2147483647, 5: 2147483647, 7: 2147483647, 8: 2147483647, 9: 2147483647}\n",
      "min: li\n",
      "{0: 86, 1: 88, 2: 2147483647, 3: 2147483647, 4: 2147483647, 5: 2147483647, 7: 2147483647, 8: 2147483647, 9: 2147483647}\n",
      "min: li\n",
      "{0: 86, 1: 88, 2: 100, 3: 2147483647, 4: 2147483647, 5: 2147483647, 7: 2147483647, 8: 2147483647, 9: 2147483647}\n",
      "min: li\n",
      "{0: 86, 1: 88, 2: 100, 3: 56, 4: 2147483647, 5: 2147483647, 7: 2147483647, 8: 2147483647, 9: 2147483647}\n",
      "min: li\n",
      "{0: 86, 1: 88, 2: 100, 3: 56, 4: 118, 5: 2147483647, 7: 2147483647, 8: 2147483647, 9: 2147483647}\n",
      "min: li\n",
      "{0: 86, 1: 88, 2: 100, 3: 56, 4: 118, 5: 90, 7: 2147483647, 8: 2147483647, 9: 2147483647}\n",
      "min: li\n",
      "{0: 86, 1: 88, 2: 100, 3: 56, 4: 118, 5: 90, 7: 118, 8: 2147483647, 9: 2147483647}\n",
      "min: li\n",
      "{0: 86, 1: 88, 2: 100, 3: 56, 4: 118, 5: 90, 7: 118, 8: 85, 9: 2147483647}\n",
      "min: li\n",
      "{0: 86, 1: 88, 2: 100, 3: 56, 4: 118, 5: 90, 7: 118, 8: 85, 9: 179}\n",
      "{0: 86, 1: 88, 2: 100, 3: 56, 4: 118, 5: 90, 7: 118, 8: 85}\n",
      "{0: 86, 1: 88, 2: 100, 3: 56, 4: 118, 5: 90, 7: 118, 8: 85}\n",
      "{0: 86, 1: 88, 2: 100, 3: 56, 4: 118, 5: 90, 7: 118, 8: 85}\n",
      "{0: 86, 1: 88, 2: 100, 3: 56, 4: 118, 5: 90, 7: 118, 8: 85}\n",
      "min: li\n",
      "{0: 86, 1: 88, 2: 100, 3: 56, 4: 64, 5: 90, 7: 118, 8: 85}\n",
      "{0: 86, 1: 88, 2: 100, 3: 56, 4: 64, 5: 90, 7: 118, 8: 85}\n",
      "min: li\n",
      "{0: 86, 1: 88, 2: 100, 3: 56, 4: 64, 5: 90, 7: 98, 8: 85}\n",
      "{0: 86, 1: 88, 2: 100, 3: 56, 4: 64, 5: 90, 7: 98, 8: 85}\n"
     ]
    },
    {
     "data": {
      "text/html": [
       "<img src=\"data:image/png;base64,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\"></img>"
      ]
     },
     "metadata": {},
     "output_type": "display_data"
    }
   ],
   "source": [
    "using Anpcp.Interactive.Pdp;\n",
    "\n",
    "var fgd = new FgdInteractive(5, instance, seed);\n",
    "// run to have 3 centers\n",
    "fgd.TryPlotMainIteration()"
   ]
  },
  {
   "cell_type": "code",
   "execution_count": 7,
   "metadata": {
    "vscode": {
     "languageId": "polyglot-notebook"
    }
   },
   "outputs": [
    {
     "data": {
      "text/html": [
       "<details open=\"open\" class=\"dni-treeview\"><summary><span class=\"dni-code-hint\"><code>Vertex { Index = 9, XCoord = 177, YCoord = 16, Type = Both }</code></span></summary><div><table><thead><tr></tr></thead><tbody><tr><td>Index</td><td><div class=\"dni-plaintext\"><pre>9</pre></div></td></tr><tr><td>XCoord</td><td><div class=\"dni-plaintext\"><pre>177</pre></div></td></tr><tr><td>YCoord</td><td><div class=\"dni-plaintext\"><pre>16</pre></div></td></tr><tr><td>Type</td><td><span>Both</span></td></tr></tbody></table></div></details><style>\r\n",
       ".dni-code-hint {\r\n",
       "    font-style: italic;\r\n",
       "    overflow: hidden;\r\n",
       "    white-space: nowrap;\r\n",
       "}\r\n",
       ".dni-treeview {\r\n",
       "    white-space: nowrap;\r\n",
       "}\r\n",
       ".dni-treeview td {\r\n",
       "    vertical-align: top;\r\n",
       "    text-align: start;\r\n",
       "}\r\n",
       "details.dni-treeview {\r\n",
       "    padding-left: 1em;\r\n",
       "}\r\n",
       "table td {\r\n",
       "    text-align: start;\r\n",
       "}\r\n",
       "table tr { \r\n",
       "    vertical-align: top; \r\n",
       "    margin: 0em 0px;\r\n",
       "}\r\n",
       "table tr td pre \r\n",
       "{ \r\n",
       "    vertical-align: top !important; \r\n",
       "    margin: 0em 0px !important;\r\n",
       "} \r\n",
       "table th {\r\n",
       "    text-align: start;\r\n",
       "}\r\n",
       "</style>"
      ]
     },
     "metadata": {},
     "output_type": "display_data"
    }
   ],
   "source": [
    "var li = fgd.DistancesMemory\n",
    "    .MaxBy(p => p.Value.Distance)\n",
    "    .Key;\n",
    "\n",
    "var closestCenter = fgd.DistancesMemory[li];\n",
    "fgd.Instance.Facilities[closestCenter.Index]\n"
   ]
  },
  {
   "cell_type": "code",
   "execution_count": 8,
   "metadata": {
    "dotnet_interactive": {
     "language": "csharp"
    },
    "polyglot_notebook": {
     "kernelName": "csharp"
    },
    "vscode": {
     "languageId": "polyglot-notebook"
    }
   },
   "outputs": [
    {
     "name": "stdout",
     "output_type": "stream",
     "text": [
      "min: li\n",
      "{0: 24, 1: 88, 3: 56, 4: 64, 5: 90, 7: 98, 8: 85}\n"
     ]
    },
    {
     "data": {
      "text/html": [
       "<img src=\"data:image/png;base64,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\"></img>"
      ]
     },
     "metadata": {},
     "output_type": "display_data"
    }
   ],
   "source": [
    "using ColorName = System.Drawing.Color;\n",
    "\n",
    "fgd.PlotConfig = new() {\n",
    "};\n",
    "\n",
    "fgd.TryPlotForMemoryIteration()"
   ]
  },
  {
   "cell_type": "code",
   "execution_count": 9,
   "metadata": {
    "dotnet_interactive": {
     "language": "csharp"
    },
    "polyglot_notebook": {
     "kernelName": "csharp"
    },
    "vscode": {
     "languageId": "polyglot-notebook"
    }
   },
   "outputs": [
    {
     "data": {
      "text/html": [
       "<div class=\"dni-plaintext\"><pre>6</pre></div><style>\r\n",
       ".dni-code-hint {\r\n",
       "    font-style: italic;\r\n",
       "    overflow: hidden;\r\n",
       "    white-space: nowrap;\r\n",
       "}\r\n",
       ".dni-treeview {\r\n",
       "    white-space: nowrap;\r\n",
       "}\r\n",
       ".dni-treeview td {\r\n",
       "    vertical-align: top;\r\n",
       "    text-align: start;\r\n",
       "}\r\n",
       "details.dni-treeview {\r\n",
       "    padding-left: 1em;\r\n",
       "}\r\n",
       "table td {\r\n",
       "    text-align: start;\r\n",
       "}\r\n",
       "table tr { \r\n",
       "    vertical-align: top; \r\n",
       "    margin: 0em 0px;\r\n",
       "}\r\n",
       "table tr td pre \r\n",
       "{ \r\n",
       "    vertical-align: top !important; \r\n",
       "    margin: 0em 0px !important;\r\n",
       "} \r\n",
       "table th {\r\n",
       "    text-align: start;\r\n",
       "}\r\n",
       "</style>"
      ]
     },
     "metadata": {},
     "output_type": "display_data"
    }
   ],
   "source": [
    "fgd.ClosedFacilitiesQueue.Count"
   ]
  },
  {
   "cell_type": "code",
   "execution_count": 10,
   "metadata": {
    "dotnet_interactive": {
     "language": "csharp"
    },
    "polyglot_notebook": {
     "kernelName": "csharp"
    },
    "vscode": {
     "languageId": "polyglot-notebook"
    }
   },
   "outputs": [],
   "source": [
    "fgd.ResetClosedFacilitiesQueue()"
   ]
  },
  {
   "cell_type": "code",
   "execution_count": 11,
   "metadata": {
    "vscode": {
     "languageId": "polyglot-notebook"
    }
   },
   "outputs": [],
   "source": []
  }
 ],
 "metadata": {
  "kernelspec": {
   "display_name": ".NET (C#)",
   "language": "C#",
   "name": ".net-csharp"
  },
  "language_info": {
   "name": "csharp"
  },
  "polyglot_notebook": {
   "kernelInfo": {
    "defaultKernelName": "csharp",
    "items": [
     {
      "aliases": [],
      "name": "csharp"
     }
    ]
   }
  }
 },
 "nbformat": 4,
 "nbformat_minor": 2
}
