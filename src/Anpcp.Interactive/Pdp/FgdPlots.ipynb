{
 "cells": [
  {
   "cell_type": "code",
   "execution_count": 1,
   "metadata": {
    "dotnet_interactive": {
     "language": "pwsh"
    },
    "polyglot_notebook": {
     "kernelName": "pwsh"
    },
    "vscode": {
     "languageId": "polyglot-notebook"
    }
   },
   "outputs": [
    {
     "name": "stdout",
     "output_type": "stream",
     "text": [
      "MSBuild version 17.9.6+a4ecab324 for .NET\n",
      "  Determining projects to restore...\n",
      "  All projects are up-to-date for restore.\n",
      "  Anpcp.Core -> C:\\Users\\netoo\\local-personal\\repos\\alpha-neighbor-p-center-problem\\src\\Anpcp.Core\\bin\\Debug\\net8.0\\Anpcp.Core.dll\n",
      "C:\\Users\\netoo\\local-personal\\repos\\alpha-neighbor-p-center-problem\\src\\Anpcp.Interactive\\Pdp\\FgdInteractive.cs(31,12): warning CS8618: Non-nullable property 'ClosedFacilitiesQueue' must contain a non-null value when exiting constructor. Consider declaring the property as nullable. [C:\\Users\\netoo\\local-personal\\repos\\alpha-neighbor-p-center-problem\\src\\Anpcp.Interactive\\Anpcp.Interactive.csproj]\n",
      "  Anpcp.Interactive -> C:\\Users\\netoo\\local-personal\\repos\\alpha-neighbor-p-center-problem\\src\\Anpcp.Interactive\\bin\\Debug\\net8.0\\Anpcp.Interactive.dll\n",
      "\n",
      "Build succeeded.\n",
      "\n",
      "C:\\Users\\netoo\\local-personal\\repos\\alpha-neighbor-p-center-problem\\src\\Anpcp.Interactive\\Pdp\\FgdInteractive.cs(31,12): warning CS8618: Non-nullable property 'ClosedFacilitiesQueue' must contain a non-null value when exiting constructor. Consider declaring the property as nullable. [C:\\Users\\netoo\\local-personal\\repos\\alpha-neighbor-p-center-problem\\src\\Anpcp.Interactive\\Anpcp.Interactive.csproj]\n",
      "    1 Warning(s)\n",
      "    0 Error(s)\n",
      "\n",
      "Time Elapsed 00:00:01.61\n"
     ]
    }
   ],
   "source": [
    "#!pwsh\n",
    "Push-Location\n",
    "# build projects\n",
    "cd ../\n",
    "dotnet build\n",
    "Pop-Location"
   ]
  },
  {
   "cell_type": "code",
   "execution_count": 2,
   "metadata": {
    "dotnet_interactive": {
     "language": "csharp"
    },
    "polyglot_notebook": {
     "kernelName": "csharp"
    },
    "vscode": {
     "languageId": "polyglot-notebook"
    }
   },
   "outputs": [
    {
     "data": {
      "text/html": [
       "<div><div></div><div></div><div><strong>Installed Packages</strong><ul><li><span>ScottPlot, 5.0.39</span></li></ul></div></div>"
      ]
     },
     "metadata": {},
     "output_type": "display_data"
    },
    {
     "data": {
      "text/plain": [
       "Loading extensions from `C:\\Users\\netoo\\.nuget\\packages\\skiasharp\\2.88.8\\interactive-extensions\\dotnet\\SkiaSharp.DotNet.Interactive.dll`"
      ]
     },
     "metadata": {},
     "output_type": "display_data"
    }
   ],
   "source": [
    "#!csharp\n",
    "// add built packages\n",
    "#r \"..\\bin\\Debug\\net8.0\\Anpcp.Core.dll\"\n",
    "#r \"..\\bin\\Debug\\net8.0\\Anpcp.Interactive.dll\"\n",
    "// install plotter package\n",
    "#r \"nuget:ScottPlot\""
   ]
  },
  {
   "cell_type": "code",
   "execution_count": 3,
   "metadata": {
    "dotnet_interactive": {
     "language": "csharp"
    },
    "polyglot_notebook": {
     "kernelName": "csharp"
    },
    "vscode": {
     "languageId": "polyglot-notebook"
    }
   },
   "outputs": [],
   "source": [
    "// Setup a custom formatter to display plots as images\n",
    "using ScottPlot;\n",
    "using Microsoft.DotNet.Interactive.Formatting;\n",
    "Formatter.Register(typeof(Plot),\n",
    "    (p, w) => w.Write(\n",
    "        ((Plot)p).GetImageHtml(800, 600)),\n",
    "    HtmlFormatter.MimeType);"
   ]
  },
  {
   "cell_type": "code",
   "execution_count": 4,
   "metadata": {
    "dotnet_interactive": {
     "language": "csharp"
    },
    "polyglot_notebook": {
     "kernelName": "csharp"
    },
    "vscode": {
     "languageId": "polyglot-notebook"
    }
   },
   "outputs": [],
   "source": [
    "var seed = 2024101522;"
   ]
  },
  {
   "cell_type": "code",
   "execution_count": 5,
   "metadata": {
    "dotnet_interactive": {
     "language": "csharp"
    },
    "polyglot_notebook": {
     "kernelName": "csharp"
    },
    "vscode": {
     "languageId": "polyglot-notebook"
    }
   },
   "outputs": [],
   "source": [
    "using Anpcp.Core.Instances;\n",
    "\n",
    "var instance = new InstanceSameSet(10, 100, 100, seed: seed);"
   ]
  },
  {
   "cell_type": "code",
   "execution_count": 19,
   "metadata": {
    "dotnet_interactive": {
     "language": "csharp"
    },
    "polyglot_notebook": {
     "kernelName": "csharp"
    },
    "vscode": {
     "languageId": "polyglot-notebook"
    }
   },
   "outputs": [
    {
     "data": {
      "text/html": [
       "<div class=\"dni-plaintext\"><pre>True</pre></div><style>\r\n",
       ".dni-code-hint {\r\n",
       "    font-style: italic;\r\n",
       "    overflow: hidden;\r\n",
       "    white-space: nowrap;\r\n",
       "}\r\n",
       ".dni-treeview {\r\n",
       "    white-space: nowrap;\r\n",
       "}\r\n",
       ".dni-treeview td {\r\n",
       "    vertical-align: top;\r\n",
       "    text-align: start;\r\n",
       "}\r\n",
       "details.dni-treeview {\r\n",
       "    padding-left: 1em;\r\n",
       "}\r\n",
       "table td {\r\n",
       "    text-align: start;\r\n",
       "}\r\n",
       "table tr { \r\n",
       "    vertical-align: top; \r\n",
       "    margin: 0em 0px;\r\n",
       "}\r\n",
       "table tr td pre \r\n",
       "{ \r\n",
       "    vertical-align: top !important; \r\n",
       "    margin: 0em 0px !important;\r\n",
       "} \r\n",
       "table th {\r\n",
       "    text-align: start;\r\n",
       "}\r\n",
       "</style>"
      ]
     },
     "metadata": {},
     "output_type": "display_data"
    }
   ],
   "source": [
    "using Anpcp.Interactive.Pdp;\n",
    "\n",
    "var fgd = new FgdInteractive(5, instance, seed);\n",
    "// run to update memory with initial random center\n",
    "fgd.HurryForMemory();\n",
    "\n",
    "// run to have 2 centers\n",
    "fgd.TryIterateMain();\n",
    "fgd.HurryForMemory();\n",
    "\n",
    "// run to have 3 centers\n",
    "fgd.TryIterateMain()"
   ]
  },
  {
   "cell_type": "code",
   "execution_count": 21,
   "metadata": {
    "dotnet_interactive": {
     "language": "csharp"
    },
    "polyglot_notebook": {
     "kernelName": "csharp"
    },
    "vscode": {
     "languageId": "polyglot-notebook"
    }
   },
   "outputs": [
    {
     "data": {
      "text/html": [
       "<img src=\"data:image/png;base64,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\"></img>"
      ]
     },
     "metadata": {},
     "output_type": "display_data"
    }
   ],
   "source": [
    "using ColorName = System.Drawing.Color;\n",
    "\n",
    "fgd.PlotConfig = new() {\n",
    "    ScaleFactor = 2,\n",
    "    MarkerSize = 10,\n",
    "    MarkerOutlineWidth = 0.5f,\n",
    "    CfColor = ColorName.LightGray,\n",
    "    LiColor = ColorName.DeepSkyBlue,\n",
    "    CcColor = ColorName.PaleGreen\n",
    "};\n",
    "\n",
    "fgd.TryPlotForMemoryIteration()"
   ]
  },
  {
   "cell_type": "code",
   "execution_count": 8,
   "metadata": {
    "dotnet_interactive": {
     "language": "csharp"
    },
    "polyglot_notebook": {
     "kernelName": "csharp"
    },
    "vscode": {
     "languageId": "polyglot-notebook"
    }
   },
   "outputs": [
    {
     "data": {
      "text/html": [
       "<details open=\"open\" class=\"dni-treeview\"><summary><span class=\"dni-code-hint\"><code>[ 3, 9, 2 ]</code></span></summary><div><table><thead><tr></tr></thead><tbody><tr><td>Count</td><td><div class=\"dni-plaintext\"><pre>3</pre></div></td></tr><tr><td>Comparer</td><td><details class=\"dni-treeview\"><summary><span class=\"dni-code-hint\"><code>System.Collections.Generic.GenericEqualityComparer`1[System.Int32]</code></span></summary><div><table><thead><tr></tr></thead><tbody></tbody></table></div></details></td></tr><tr><td><i>(values)</i></td><td><div class=\"dni-plaintext\"><pre>[ 3, 9, 2 ]</pre></div></td></tr></tbody></table></div></details><style>\r\n",
       ".dni-code-hint {\r\n",
       "    font-style: italic;\r\n",
       "    overflow: hidden;\r\n",
       "    white-space: nowrap;\r\n",
       "}\r\n",
       ".dni-treeview {\r\n",
       "    white-space: nowrap;\r\n",
       "}\r\n",
       ".dni-treeview td {\r\n",
       "    vertical-align: top;\r\n",
       "    text-align: start;\r\n",
       "}\r\n",
       "details.dni-treeview {\r\n",
       "    padding-left: 1em;\r\n",
       "}\r\n",
       "table td {\r\n",
       "    text-align: start;\r\n",
       "}\r\n",
       "table tr { \r\n",
       "    vertical-align: top; \r\n",
       "    margin: 0em 0px;\r\n",
       "}\r\n",
       "table tr td pre \r\n",
       "{ \r\n",
       "    vertical-align: top !important; \r\n",
       "    margin: 0em 0px !important;\r\n",
       "} \r\n",
       "table th {\r\n",
       "    text-align: start;\r\n",
       "}\r\n",
       "</style>"
      ]
     },
     "metadata": {},
     "output_type": "display_data"
    }
   ],
   "source": [
    "fgd.Solution.OpenFacilities"
   ]
  },
  {
   "cell_type": "code",
   "execution_count": 9,
   "metadata": {
    "dotnet_interactive": {
     "language": "csharp"
    },
    "polyglot_notebook": {
     "kernelName": "csharp"
    },
    "vscode": {
     "languageId": "polyglot-notebook"
    }
   },
   "outputs": [],
   "source": []
  }
 ],
 "metadata": {
  "kernelspec": {
   "display_name": ".NET (C#)",
   "language": "C#",
   "name": ".net-csharp"
  },
  "language_info": {
   "name": "csharp"
  },
  "polyglot_notebook": {
   "kernelInfo": {
    "defaultKernelName": "csharp",
    "items": [
     {
      "aliases": [],
      "name": "csharp"
     }
    ]
   }
  }
 },
 "nbformat": 4,
 "nbformat_minor": 2
}
