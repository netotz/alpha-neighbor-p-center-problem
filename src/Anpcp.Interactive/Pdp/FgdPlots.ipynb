{
 "cells": [
  {
   "cell_type": "code",
   "execution_count": 1,
   "metadata": {
    "dotnet_interactive": {
     "language": "pwsh"
    },
    "polyglot_notebook": {
     "kernelName": "pwsh"
    },
    "vscode": {
     "languageId": "polyglot-notebook"
    }
   },
   "outputs": [
    {
     "name": "stdout",
     "output_type": "stream",
     "text": [
      "MSBuild version 17.9.6+a4ecab324 for .NET\n",
      "  Determining projects to restore...\n",
      "  All projects are up-to-date for restore.\n",
      "  Anpcp.Core -> C:\\Users\\netoo\\local-personal\\repos\\alpha-neighbor-p-center-problem\\src\\Anpcp.Core\\bin\\Debug\\net8.0\\Anpcp.Core.dll\n",
      "C:\\Users\\netoo\\local-personal\\repos\\alpha-neighbor-p-center-problem\\src\\Anpcp.Interactive\\Pdp\\FgdInteractive.cs(31,12): warning CS8618: Non-nullable property 'ClosedFacilitiesQueue' must contain a non-null value when exiting constructor. Consider declaring the property as nullable. [C:\\Users\\netoo\\local-personal\\repos\\alpha-neighbor-p-center-problem\\src\\Anpcp.Interactive\\Anpcp.Interactive.csproj]\n",
      "  Anpcp.Interactive -> C:\\Users\\netoo\\local-personal\\repos\\alpha-neighbor-p-center-problem\\src\\Anpcp.Interactive\\bin\\Debug\\net8.0\\Anpcp.Interactive.dll\n",
      "\n",
      "Build succeeded.\n",
      "\n",
      "C:\\Users\\netoo\\local-personal\\repos\\alpha-neighbor-p-center-problem\\src\\Anpcp.Interactive\\Pdp\\FgdInteractive.cs(31,12): warning CS8618: Non-nullable property 'ClosedFacilitiesQueue' must contain a non-null value when exiting constructor. Consider declaring the property as nullable. [C:\\Users\\netoo\\local-personal\\repos\\alpha-neighbor-p-center-problem\\src\\Anpcp.Interactive\\Anpcp.Interactive.csproj]\n",
      "    1 Warning(s)\n",
      "    0 Error(s)\n",
      "\n",
      "Time Elapsed 00:00:05.05\n"
     ]
    }
   ],
   "source": [
    "#!pwsh\n",
    "Push-Location\n",
    "# build projects\n",
    "cd ../\n",
    "dotnet build\n",
    "Pop-Location"
   ]
  },
  {
   "cell_type": "code",
   "execution_count": 2,
   "metadata": {
    "dotnet_interactive": {
     "language": "csharp"
    },
    "polyglot_notebook": {
     "kernelName": "csharp"
    },
    "vscode": {
     "languageId": "polyglot-notebook"
    }
   },
   "outputs": [
    {
     "data": {
      "text/html": [
       "<div><div></div><div></div><div><strong>Installed Packages</strong><ul><li><span>ScottPlot, 5.0.39</span></li></ul></div></div>"
      ]
     },
     "metadata": {},
     "output_type": "display_data"
    },
    {
     "data": {
      "text/plain": [
       "Loading extensions from `C:\\Users\\netoo\\.nuget\\packages\\skiasharp\\2.88.8\\interactive-extensions\\dotnet\\SkiaSharp.DotNet.Interactive.dll`"
      ]
     },
     "metadata": {},
     "output_type": "display_data"
    }
   ],
   "source": [
    "#!csharp\n",
    "// add built packages\n",
    "#r \"..\\bin\\Debug\\net8.0\\Anpcp.Core.dll\"\n",
    "#r \"..\\bin\\Debug\\net8.0\\Anpcp.Interactive.dll\"\n",
    "// install plotter package\n",
    "#r \"nuget:ScottPlot, 5.0.39\""
   ]
  },
  {
   "cell_type": "code",
   "execution_count": 3,
   "metadata": {
    "dotnet_interactive": {
     "language": "csharp"
    },
    "polyglot_notebook": {
     "kernelName": "csharp"
    },
    "vscode": {
     "languageId": "polyglot-notebook"
    }
   },
   "outputs": [],
   "source": [
    "// Setup a custom formatter to display plots as images\n",
    "using ScottPlot;\n",
    "using Microsoft.DotNet.Interactive.Formatting;\n",
    "Formatter.Register(typeof(Plot),\n",
    "    (p, w) => w.Write(\n",
    "        ((Plot)p).GetImageHtml(800, 500)),\n",
    "    HtmlFormatter.MimeType);"
   ]
  },
  {
   "cell_type": "code",
   "execution_count": 4,
   "metadata": {
    "dotnet_interactive": {
     "language": "csharp"
    },
    "polyglot_notebook": {
     "kernelName": "csharp"
    },
    "vscode": {
     "languageId": "polyglot-notebook"
    }
   },
   "outputs": [],
   "source": [
    "var seed = 2024101622;"
   ]
  },
  {
   "cell_type": "code",
   "execution_count": 5,
   "metadata": {
    "dotnet_interactive": {
     "language": "csharp"
    },
    "polyglot_notebook": {
     "kernelName": "csharp"
    },
    "vscode": {
     "languageId": "polyglot-notebook"
    }
   },
   "outputs": [],
   "source": [
    "using Anpcp.Core.Instances;\n",
    "\n",
    "var instance = new InstanceSameSet(10, 200, 125, seed: seed);"
   ]
  },
  {
   "cell_type": "code",
   "execution_count": 6,
   "metadata": {
    "vscode": {
     "languageId": "polyglot-notebook"
    }
   },
   "outputs": [
    {
     "name": "stdout",
     "output_type": "stream",
     "text": [
      "{0: 2147483647, 2: 2147483647, 3: 2147483647, 4: 2147483647, 5: 2147483647, 6: 2147483647, 7: 2147483647, 8: 2147483647, 9: 2147483647}\n",
      "min: li\n",
      "{0: 100, 2: 2147483647, 3: 2147483647, 4: 2147483647, 5: 2147483647, 6: 2147483647, 7: 2147483647, 8: 2147483647, 9: 2147483647}\n",
      "min: li\n",
      "{0: 100, 2: 65, 3: 2147483647, 4: 2147483647, 5: 2147483647, 6: 2147483647, 7: 2147483647, 8: 2147483647, 9: 2147483647}\n",
      "min: li\n",
      "{0: 100, 2: 65, 3: 57, 4: 2147483647, 5: 2147483647, 6: 2147483647, 7: 2147483647, 8: 2147483647, 9: 2147483647}\n",
      "min: li\n",
      "{0: 100, 2: 65, 3: 57, 4: 188, 5: 2147483647, 6: 2147483647, 7: 2147483647, 8: 2147483647, 9: 2147483647}\n",
      "min: li\n",
      "{0: 100, 2: 65, 3: 57, 4: 188, 5: 168, 6: 2147483647, 7: 2147483647, 8: 2147483647, 9: 2147483647}\n",
      "min: li\n",
      "{0: 100, 2: 65, 3: 57, 4: 188, 5: 168, 6: 173, 7: 2147483647, 8: 2147483647, 9: 2147483647}\n",
      "min: li\n",
      "{0: 100, 2: 65, 3: 57, 4: 188, 5: 168, 6: 173, 7: 146, 8: 2147483647, 9: 2147483647}\n",
      "min: li\n",
      "{0: 100, 2: 65, 3: 57, 4: 188, 5: 168, 6: 173, 7: 146, 8: 102, 9: 2147483647}\n",
      "min: li\n",
      "{0: 100, 2: 65, 3: 57, 5: 168, 6: 173, 7: 146, 8: 102, 9: 113}\n",
      "min: li\n",
      "{0: 100, 2: 65, 3: 57, 5: 168, 6: 173, 7: 146, 8: 102, 9: 113}\n",
      "{0: 100, 2: 65, 3: 57, 5: 168, 6: 173, 7: 146, 8: 102, 9: 113}\n",
      "{0: 100, 2: 65, 3: 57, 5: 168, 6: 173, 7: 146, 8: 102, 9: 113}\n",
      "min: li\n",
      "{0: 100, 2: 65, 3: 57, 5: 24, 6: 173, 7: 146, 8: 102, 9: 113}\n",
      "min: li\n",
      "{0: 100, 2: 65, 3: 57, 5: 24, 6: 88, 7: 146, 8: 102, 9: 113}\n",
      "min: li\n",
      "{0: 100, 2: 65, 3: 57, 5: 24, 6: 88, 7: 41, 8: 102, 9: 113}\n",
      "min: li\n",
      "{0: 100, 2: 65, 3: 57, 5: 24, 6: 88, 7: 41, 8: 92, 9: 113}\n",
      "{0: 100, 2: 65, 3: 57, 5: 24, 6: 88, 7: 41, 8: 92, 9: 113}\n"
     ]
    },
    {
     "data": {
      "text/html": [
       "<img src=\"data:image/png;base64,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\"></img>"
      ]
     },
     "metadata": {},
     "output_type": "display_data"
    }
   ],
   "source": [
    "using Anpcp.Interactive.Pdp;\n",
    "\n",
    "var fgd = new FgdInteractive(5, instance, seed);\n",
    "// run to have 3 centers\n",
    "fgd.TryPlotMainIteration()"
   ]
  },
  {
   "cell_type": "code",
   "execution_count": 7,
   "metadata": {
    "dotnet_interactive": {
     "language": "csharp"
    },
    "polyglot_notebook": {
     "kernelName": "csharp"
    },
    "vscode": {
     "languageId": "polyglot-notebook"
    }
   },
   "outputs": [
    {
     "name": "stdout",
     "output_type": "stream",
     "text": [
      "{0: 100, 2: 65, 3: 57, 5: 24, 6: 88, 7: 41, 8: 92}\n",
      "min: li\n",
      "{0: 30, 2: 65, 3: 57, 5: 24, 6: 88, 7: 41, 8: 92}\n",
      "min: li\n",
      "{0: 30, 2: 58, 3: 57, 5: 24, 6: 88, 7: 41, 8: 92}\n",
      "{0: 30, 2: 58, 3: 57, 5: 24, 6: 88, 7: 41, 8: 92}\n",
      "{0: 30, 2: 58, 3: 57, 5: 24, 6: 88, 7: 41, 8: 92}\n",
      "min: li\n",
      "{0: 30, 2: 58, 3: 57, 5: 24, 6: 62, 7: 41, 8: 92}\n",
      "{0: 30, 2: 58, 3: 57, 5: 24, 6: 62, 7: 41, 8: 92}\n",
      "min: li\n"
     ]
    }
   ],
   "source": [
    "using ColorName = System.Drawing.Color;\n",
    "\n",
    "fgd.PlotConfig = new() {\n",
    "    // ScaleFactor = 2\n",
    "};\n",
    "\n",
    "// fgd.TryPlotForMemoryIteration()\n",
    "while (fgd.ClosedFacilitiesQueue.TryPeek(out var fi))\n",
    "{\n",
    "    fgd.TryPlotForMemoryIteration(savePath: @$\"img\\fgd_mem{fi}.png\");\n",
    "}"
   ]
  },
  {
   "cell_type": "code",
   "execution_count": 8,
   "metadata": {
    "vscode": {
     "languageId": "polyglot-notebook"
    }
   },
   "outputs": [
    {
     "name": "stdout",
     "output_type": "stream",
     "text": [
      "{0: 30, 2: 58, 3: 57, 5: 24, 6: 62, 7: 41, 8: 39}\r\n"
     ]
    }
   ],
   "source": [
    "fgd.TryPlotMainIteration(savePath: @$\"img\\fgd_inserted.png\");"
   ]
  },
  {
   "cell_type": "code",
   "execution_count": 9,
   "metadata": {
    "vscode": {
     "languageId": "polyglot-notebook"
    }
   },
   "outputs": [],
   "source": []
  }
 ],
 "metadata": {
  "kernelspec": {
   "display_name": ".NET (C#)",
   "language": "C#",
   "name": ".net-csharp"
  },
  "language_info": {
   "name": "csharp"
  },
  "polyglot_notebook": {
   "kernelInfo": {
    "defaultKernelName": "csharp",
    "items": [
     {
      "aliases": [],
      "name": "csharp"
     }
    ]
   }
  }
 },
 "nbformat": 4,
 "nbformat_minor": 2
}
